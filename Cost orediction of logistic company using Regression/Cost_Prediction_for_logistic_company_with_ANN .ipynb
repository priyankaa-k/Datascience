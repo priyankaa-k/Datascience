{
 "cells": [
  {
   "cell_type": "markdown",
   "metadata": {
    "id": "4_xFUMBvSQLV"
   },
   "source": [
    "## **Cost Prediction for logistic company with ANN**"
   ]
  },
  {
   "cell_type": "markdown",
   "metadata": {
    "id": "viSv337zqSMI"
   },
   "source": [
    "The main aim is to predict the cost of a trip of a logistic company based on various features"
   ]
  },
  {
   "cell_type": "markdown",
   "metadata": {
    "id": "a8UiHN9zqknn"
   },
   "source": [
    "# Main steps\n",
    "1.   Data exploration\n",
    "2.   Feature engineering\n",
    "3.   Handling missing values\n",
    "5.   Handling outliers\n",
    "6.   Data normalization\n",
    "7.   ML model building\n",
    "8.   Model deployment\n",
    "\n",
    "\n",
    "\n",
    "\n",
    "\n",
    "\n",
    "\n",
    "\n",
    "\n",
    "\n",
    "\n",
    "\n",
    "\n",
    "\n",
    "\n",
    "\n",
    "\n",
    "\n",
    "\n",
    "\n"
   ]
  },
  {
   "cell_type": "code",
   "execution_count": 2,
   "metadata": {
    "colab": {
     "base_uri": "https://localhost:8080/"
    },
    "id": "naLlByRt42_5",
    "outputId": "74e3886c-fdc2-48b1-d433-291876c38546"
   },
   "outputs": [
    {
     "name": "stdout",
     "output_type": "stream",
     "text": [
      "Requirement already satisfied: scikeras in /opt/anaconda3/lib/python3.8/site-packages (0.11.0)\n",
      "Requirement already satisfied: packaging>=0.21 in /opt/anaconda3/lib/python3.8/site-packages (from scikeras) (23.1)\n",
      "Collecting scikit-learn>=1.0.0 (from scikeras)\n",
      "  Obtaining dependency information for scikit-learn>=1.0.0 from https://files.pythonhosted.org/packages/33/cb/0e41fad5b30fd66925e47952ddc720d078bdfd8397584a4873ec1cf590ca/scikit_learn-1.3.0-cp38-cp38-macosx_10_9_x86_64.whl.metadata\n",
      "  Downloading scikit_learn-1.3.0-cp38-cp38-macosx_10_9_x86_64.whl.metadata (11 kB)\n",
      "Requirement already satisfied: numpy>=1.17.3 in /opt/anaconda3/lib/python3.8/site-packages (from scikit-learn>=1.0.0->scikeras) (1.24.3)\n",
      "Requirement already satisfied: scipy>=1.5.0 in /opt/anaconda3/lib/python3.8/site-packages (from scikit-learn>=1.0.0->scikeras) (1.10.1)\n",
      "Requirement already satisfied: joblib>=1.1.1 in /opt/anaconda3/lib/python3.8/site-packages (from scikit-learn>=1.0.0->scikeras) (1.3.2)\n",
      "Requirement already satisfied: threadpoolctl>=2.0.0 in /opt/anaconda3/lib/python3.8/site-packages (from scikit-learn>=1.0.0->scikeras) (3.2.0)\n",
      "Using cached scikit_learn-1.3.0-cp38-cp38-macosx_10_9_x86_64.whl (10.1 MB)\n",
      "\u001b[33mDEPRECATION: pyodbc 4.0.0-unsupported has a non-standard version number. pip 23.3 will enforce this behaviour change. A possible replacement is to upgrade to a newer version of pyodbc or contact the author to suggest that they release a version with a conforming version number. Discussion can be found at https://github.com/pypa/pip/issues/12063\u001b[0m\u001b[33m\n",
      "\u001b[0mInstalling collected packages: scikit-learn\n",
      "  Attempting uninstall: scikit-learn\n",
      "    Found existing installation: scikit-learn 0.24.2\n",
      "    Uninstalling scikit-learn-0.24.2:\n",
      "      Successfully uninstalled scikit-learn-0.24.2\n",
      "Successfully installed scikit-learn-1.3.0\n"
     ]
    }
   ],
   "source": [
    "#library to use KerasClassifier\n",
    "!pip install scikeras"
   ]
  },
  {
   "cell_type": "code",
   "execution_count": 1,
   "metadata": {
    "id": "mipSh7nJswQ7"
   },
   "outputs": [],
   "source": [
    "#import of the libraries needed for the project\n",
    "import pandas as pd\n",
    "import numpy as np\n",
    "from datetime import datetime\n",
    "import seaborn as sns\n",
    "import matplotlib.pyplot as plt\n",
    "import missingno as msno\n",
    "from sklearn import linear_model, preprocessing, feature_selection\n",
    "from sklearn.model_selection import train_test_split\n",
    "from scipy.stats import pearsonr"
   ]
  },
  {
   "cell_type": "code",
   "execution_count": 2,
   "metadata": {
    "colab": {
     "base_uri": "https://localhost:8080/",
     "height": 313
    },
    "id": "3k_qWh4JQ8Nk",
    "outputId": "941c82a5-b3ee-4a3b-cf0d-840e76d2df77"
   },
   "outputs": [
    {
     "data": {
      "text/html": [
       "<div>\n",
       "<style scoped>\n",
       "    .dataframe tbody tr th:only-of-type {\n",
       "        vertical-align: middle;\n",
       "    }\n",
       "\n",
       "    .dataframe tbody tr th {\n",
       "        vertical-align: top;\n",
       "    }\n",
       "\n",
       "    .dataframe thead th {\n",
       "        text-align: right;\n",
       "    }\n",
       "</style>\n",
       "<table border=\"1\" class=\"dataframe\">\n",
       "  <thead>\n",
       "    <tr style=\"text-align: right;\">\n",
       "      <th></th>\n",
       "      <th>trip</th>\n",
       "      <th>date</th>\n",
       "      <th>dayPart</th>\n",
       "      <th>exWeatherTag</th>\n",
       "      <th>originLocation</th>\n",
       "      <th>destinationLocation</th>\n",
       "      <th>distance</th>\n",
       "      <th>type</th>\n",
       "      <th>weight</th>\n",
       "      <th>packageType</th>\n",
       "      <th>carrier</th>\n",
       "      <th>cost</th>\n",
       "    </tr>\n",
       "  </thead>\n",
       "  <tbody>\n",
       "    <tr>\n",
       "      <th>0</th>\n",
       "      <td>t52712528</td>\n",
       "      <td>2017-09-06</td>\n",
       "      <td>night</td>\n",
       "      <td>NaN</td>\n",
       "      <td>S4</td>\n",
       "      <td>D7</td>\n",
       "      <td>2200</td>\n",
       "      <td>expedited</td>\n",
       "      <td>50</td>\n",
       "      <td>NaN</td>\n",
       "      <td>D</td>\n",
       "      <td>68.413152</td>\n",
       "    </tr>\n",
       "    <tr>\n",
       "      <th>1</th>\n",
       "      <td>t29859381</td>\n",
       "      <td>2017-10-21</td>\n",
       "      <td>night</td>\n",
       "      <td>NaN</td>\n",
       "      <td>S8</td>\n",
       "      <td>D1</td>\n",
       "      <td>1800</td>\n",
       "      <td>NaN</td>\n",
       "      <td>12</td>\n",
       "      <td>NaN</td>\n",
       "      <td>B</td>\n",
       "      <td>36.450649</td>\n",
       "    </tr>\n",
       "    <tr>\n",
       "      <th>2</th>\n",
       "      <td>t25702332</td>\n",
       "      <td>2017-07-15</td>\n",
       "      <td>night</td>\n",
       "      <td>NaN</td>\n",
       "      <td>S9</td>\n",
       "      <td>D5</td>\n",
       "      <td>2800</td>\n",
       "      <td>NaN</td>\n",
       "      <td>1</td>\n",
       "      <td>NaN</td>\n",
       "      <td>B</td>\n",
       "      <td>9.057939</td>\n",
       "    </tr>\n",
       "    <tr>\n",
       "      <th>3</th>\n",
       "      <td>t27713405</td>\n",
       "      <td>2017-10-22</td>\n",
       "      <td>day</td>\n",
       "      <td>NaN</td>\n",
       "      <td>S9</td>\n",
       "      <td>D7</td>\n",
       "      <td>3200</td>\n",
       "      <td>NaN</td>\n",
       "      <td>50</td>\n",
       "      <td>NaN</td>\n",
       "      <td>C</td>\n",
       "      <td>57.320087</td>\n",
       "    </tr>\n",
       "    <tr>\n",
       "      <th>4</th>\n",
       "      <td>t49439220</td>\n",
       "      <td>2019-12-11</td>\n",
       "      <td>day</td>\n",
       "      <td>snow</td>\n",
       "      <td>S9</td>\n",
       "      <td>D1</td>\n",
       "      <td>2000</td>\n",
       "      <td>NaN</td>\n",
       "      <td>43</td>\n",
       "      <td>NaN</td>\n",
       "      <td>B</td>\n",
       "      <td>77.263777</td>\n",
       "    </tr>\n",
       "  </tbody>\n",
       "</table>\n",
       "</div>"
      ],
      "text/plain": [
       "        trip        date dayPart exWeatherTag originLocation  \\\n",
       "0  t52712528  2017-09-06   night          NaN             S4   \n",
       "1  t29859381  2017-10-21   night          NaN             S8   \n",
       "2  t25702332  2017-07-15   night          NaN             S9   \n",
       "3  t27713405  2017-10-22     day          NaN             S9   \n",
       "4  t49439220  2019-12-11     day         snow             S9   \n",
       "\n",
       "  destinationLocation  distance       type  weight packageType carrier  \\\n",
       "0                  D7      2200  expedited      50         NaN       D   \n",
       "1                  D1      1800        NaN      12         NaN       B   \n",
       "2                  D5      2800        NaN       1         NaN       B   \n",
       "3                  D7      3200        NaN      50         NaN       C   \n",
       "4                  D1      2000        NaN      43         NaN       B   \n",
       "\n",
       "        cost  \n",
       "0  68.413152  \n",
       "1  36.450649  \n",
       "2   9.057939  \n",
       "3  57.320087  \n",
       "4  77.263777  "
      ]
     },
     "execution_count": 2,
     "metadata": {},
     "output_type": "execute_result"
    }
   ],
   "source": [
    "#import of the train data\n",
    "train = pd.read_csv(\"https://raw.githubusercontent.com/priyankaa-k/Databases1/main/Regression_train.csv\")\n",
    "train.head()"
   ]
  },
  {
   "cell_type": "markdown",
   "metadata": {
    "id": "V9tW8Rv_lV3-"
   },
   "source": [
    "# **Data exploration**"
   ]
  },
  {
   "cell_type": "code",
   "execution_count": 5,
   "metadata": {
    "colab": {
     "base_uri": "https://localhost:8080/"
    },
    "id": "S9X_V9h1RAwt",
    "outputId": "9c777ec0-ce6a-4869-ba2a-e846f664af02"
   },
   "outputs": [
    {
     "name": "stdout",
     "output_type": "stream",
     "text": [
      "shape of the Original data (38999, 12)\n"
     ]
    }
   ],
   "source": [
    "#Data exploration\n",
    "print(\"shape of the Original data\",train.shape)"
   ]
  },
  {
   "cell_type": "code",
   "execution_count": 6,
   "metadata": {
    "colab": {
     "base_uri": "https://localhost:8080/",
     "height": 300
    },
    "id": "CVWpLbrrHxRS",
    "outputId": "66f19551-2798-4353-888a-be2f2c9e84c0"
   },
   "outputs": [
    {
     "data": {
      "text/html": [
       "<div>\n",
       "<style scoped>\n",
       "    .dataframe tbody tr th:only-of-type {\n",
       "        vertical-align: middle;\n",
       "    }\n",
       "\n",
       "    .dataframe tbody tr th {\n",
       "        vertical-align: top;\n",
       "    }\n",
       "\n",
       "    .dataframe thead th {\n",
       "        text-align: right;\n",
       "    }\n",
       "</style>\n",
       "<table border=\"1\" class=\"dataframe\">\n",
       "  <thead>\n",
       "    <tr style=\"text-align: right;\">\n",
       "      <th></th>\n",
       "      <th>distance</th>\n",
       "      <th>weight</th>\n",
       "      <th>cost</th>\n",
       "    </tr>\n",
       "  </thead>\n",
       "  <tbody>\n",
       "    <tr>\n",
       "      <th>count</th>\n",
       "      <td>38999.000000</td>\n",
       "      <td>38999.000000</td>\n",
       "      <td>38999.000000</td>\n",
       "    </tr>\n",
       "    <tr>\n",
       "      <th>mean</th>\n",
       "      <td>2004.061643</td>\n",
       "      <td>42.293033</td>\n",
       "      <td>80.972210</td>\n",
       "    </tr>\n",
       "    <tr>\n",
       "      <th>std</th>\n",
       "      <td>728.996843</td>\n",
       "      <td>75.473752</td>\n",
       "      <td>180.715055</td>\n",
       "    </tr>\n",
       "    <tr>\n",
       "      <th>min</th>\n",
       "      <td>400.000000</td>\n",
       "      <td>1.000000</td>\n",
       "      <td>5.000000</td>\n",
       "    </tr>\n",
       "    <tr>\n",
       "      <th>25%</th>\n",
       "      <td>1400.000000</td>\n",
       "      <td>13.000000</td>\n",
       "      <td>38.768742</td>\n",
       "    </tr>\n",
       "    <tr>\n",
       "      <th>50%</th>\n",
       "      <td>2000.000000</td>\n",
       "      <td>25.000000</td>\n",
       "      <td>46.468476</td>\n",
       "    </tr>\n",
       "    <tr>\n",
       "      <th>75%</th>\n",
       "      <td>2600.000000</td>\n",
       "      <td>39.000000</td>\n",
       "      <td>70.239797</td>\n",
       "    </tr>\n",
       "    <tr>\n",
       "      <th>max</th>\n",
       "      <td>3600.000000</td>\n",
       "      <td>500.000000</td>\n",
       "      <td>2019.734797</td>\n",
       "    </tr>\n",
       "  </tbody>\n",
       "</table>\n",
       "</div>"
      ],
      "text/plain": [
       "           distance        weight          cost\n",
       "count  38999.000000  38999.000000  38999.000000\n",
       "mean    2004.061643     42.293033     80.972210\n",
       "std      728.996843     75.473752    180.715055\n",
       "min      400.000000      1.000000      5.000000\n",
       "25%     1400.000000     13.000000     38.768742\n",
       "50%     2000.000000     25.000000     46.468476\n",
       "75%     2600.000000     39.000000     70.239797\n",
       "max     3600.000000    500.000000   2019.734797"
      ]
     },
     "execution_count": 6,
     "metadata": {},
     "output_type": "execute_result"
    }
   ],
   "source": [
    "#Describtion of the data\n",
    "train.describe()"
   ]
  },
  {
   "cell_type": "code",
   "execution_count": 7,
   "metadata": {
    "colab": {
     "base_uri": "https://localhost:8080/"
    },
    "id": "cjLaf7iGRFcq",
    "outputId": "b15f270c-c35b-4d3b-ada0-5f31abede012"
   },
   "outputs": [
    {
     "name": "stdout",
     "output_type": "stream",
     "text": [
      "<class 'pandas.core.frame.DataFrame'>\n",
      "RangeIndex: 38999 entries, 0 to 38998\n",
      "Data columns (total 12 columns):\n",
      " #   Column               Non-Null Count  Dtype  \n",
      "---  ------               --------------  -----  \n",
      " 0   trip                 38999 non-null  object \n",
      " 1   date                 38999 non-null  object \n",
      " 2   dayPart              38999 non-null  object \n",
      " 3   exWeatherTag         4882 non-null   object \n",
      " 4   originLocation       38999 non-null  object \n",
      " 5   destinationLocation  38999 non-null  object \n",
      " 6   distance             38999 non-null  int64  \n",
      " 7   type                 3748 non-null   object \n",
      " 8   weight               38999 non-null  int64  \n",
      " 9   packageType          2500 non-null   object \n",
      " 10  carrier              38999 non-null  object \n",
      " 11  cost                 38999 non-null  float64\n",
      "dtypes: float64(1), int64(2), object(9)\n",
      "memory usage: 3.6+ MB\n"
     ]
    }
   ],
   "source": [
    "#checking the Dtype of the features\n",
    "train.info()"
   ]
  },
  {
   "cell_type": "markdown",
   "metadata": {
    "id": "HxCLcLfpSdZW"
   },
   "source": [
    "# Data preprocessing"
   ]
  },
  {
   "cell_type": "markdown",
   "metadata": {
    "id": "EQbhAJNhSom8"
   },
   "source": [
    "Feature engineering"
   ]
  },
  {
   "cell_type": "code",
   "execution_count": 3,
   "metadata": {
    "id": "_nYfPLAWR5Ny"
   },
   "outputs": [],
   "source": [
    "#Function to feature engineer the date attribute by separting the date value into data,month and year\n",
    "def feature_engg(df):\n",
    "  #As date is object type first changing its datatype to datetime\n",
    "  df['date']=pd.to_datetime(df['date'])\n",
    "  #creating new feature Trip_date which will have all the dates\n",
    "  df['Trip_date'] = df['date'].dt.day\n",
    "   #creating new feature Trip_year which will have all the years\n",
    "  df['Trip_year'] = pd.DatetimeIndex(df.date).year\n",
    "  #creating new feature Trip_month which will have all the months\n",
    "  df['Trip_month'] = pd.DatetimeIndex(df.date).month\n",
    "  #creating new feature Trip_day which will have all the days\n",
    "  df['Trip_day'] =  df['date'].dt.day_name()\n",
    "  return df"
   ]
  },
  {
   "cell_type": "code",
   "execution_count": 4,
   "metadata": {
    "colab": {
     "base_uri": "https://localhost:8080/",
     "height": 313
    },
    "id": "o3VFK9vRTOnv",
    "outputId": "8581b990-fc8e-4ede-da82-a7db23cd09f9"
   },
   "outputs": [
    {
     "data": {
      "text/html": [
       "<div>\n",
       "<style scoped>\n",
       "    .dataframe tbody tr th:only-of-type {\n",
       "        vertical-align: middle;\n",
       "    }\n",
       "\n",
       "    .dataframe tbody tr th {\n",
       "        vertical-align: top;\n",
       "    }\n",
       "\n",
       "    .dataframe thead th {\n",
       "        text-align: right;\n",
       "    }\n",
       "</style>\n",
       "<table border=\"1\" class=\"dataframe\">\n",
       "  <thead>\n",
       "    <tr style=\"text-align: right;\">\n",
       "      <th></th>\n",
       "      <th>trip</th>\n",
       "      <th>date</th>\n",
       "      <th>dayPart</th>\n",
       "      <th>exWeatherTag</th>\n",
       "      <th>originLocation</th>\n",
       "      <th>destinationLocation</th>\n",
       "      <th>distance</th>\n",
       "      <th>type</th>\n",
       "      <th>weight</th>\n",
       "      <th>packageType</th>\n",
       "      <th>carrier</th>\n",
       "      <th>cost</th>\n",
       "      <th>Trip_date</th>\n",
       "      <th>Trip_year</th>\n",
       "      <th>Trip_month</th>\n",
       "      <th>Trip_day</th>\n",
       "    </tr>\n",
       "  </thead>\n",
       "  <tbody>\n",
       "    <tr>\n",
       "      <th>0</th>\n",
       "      <td>t52712528</td>\n",
       "      <td>2017-09-06</td>\n",
       "      <td>night</td>\n",
       "      <td>NaN</td>\n",
       "      <td>S4</td>\n",
       "      <td>D7</td>\n",
       "      <td>2200</td>\n",
       "      <td>expedited</td>\n",
       "      <td>50</td>\n",
       "      <td>NaN</td>\n",
       "      <td>D</td>\n",
       "      <td>68.413152</td>\n",
       "      <td>6</td>\n",
       "      <td>2017</td>\n",
       "      <td>9</td>\n",
       "      <td>Wednesday</td>\n",
       "    </tr>\n",
       "    <tr>\n",
       "      <th>1</th>\n",
       "      <td>t29859381</td>\n",
       "      <td>2017-10-21</td>\n",
       "      <td>night</td>\n",
       "      <td>NaN</td>\n",
       "      <td>S8</td>\n",
       "      <td>D1</td>\n",
       "      <td>1800</td>\n",
       "      <td>NaN</td>\n",
       "      <td>12</td>\n",
       "      <td>NaN</td>\n",
       "      <td>B</td>\n",
       "      <td>36.450649</td>\n",
       "      <td>21</td>\n",
       "      <td>2017</td>\n",
       "      <td>10</td>\n",
       "      <td>Saturday</td>\n",
       "    </tr>\n",
       "    <tr>\n",
       "      <th>2</th>\n",
       "      <td>t25702332</td>\n",
       "      <td>2017-07-15</td>\n",
       "      <td>night</td>\n",
       "      <td>NaN</td>\n",
       "      <td>S9</td>\n",
       "      <td>D5</td>\n",
       "      <td>2800</td>\n",
       "      <td>NaN</td>\n",
       "      <td>1</td>\n",
       "      <td>NaN</td>\n",
       "      <td>B</td>\n",
       "      <td>9.057939</td>\n",
       "      <td>15</td>\n",
       "      <td>2017</td>\n",
       "      <td>7</td>\n",
       "      <td>Saturday</td>\n",
       "    </tr>\n",
       "    <tr>\n",
       "      <th>3</th>\n",
       "      <td>t27713405</td>\n",
       "      <td>2017-10-22</td>\n",
       "      <td>day</td>\n",
       "      <td>NaN</td>\n",
       "      <td>S9</td>\n",
       "      <td>D7</td>\n",
       "      <td>3200</td>\n",
       "      <td>NaN</td>\n",
       "      <td>50</td>\n",
       "      <td>NaN</td>\n",
       "      <td>C</td>\n",
       "      <td>57.320087</td>\n",
       "      <td>22</td>\n",
       "      <td>2017</td>\n",
       "      <td>10</td>\n",
       "      <td>Sunday</td>\n",
       "    </tr>\n",
       "    <tr>\n",
       "      <th>4</th>\n",
       "      <td>t49439220</td>\n",
       "      <td>2019-12-11</td>\n",
       "      <td>day</td>\n",
       "      <td>snow</td>\n",
       "      <td>S9</td>\n",
       "      <td>D1</td>\n",
       "      <td>2000</td>\n",
       "      <td>NaN</td>\n",
       "      <td>43</td>\n",
       "      <td>NaN</td>\n",
       "      <td>B</td>\n",
       "      <td>77.263777</td>\n",
       "      <td>11</td>\n",
       "      <td>2019</td>\n",
       "      <td>12</td>\n",
       "      <td>Wednesday</td>\n",
       "    </tr>\n",
       "  </tbody>\n",
       "</table>\n",
       "</div>"
      ],
      "text/plain": [
       "        trip       date dayPart exWeatherTag originLocation  \\\n",
       "0  t52712528 2017-09-06   night          NaN             S4   \n",
       "1  t29859381 2017-10-21   night          NaN             S8   \n",
       "2  t25702332 2017-07-15   night          NaN             S9   \n",
       "3  t27713405 2017-10-22     day          NaN             S9   \n",
       "4  t49439220 2019-12-11     day         snow             S9   \n",
       "\n",
       "  destinationLocation  distance       type  weight packageType carrier  \\\n",
       "0                  D7      2200  expedited      50         NaN       D   \n",
       "1                  D1      1800        NaN      12         NaN       B   \n",
       "2                  D5      2800        NaN       1         NaN       B   \n",
       "3                  D7      3200        NaN      50         NaN       C   \n",
       "4                  D1      2000        NaN      43         NaN       B   \n",
       "\n",
       "        cost  Trip_date  Trip_year  Trip_month   Trip_day  \n",
       "0  68.413152          6       2017           9  Wednesday  \n",
       "1  36.450649         21       2017          10   Saturday  \n",
       "2   9.057939         15       2017           7   Saturday  \n",
       "3  57.320087         22       2017          10     Sunday  \n",
       "4  77.263777         11       2019          12  Wednesday  "
      ]
     },
     "execution_count": 4,
     "metadata": {},
     "output_type": "execute_result"
    }
   ],
   "source": [
    "#Applying feature_engg function to train DF\n",
    "feature_engg(train)\n",
    "train.head()"
   ]
  },
  {
   "cell_type": "markdown",
   "metadata": {
    "id": "Ur0R61DaUoXs"
   },
   "source": [
    "## Missing values"
   ]
  },
  {
   "cell_type": "markdown",
   "metadata": {
    "id": "x7B0TaVuUtX0"
   },
   "source": [
    "Visualizing missing values"
   ]
  },
  {
   "cell_type": "code",
   "execution_count": 10,
   "metadata": {
    "colab": {
     "base_uri": "https://localhost:8080/"
    },
    "id": "kEIWo3vNTUgS",
    "outputId": "97fd6bcb-9be5-4f54-e91c-160965a7dbff"
   },
   "outputs": [
    {
     "data": {
      "text/plain": [
       "trip                       0\n",
       "date                       0\n",
       "dayPart                    0\n",
       "exWeatherTag           34117\n",
       "originLocation             0\n",
       "destinationLocation        0\n",
       "distance                   0\n",
       "type                   35251\n",
       "weight                     0\n",
       "packageType            36499\n",
       "carrier                    0\n",
       "cost                       0\n",
       "Trip_date                  0\n",
       "Trip_year                  0\n",
       "Trip_month                 0\n",
       "Trip_day                   0\n",
       "dtype: int64"
      ]
     },
     "execution_count": 10,
     "metadata": {},
     "output_type": "execute_result"
    }
   ],
   "source": [
    "#Checking for count of null values\n",
    "train.isnull().sum()"
   ]
  },
  {
   "cell_type": "code",
   "execution_count": 11,
   "metadata": {
    "colab": {
     "base_uri": "https://localhost:8080/",
     "height": 560
    },
    "id": "cRZONb94PWNV",
    "outputId": "933bb181-facc-497b-9b48-b4dada78241d"
   },
   "outputs": [
    {
     "data": {
      "image/png": "[encoded data removed]",
      "text/plain": [
       "<Figure size 432x288 with 1 Axes>"
      ]
     },
     "metadata": {
      "needs_background": "light"
     },
     "output_type": "display_data"
    }
   ],
   "source": [
    "#Heat map which highlights missing values with yellow color in train df.\n",
    "sns.heatmap(train.isnull(),  cmap='viridis', cbar=False)\n",
    "\n",
    "# Show the plot\n",
    "plt.show()"
   ]
  },
  {
   "cell_type": "markdown",
   "metadata": {
    "id": "Nai926dtusbO"
   },
   "source": [
    "The above heat map shows the features exWheatherTag, type, package_type has a lot of missing values.\n",
    "\n",
    "Let's plot these features with Cost to visualize the realation"
   ]
  },
  {
   "cell_type": "code",
   "execution_count": 12,
   "metadata": {
    "id": "ml5pU2QcuECy"
   },
   "outputs": [],
   "source": [
    "## make the list of features which has missing values\n",
    "features_with_na= [features for features in train.columns if train[features].isnull().sum()>1]\n"
   ]
  },
  {
   "cell_type": "code",
   "execution_count": 13,
   "metadata": {
    "colab": {
     "base_uri": "https://localhost:8080/",
     "height": 1000
    },
    "id": "fVvflnLDMzqp",
    "outputId": "24b8a171-44f6-46d8-e500-76474361ab2e"
   },
   "outputs": [
    {
     "data": {
      "image/png": "[encoded data removed]",
      "text/plain": [
       "<Figure size 432x288 with 1 Axes>"
      ]
     },
     "metadata": {
      "needs_background": "light"
     },
     "output_type": "display_data"
    },
    {
     "data": {
      "image/png": "[encoded data removed]",
      "text/plain": [
       "<Figure size 432x288 with 1 Axes>"
      ]
     },
     "metadata": {
      "needs_background": "light"
     },
     "output_type": "display_data"
    },
    {
     "data": {
      "image/png": "[encoded data removed]",
      "text/plain": [
       "<Figure size 432x288 with 1 Axes>"
      ]
     },
     "metadata": {
      "needs_background": "light"
     },
     "output_type": "display_data"
    }
   ],
   "source": [
    "import os\n",
    "import warnings\n",
    "warnings.filterwarnings('ignore')\n",
    "os.environ[\"TF_CPP_MIN_LOG_LEVEL\"]=\"5\"\n",
    "for feature in features_with_na:\n",
    "    train_copy = train.copy()\n",
    "\n",
    "    # let's make a variable that indicates 1 if the observation was missing or zero otherwise\n",
    "    train_copy[feature] = np.where(train_copy[feature].isnull(), 'missing_data',train_copy[feature] )\n",
    "\n",
    "    # let's calculate the mean cost where the information is missing or present\n",
    "    ax = sns.barplot(x=feature, y='cost', data=train_copy, estimator=np.median, hue=feature)\n",
    "\n",
    "    ax.set_title('Visualizing missing values of '+feature)\n",
    "    ax.set_xlabel('Missing')\n",
    "    ax.set_ylabel('Median Cost')\n",
    "\n",
    "    plt.show()"
   ]
  },
  {
   "cell_type": "markdown",
   "metadata": {
    "id": "zPO1NMhbu7vs"
   },
   "source": [
    "Here With  the relation between the missing values and the dependent variable is clearly visible.So We need to replace these nan values with something meaningful which we will do in the further section. However we can observe that feature pacakageType has less relation with cost. So we can drop the feature"
   ]
  },
  {
   "cell_type": "markdown",
   "metadata": {
    "id": "DBb6QIOtU-wP"
   },
   "source": [
    "Handling missing values"
   ]
  },
  {
   "cell_type": "code",
   "execution_count": 5,
   "metadata": {
    "id": "I0jgzcbbaiU3"
   },
   "outputs": [],
   "source": [
    "def handling_missing_values(df):\n",
    "  #Three feature values have null values\n",
    "\n",
    "  def replace_weather(row):\n",
    "      #Handling Null values of exWeatherTag using Trip_month feature according to canadian whether\n",
    "      #assigning whether values to the months\n",
    "      month_to_weather = {\n",
    "          1: 'snow',      # January (winter)\n",
    "          2: 'snow',      # February (winter)\n",
    "          3: 'spring',    # March (spring)\n",
    "          4: 'spring',    # April (spring)\n",
    "          5: 'spring',    # May (spring)\n",
    "          6: 'hot',       # June (summer)\n",
    "          7: 'hot',       # July (summer)\n",
    "          8: 'hot',       # August (summer)\n",
    "          9: 'hot',       # September (summer)\n",
    "          10: 'snow',     # October (winter)\n",
    "          11: 'snow',     # November (winter)\n",
    "          12: 'snow'      # December (winter)\n",
    "      }\n",
    "\n",
    "      # Replace the weather values based on the month_to_weather mapping\n",
    "      df['exWeatherTag'] = df['Trip_month'].map(month_to_weather)\n",
    "      return df\n",
    "\n",
    "  # Apply the function to fill NaN values in exWeatherTag\n",
    "  df = replace_weather(df)\n",
    "\n",
    "  #creating dummies for type feature\n",
    "  df['type'] = pd.get_dummies(df['type'], prefix='type')\n",
    "\n"
   ]
  },
  {
   "cell_type": "code",
   "execution_count": 6,
   "metadata": {
    "colab": {
     "base_uri": "https://localhost:8080/",
     "height": 507
    },
    "id": "jQcoj9SoVPnJ",
    "outputId": "a5e572af-3227-42fe-aa63-bbe00fea33c1"
   },
   "outputs": [
    {
     "name": "stdout",
     "output_type": "stream",
     "text": [
      "Before handling nan values for exWeatherTag\n"
     ]
    },
    {
     "data": {
      "text/plain": [
       "Text(0.5, 1.0, 'Visualizing exWhetherTag with Trip_month')"
      ]
     },
     "execution_count": 6,
     "metadata": {},
     "output_type": "execute_result"
    },
    {
     "data": {
      "image/png": "[encoded data removed]",
      "text/plain": [
       "<Figure size 432x288 with 1 Axes>"
      ]
     },
     "metadata": {},
     "output_type": "display_data"
    }
   ],
   "source": [
    "#Visualizing \"exWeatherTag\" feature missing values using \"Trip_month\" feature\n",
    "print(\"Before handling nan values for exWeatherTag\")\n",
    "sns.set_style('whitegrid')\n",
    "sns.countplot(x='exWeatherTag',hue='Trip_month',data=train,palette='rainbow')\n",
    "# Set labels on the right side\n",
    "ax.set_xticklabels(ax.get_xticklabels(), rotation=45, ha=\"right\")\n",
    "ax.set_yticklabels(ax.get_yticklabels(), rotation=0, ha=\"right\")\n",
    "plt.title(\"Visualizing exWhetherTag with Trip_month\" )"
   ]
  },
  {
   "cell_type": "code",
   "execution_count": 7,
   "metadata": {
    "id": "EzLw-PjgepNP"
   },
   "outputs": [],
   "source": [
    "#calling handling missing value function to handle the missing value in the data\n",
    "handling_missing_values(train)"
   ]
  },
  {
   "cell_type": "code",
   "execution_count": 8,
   "metadata": {
    "colab": {
     "base_uri": "https://localhost:8080/",
     "height": 313
    },
    "id": "V-c8U_3GA60A",
    "outputId": "4496d445-5b94-4ec6-dce5-5c24b166c49f"
   },
   "outputs": [
    {
     "data": {
      "text/html": [
       "<div>\n",
       "<style scoped>\n",
       "    .dataframe tbody tr th:only-of-type {\n",
       "        vertical-align: middle;\n",
       "    }\n",
       "\n",
       "    .dataframe tbody tr th {\n",
       "        vertical-align: top;\n",
       "    }\n",
       "\n",
       "    .dataframe thead th {\n",
       "        text-align: right;\n",
       "    }\n",
       "</style>\n",
       "<table border=\"1\" class=\"dataframe\">\n",
       "  <thead>\n",
       "    <tr style=\"text-align: right;\">\n",
       "      <th></th>\n",
       "      <th>trip</th>\n",
       "      <th>date</th>\n",
       "      <th>dayPart</th>\n",
       "      <th>exWeatherTag</th>\n",
       "      <th>originLocation</th>\n",
       "      <th>destinationLocation</th>\n",
       "      <th>distance</th>\n",
       "      <th>type</th>\n",
       "      <th>weight</th>\n",
       "      <th>packageType</th>\n",
       "      <th>carrier</th>\n",
       "      <th>cost</th>\n",
       "      <th>Trip_date</th>\n",
       "      <th>Trip_year</th>\n",
       "      <th>Trip_month</th>\n",
       "      <th>Trip_day</th>\n",
       "    </tr>\n",
       "  </thead>\n",
       "  <tbody>\n",
       "    <tr>\n",
       "      <th>0</th>\n",
       "      <td>t52712528</td>\n",
       "      <td>2017-09-06</td>\n",
       "      <td>night</td>\n",
       "      <td>hot</td>\n",
       "      <td>S4</td>\n",
       "      <td>D7</td>\n",
       "      <td>2200</td>\n",
       "      <td>1</td>\n",
       "      <td>50</td>\n",
       "      <td>NaN</td>\n",
       "      <td>D</td>\n",
       "      <td>68.413152</td>\n",
       "      <td>6</td>\n",
       "      <td>2017</td>\n",
       "      <td>9</td>\n",
       "      <td>Wednesday</td>\n",
       "    </tr>\n",
       "    <tr>\n",
       "      <th>1</th>\n",
       "      <td>t29859381</td>\n",
       "      <td>2017-10-21</td>\n",
       "      <td>night</td>\n",
       "      <td>snow</td>\n",
       "      <td>S8</td>\n",
       "      <td>D1</td>\n",
       "      <td>1800</td>\n",
       "      <td>0</td>\n",
       "      <td>12</td>\n",
       "      <td>NaN</td>\n",
       "      <td>B</td>\n",
       "      <td>36.450649</td>\n",
       "      <td>21</td>\n",
       "      <td>2017</td>\n",
       "      <td>10</td>\n",
       "      <td>Saturday</td>\n",
       "    </tr>\n",
       "    <tr>\n",
       "      <th>2</th>\n",
       "      <td>t25702332</td>\n",
       "      <td>2017-07-15</td>\n",
       "      <td>night</td>\n",
       "      <td>hot</td>\n",
       "      <td>S9</td>\n",
       "      <td>D5</td>\n",
       "      <td>2800</td>\n",
       "      <td>0</td>\n",
       "      <td>1</td>\n",
       "      <td>NaN</td>\n",
       "      <td>B</td>\n",
       "      <td>9.057939</td>\n",
       "      <td>15</td>\n",
       "      <td>2017</td>\n",
       "      <td>7</td>\n",
       "      <td>Saturday</td>\n",
       "    </tr>\n",
       "    <tr>\n",
       "      <th>3</th>\n",
       "      <td>t27713405</td>\n",
       "      <td>2017-10-22</td>\n",
       "      <td>day</td>\n",
       "      <td>snow</td>\n",
       "      <td>S9</td>\n",
       "      <td>D7</td>\n",
       "      <td>3200</td>\n",
       "      <td>0</td>\n",
       "      <td>50</td>\n",
       "      <td>NaN</td>\n",
       "      <td>C</td>\n",
       "      <td>57.320087</td>\n",
       "      <td>22</td>\n",
       "      <td>2017</td>\n",
       "      <td>10</td>\n",
       "      <td>Sunday</td>\n",
       "    </tr>\n",
       "    <tr>\n",
       "      <th>4</th>\n",
       "      <td>t49439220</td>\n",
       "      <td>2019-12-11</td>\n",
       "      <td>day</td>\n",
       "      <td>snow</td>\n",
       "      <td>S9</td>\n",
       "      <td>D1</td>\n",
       "      <td>2000</td>\n",
       "      <td>0</td>\n",
       "      <td>43</td>\n",
       "      <td>NaN</td>\n",
       "      <td>B</td>\n",
       "      <td>77.263777</td>\n",
       "      <td>11</td>\n",
       "      <td>2019</td>\n",
       "      <td>12</td>\n",
       "      <td>Wednesday</td>\n",
       "    </tr>\n",
       "  </tbody>\n",
       "</table>\n",
       "</div>"
      ],
      "text/plain": [
       "        trip       date dayPart exWeatherTag originLocation  \\\n",
       "0  t52712528 2017-09-06   night          hot             S4   \n",
       "1  t29859381 2017-10-21   night         snow             S8   \n",
       "2  t25702332 2017-07-15   night          hot             S9   \n",
       "3  t27713405 2017-10-22     day         snow             S9   \n",
       "4  t49439220 2019-12-11     day         snow             S9   \n",
       "\n",
       "  destinationLocation  distance  type  weight packageType carrier       cost  \\\n",
       "0                  D7      2200     1      50         NaN       D  68.413152   \n",
       "1                  D1      1800     0      12         NaN       B  36.450649   \n",
       "2                  D5      2800     0       1         NaN       B   9.057939   \n",
       "3                  D7      3200     0      50         NaN       C  57.320087   \n",
       "4                  D1      2000     0      43         NaN       B  77.263777   \n",
       "\n",
       "   Trip_date  Trip_year  Trip_month   Trip_day  \n",
       "0          6       2017           9  Wednesday  \n",
       "1         21       2017          10   Saturday  \n",
       "2         15       2017           7   Saturday  \n",
       "3         22       2017          10     Sunday  \n",
       "4         11       2019          12  Wednesday  "
      ]
     },
     "execution_count": 8,
     "metadata": {},
     "output_type": "execute_result"
    }
   ],
   "source": [
    "#check if nan values are replaced\n",
    "train.head()"
   ]
  },
  {
   "cell_type": "code",
   "execution_count": 10,
   "metadata": {},
   "outputs": [
    {
     "data": {
      "text/plain": [
       "trip                       0\n",
       "date                       0\n",
       "dayPart                    0\n",
       "exWeatherTag               0\n",
       "originLocation             0\n",
       "destinationLocation        0\n",
       "distance                   0\n",
       "type                       0\n",
       "weight                     0\n",
       "packageType            36499\n",
       "carrier                    0\n",
       "cost                       0\n",
       "Trip_date                  0\n",
       "Trip_year                  0\n",
       "Trip_month                 0\n",
       "Trip_day                   0\n",
       "dtype: int64"
      ]
     },
     "execution_count": 10,
     "metadata": {},
     "output_type": "execute_result"
    }
   ],
   "source": [
    "train.isnull().sum()"
   ]
  },
  {
   "cell_type": "code",
   "execution_count": 9,
   "metadata": {
    "colab": {
     "base_uri": "https://localhost:8080/",
     "height": 507
    },
    "id": "zfuhYoypXGld",
    "outputId": "c7a21abb-05d3-48c2-c6d9-29aa1c5dd996"
   },
   "outputs": [
    {
     "name": "stdout",
     "output_type": "stream",
     "text": [
      "After handling nan values for exWeatherTag\n"
     ]
    },
    {
     "data": {
      "text/plain": [
       "Text(0.5, 1.0, 'Visualizing exWhetherTag with Trip_month')"
      ]
     },
     "execution_count": 9,
     "metadata": {},
     "output_type": "execute_result"
    },
    {
     "data": {
      "image/png": "[encoded data removed]",
      "text/plain": [
       "<Figure size 432x288 with 1 Axes>"
      ]
     },
     "metadata": {},
     "output_type": "display_data"
    }
   ],
   "source": [
    "print(\"After handling nan values for exWeatherTag\")\n",
    "sns.set_style('whitegrid')\n",
    "sns.countplot(x='exWeatherTag',hue='Trip_month',data=train,palette='rainbow')\n",
    "plt.title(\"Visualizing exWhetherTag with Trip_month\" )"
   ]
  },
  {
   "cell_type": "markdown",
   "metadata": {
    "id": "6Pc-QBBhe8yk"
   },
   "source": [
    "Handling Outliers"
   ]
  },
  {
   "cell_type": "code",
   "execution_count": 19,
   "metadata": {
    "id": "nnLnKsG0XgDm"
   },
   "outputs": [],
   "source": [
    "#numerical columns\n",
    "col_numerical = ['distance','weight','cost']"
   ]
  },
  {
   "cell_type": "code",
   "execution_count": 20,
   "metadata": {
    "colab": {
     "base_uri": "https://localhost:8080/",
     "height": 1000
    },
    "id": "ASC2X4zYXG4G",
    "outputId": "d9d37f1d-dd17-469c-f7f0-db9b867bd798"
   },
   "outputs": [
    {
     "data": {
      "image/png": "[encoded data removed]",
      "text/plain": [
       "<Figure size 720x360 with 1 Axes>"
      ]
     },
     "metadata": {},
     "output_type": "display_data"
    },
    {
     "name": "stdout",
     "output_type": "stream",
     "text": [
      "None\n"
     ]
    },
    {
     "data": {
      "image/png": "[encoded data removed]",
      "text/plain": [
       "<Figure size 720x360 with 1 Axes>"
      ]
     },
     "metadata": {},
     "output_type": "display_data"
    },
    {
     "name": "stdout",
     "output_type": "stream",
     "text": [
      "None\n"
     ]
    },
    {
     "data": {
      "image/png": "[encoded data removed]",
      "text/plain": [
       "<Figure size 720x360 with 1 Axes>"
      ]
     },
     "metadata": {},
     "output_type": "display_data"
    },
    {
     "name": "stdout",
     "output_type": "stream",
     "text": [
      "None\n",
      "visualizing outliers before handling them None\n"
     ]
    }
   ],
   "source": [
    "#function to visualize outliers\n",
    "def visualize_outliers(df):\n",
    "  #visualizing the outliers using box ploat\n",
    "  columns_to_plot = col_numerical\n",
    "  # Loop through each column and plot the box plot\n",
    "  for i, col in enumerate(columns_to_plot):\n",
    "    plt.figure(figsize=(10,5))\n",
    "    plt.subplots_adjust(wspace=0.5, hspace=0.5)\n",
    "    sns.boxplot(data=df[col])\n",
    "    plt.title(f'Boxplot of {col}')\n",
    "    plt.xlabel(col)\n",
    "    plt.ylabel('value')\n",
    "    print(plt.show())\n",
    "\n",
    "#Applying function to train df\n",
    "print(\"visualizing outliers before handling them\", visualize_outliers(train))"
   ]
  },
  {
   "cell_type": "markdown",
   "metadata": {
    "id": "eOV8_Prkpbwz"
   },
   "source": [
    "From the above plots weight feature has soo many outliers as well as cost."
   ]
  },
  {
   "cell_type": "code",
   "execution_count": 21,
   "metadata": {
    "id": "pKeA3C5VfUDY"
   },
   "outputs": [],
   "source": [
    "#numerical columns\n",
    "col_numerical = ['distance','weight']\n",
    "def outliers(df):\n",
    "  #visualizing and handling outliers for numerical features\n",
    "\n",
    "  def visualize_outliers(df):\n",
    "    #visualizing the outliers using bocx ploat\n",
    "    columns_to_plot = col_numerical\n",
    "    # Loop through each column and plot the box plot\n",
    "    for i, col in enumerate(columns_to_plot):\n",
    "      plt.figure(figsize=(10,5))\n",
    "      plt.subplots_adjust(wspace=0.5, hspace=0.5)\n",
    "      sns.boxplot(data=df[col])\n",
    "      plt.title(f'Boxplot of {col}')\n",
    "      plt.xlabel(col_numerical)\n",
    "      plt.ylabel('Value')\n",
    "      print(plt.show())\n",
    "\n",
    "  print(\"visualizing outliers before handling them\", visualize_outliers(df))\n",
    "\n",
    "  def handle_outliers_in_dataframe(df):\n",
    "    #handling outliers using imputation of mean values\n",
    "\n",
    "    mean_value = df.mean()\n",
    "    # Replace outliers with the mean value for each column\n",
    "    df_handled = df.apply(lambda col: np.where(\n",
    "        np.abs(col - col.mean()) > 1.5 * (col.quantile(0.75) - col.quantile(0.25)),\n",
    "        mean_value[col.name], col)\n",
    "    )\n",
    "    return df_handled\n",
    "\n",
    "  df[col_numerical] = handle_outliers_in_dataframe(df[col_numerical])\n",
    "\n",
    "  print(\"visualizing outliers after handling them\", visualize_outliers(df))\n",
    "\n"
   ]
  },
  {
   "cell_type": "code",
   "execution_count": 22,
   "metadata": {
    "id": "SDxj1ezXgmUD"
   },
   "outputs": [],
   "source": [
    "#Applying outlier function on train df\n",
    "# outliers(train)"
   ]
  },
  {
   "cell_type": "markdown",
   "metadata": {
    "id": "DEwxih8SXrcf"
   },
   "source": [
    "Reason for not handling the above code which apply handling outliers function to train is cost and weight has hight corelation and they are skewed in same manner so outliers for weight is also contributing to predict cost"
   ]
  },
  {
   "cell_type": "markdown",
   "metadata": {
    "id": "XUeV5B3rvHVA"
   },
   "source": [
    "Dropping the unwanted columns"
   ]
  },
  {
   "cell_type": "code",
   "execution_count": 23,
   "metadata": {
    "colab": {
     "base_uri": "https://localhost:8080/",
     "height": 1000
    },
    "id": "w7jeEIMGy0kO",
    "outputId": "e3b9239b-4dc9-4b8d-a8f5-094bdf52ac08"
   },
   "outputs": [
    {
     "data": {
      "image/png": "[encoded data removed]",
      "text/plain": [
       "<Figure size 720x360 with 1 Axes>"
      ]
     },
     "metadata": {},
     "output_type": "display_data"
    },
    {
     "data": {
      "image/png": "[encoded data removed]",
      "text/plain": [
       "<Figure size 720x360 with 1 Axes>"
      ]
     },
     "metadata": {},
     "output_type": "display_data"
    },
    {
     "data": {
      "image/png": "[encoded data removed]",
      "text/plain": [
       "<Figure size 720x360 with 1 Axes>"
      ]
     },
     "metadata": {},
     "output_type": "display_data"
    },
    {
     "data": {
      "image/png": "[encoded data removed]",
      "text/plain": [
       "<Figure size 720x360 with 1 Axes>"
      ]
     },
     "metadata": {},
     "output_type": "display_data"
    }
   ],
   "source": [
    "## Lets analyze the Temporal Datetime Variables\n",
    "## We will check whether there is a relation between year the cost\n",
    "date_cols = ['Trip_date','Trip_year','Trip_day','Trip_month']\n",
    "for col in date_cols:\n",
    "  plt.figure(figsize=(10,5))\n",
    "  train_copy.groupby(col)['cost'].median().plot()\n",
    "  plt.xlabel(col)\n",
    "  plt.ylabel('cost')\n",
    "  plt.title(\"cost vs \"+col)\n",
    "  plt.show()"
   ]
  },
  {
   "cell_type": "markdown",
   "metadata": {
    "id": "t9_Ag35J1CMe"
   },
   "source": [
    "The above plots shows the relation between Traget feature cost and data feartures.\n",
    "\n",
    "\n",
    "*   Trip_date and cost has various relation, during the date 5,15,30 the cost value is decreased while on other dates it got flactuations but mostly the cost value is high.\n",
    "*   Trip_year and cost has linear relation, Cost value increased consistently through the years.\n",
    "\n",
    "*   During the weekends in Trip_day feature cost value is low while on weekdays like wednesday cost value is very high\n",
    "*   Trip_month has flactuating rate of cost value, between the months sepetember to march mostly the cost value is high which has snow whether. During Hot whether months like April cost value is very low. So the feature exWhetheTag and Trip_month basically gives same insights. So we can drop this column.\n",
    "\n",
    "\n",
    "\n",
    "\n"
   ]
  },
  {
   "cell_type": "code",
   "execution_count": 24,
   "metadata": {
    "id": "VMKy2_irizh7"
   },
   "outputs": [],
   "source": [
    "# function to drop column from given dataset\n",
    "def dropSelectedColumns(df, columns):\n",
    "    for column in columns:\n",
    "        df = df.drop(column, axis = 1)\n",
    "    return df"
   ]
  },
  {
   "cell_type": "code",
   "execution_count": 25,
   "metadata": {
    "colab": {
     "base_uri": "https://localhost:8080/",
     "height": 226
    },
    "id": "KHrbF8GDsDjt",
    "outputId": "24d000a0-dd6c-460f-f3ba-f9948a79072e"
   },
   "outputs": [
    {
     "data": {
      "text/html": [
       "<div>\n",
       "<style scoped>\n",
       "    .dataframe tbody tr th:only-of-type {\n",
       "        vertical-align: middle;\n",
       "    }\n",
       "\n",
       "    .dataframe tbody tr th {\n",
       "        vertical-align: top;\n",
       "    }\n",
       "\n",
       "    .dataframe thead th {\n",
       "        text-align: right;\n",
       "    }\n",
       "</style>\n",
       "<table border=\"1\" class=\"dataframe\">\n",
       "  <thead>\n",
       "    <tr style=\"text-align: right;\">\n",
       "      <th></th>\n",
       "      <th>dayPart</th>\n",
       "      <th>exWeatherTag</th>\n",
       "      <th>originLocation</th>\n",
       "      <th>destinationLocation</th>\n",
       "      <th>distance</th>\n",
       "      <th>type</th>\n",
       "      <th>weight</th>\n",
       "      <th>carrier</th>\n",
       "      <th>cost</th>\n",
       "      <th>Trip_year</th>\n",
       "      <th>Trip_month</th>\n",
       "      <th>Trip_day</th>\n",
       "    </tr>\n",
       "  </thead>\n",
       "  <tbody>\n",
       "    <tr>\n",
       "      <th>0</th>\n",
       "      <td>night</td>\n",
       "      <td>hot</td>\n",
       "      <td>S4</td>\n",
       "      <td>D7</td>\n",
       "      <td>2200</td>\n",
       "      <td>1</td>\n",
       "      <td>50</td>\n",
       "      <td>D</td>\n",
       "      <td>68.413152</td>\n",
       "      <td>2017</td>\n",
       "      <td>9</td>\n",
       "      <td>Wednesday</td>\n",
       "    </tr>\n",
       "    <tr>\n",
       "      <th>1</th>\n",
       "      <td>night</td>\n",
       "      <td>snow</td>\n",
       "      <td>S8</td>\n",
       "      <td>D1</td>\n",
       "      <td>1800</td>\n",
       "      <td>0</td>\n",
       "      <td>12</td>\n",
       "      <td>B</td>\n",
       "      <td>36.450649</td>\n",
       "      <td>2017</td>\n",
       "      <td>10</td>\n",
       "      <td>Saturday</td>\n",
       "    </tr>\n",
       "    <tr>\n",
       "      <th>2</th>\n",
       "      <td>night</td>\n",
       "      <td>hot</td>\n",
       "      <td>S9</td>\n",
       "      <td>D5</td>\n",
       "      <td>2800</td>\n",
       "      <td>0</td>\n",
       "      <td>1</td>\n",
       "      <td>B</td>\n",
       "      <td>9.057939</td>\n",
       "      <td>2017</td>\n",
       "      <td>7</td>\n",
       "      <td>Saturday</td>\n",
       "    </tr>\n",
       "    <tr>\n",
       "      <th>3</th>\n",
       "      <td>day</td>\n",
       "      <td>snow</td>\n",
       "      <td>S9</td>\n",
       "      <td>D7</td>\n",
       "      <td>3200</td>\n",
       "      <td>0</td>\n",
       "      <td>50</td>\n",
       "      <td>C</td>\n",
       "      <td>57.320087</td>\n",
       "      <td>2017</td>\n",
       "      <td>10</td>\n",
       "      <td>Sunday</td>\n",
       "    </tr>\n",
       "    <tr>\n",
       "      <th>4</th>\n",
       "      <td>day</td>\n",
       "      <td>snow</td>\n",
       "      <td>S9</td>\n",
       "      <td>D1</td>\n",
       "      <td>2000</td>\n",
       "      <td>0</td>\n",
       "      <td>43</td>\n",
       "      <td>B</td>\n",
       "      <td>77.263777</td>\n",
       "      <td>2019</td>\n",
       "      <td>12</td>\n",
       "      <td>Wednesday</td>\n",
       "    </tr>\n",
       "  </tbody>\n",
       "</table>\n",
       "</div>"
      ],
      "text/plain": [
       "  dayPart exWeatherTag originLocation destinationLocation  distance  type  \\\n",
       "0   night          hot             S4                  D7      2200     1   \n",
       "1   night         snow             S8                  D1      1800     0   \n",
       "2   night          hot             S9                  D5      2800     0   \n",
       "3     day         snow             S9                  D7      3200     0   \n",
       "4     day         snow             S9                  D1      2000     0   \n",
       "\n",
       "   weight carrier       cost  Trip_year  Trip_month   Trip_day  \n",
       "0      50       D  68.413152       2017           9  Wednesday  \n",
       "1      12       B  36.450649       2017          10   Saturday  \n",
       "2       1       B   9.057939       2017           7   Saturday  \n",
       "3      50       C  57.320087       2017          10     Sunday  \n",
       "4      43       B  77.263777       2019          12  Wednesday  "
      ]
     },
     "execution_count": 25,
     "metadata": {},
     "output_type": "execute_result"
    }
   ],
   "source": [
    "#listing the selected features to drop\n",
    "drop_columns = ['trip','date','packageType','Trip_date']\n",
    "#Applying dropSelectedColumns to train df\n",
    "train = dropSelectedColumns(train, drop_columns)\n",
    "train.head()"
   ]
  },
  {
   "cell_type": "code",
   "execution_count": 26,
   "metadata": {
    "colab": {
     "base_uri": "https://localhost:8080/"
    },
    "id": "4bYBYiCxsfAg",
    "outputId": "7b03f39e-1c80-4213-fd7f-267cd545731b"
   },
   "outputs": [
    {
     "name": "stdout",
     "output_type": "stream",
     "text": [
      "TARGET: cost\n",
      "columns_predictors: ['dayPart', 'exWeatherTag', 'originLocation', 'destinationLocation', 'distance', 'type', 'weight', 'carrier', 'Trip_year', 'Trip_month', 'Trip_day']\n",
      "columns_categorical: ['dayPart', 'destinationLocation', 'originLocation', 'carrier', 'exWeatherTag', 'Trip_year', 'Trip_day', 'Trip_month', 'type']\n",
      "columns_numerical: ['distance', 'weight']\n"
     ]
    }
   ],
   "source": [
    "# Define the target column ,categorical,numerical and predictors columns\n",
    "TARGET = \"cost\"\n",
    "columns_predictors = [col for col in train.columns if col not in [TARGET]]\n",
    "columns_categorical = ['dayPart',  'destinationLocation', 'originLocation','carrier','exWeatherTag','Trip_year', 'Trip_day','Trip_month','type']\n",
    "columns_numerical = [col for col in columns_predictors  if col not in columns_categorical]\n",
    "print(f\"TARGET: {TARGET}\")\n",
    "print(f\"columns_predictors: {columns_predictors}\")\n",
    "print(f\"columns_categorical: {columns_categorical}\")\n",
    "print(f\"columns_numerical: {columns_numerical}\")"
   ]
  },
  {
   "cell_type": "code",
   "execution_count": 65,
   "metadata": {
    "colab": {
     "base_uri": "https://localhost:8080/",
     "height": 1000
    },
    "id": "wD2ZEewm2qqB",
    "outputId": "c9cd0e7c-ea85-4ec8-a798-1dbd118fa184"
   },
   "outputs": [
    {
     "data": {
      "image/png": "[encoded data removed]",
      "text/plain": [
       "<Figure size 432x288 with 1 Axes>"
      ]
     },
     "metadata": {},
     "output_type": "display_data"
    },
    {
     "data": {
      "image/png": "[encoded data removed]",
      "text/plain": [
       "<Figure size 432x288 with 1 Axes>"
      ]
     },
     "metadata": {},
     "output_type": "display_data"
    },
    {
     "data": {
      "image/png": "[encoded data removed]",
      "text/plain": [
       "<Figure size 432x288 with 1 Axes>"
      ]
     },
     "metadata": {},
     "output_type": "display_data"
    },
    {
     "data": {
      "image/png": "[encoded data removed]",
      "text/plain": [
       "<Figure size 432x288 with 1 Axes>"
      ]
     },
     "metadata": {},
     "output_type": "display_data"
    },
    {
     "data": {
      "image/png": "[encoded data removed]",
      "text/plain": [
       "<Figure size 432x288 with 1 Axes>"
      ]
     },
     "metadata": {},
     "output_type": "display_data"
    },
    {
     "data": {
      "image/png": "[encoded data removed]",
      "text/plain": [
       "<Figure size 432x288 with 1 Axes>"
      ]
     },
     "metadata": {},
     "output_type": "display_data"
    },
    {
     "data": {
      "image/png": "[encoded data removed]",
      "text/plain": [
       "<Figure size 432x288 with 1 Axes>"
      ]
     },
     "metadata": {},
     "output_type": "display_data"
    },
    {
     "data": {
      "image/png": "[encoded data removed]",
      "text/plain": [
       "<Figure size 432x288 with 1 Axes>"
      ]
     },
     "metadata": {},
     "output_type": "display_data"
    },
    {
     "data": {
      "image/png": "[encoded data removed]",
      "text/plain": [
       "<Figure size 432x288 with 1 Axes>"
      ]
     },
     "metadata": {},
     "output_type": "display_data"
    }
   ],
   "source": [
    "## Lets Find the realtionship between categorical features and cost\n",
    "\n",
    "for col in columns_categorical:\n",
    "    train_copy=train.copy()\n",
    "#     plt.figure(figsize=(15,5))\n",
    "     # Create a bar plot of the median cost grouped by the categorical column and colored by the column\n",
    "    ax = sns.barplot(x=col, y='cost', data=train_copy, estimator=np.median, hue=col)\n",
    "\n",
    "    # Set the labels and title\n",
    "    ax.set_xlabel(col)\n",
    "    ax.set_ylabel('Median Cost')\n",
    "    ax.set_title(col)\n",
    "\n",
    "    # Show the plot\n",
    "    plt.show()"
   ]
  },
  {
   "cell_type": "markdown",
   "metadata": {
    "id": "K6r-o6h95C62"
   },
   "source": [
    "The  relationship between categorical features  and cost is as follows:\n",
    "\n",
    "\n",
    "*   All the values in features day_part,Original_location,Destination_location,exWhetherTag, Trip_year, Trip_day, Trip_date are contributing high to the cost\n",
    "*   Expideted type are more with high cost values while the non-expideted type has fair cost value.\n",
    "*   The Carrier C has contributing more for cost value while other carriers has cost values between 0-60.\n",
    "\n"
   ]
  },
  {
   "cell_type": "code",
   "execution_count": 28,
   "metadata": {
    "colab": {
     "base_uri": "https://localhost:8080/",
     "height": 957
    },
    "id": "HjO8QMU85wZF",
    "outputId": "d22684ad-6d98-475a-d6e0-16ba1965a609"
   },
   "outputs": [
    {
     "data": {
      "image/png": "[encoded data removed]",
      "text/plain": [
       "<Figure size 720x360 with 1 Axes>"
      ]
     },
     "metadata": {},
     "output_type": "display_data"
    },
    {
     "data": {
      "image/png": "[encoded data removed]",
      "text/plain": [
       "<Figure size 720x360 with 1 Axes>"
      ]
     },
     "metadata": {},
     "output_type": "display_data"
    }
   ],
   "source": [
    "## We will be using logarithmic transformation\n",
    "\n",
    "\n",
    "for col in columns_numerical:\n",
    "    train_copy=train.copy()\n",
    "    if 0 in train_copy[col].unique():\n",
    "        pass\n",
    "    else:\n",
    "        train_copy[col]=np.log(train_copy[col])\n",
    "        train_copy['cost']=np.log(train_copy['cost'])\n",
    "        plt.figure(figsize=(10,5))\n",
    "        plt.scatter(train_copy[col],train_copy['cost'])\n",
    "        plt.xlabel(col)\n",
    "        plt.ylabel('cost')\n",
    "        plt.title('Relation between cost and '+col)\n",
    "        plt.show()\n"
   ]
  },
  {
   "cell_type": "markdown",
   "metadata": {
    "id": "KetuLliQ6gh8"
   },
   "source": [
    "1.  The above plot shows that relation between cost and distance is not linear.\n",
    "2.  The weight and cost are correlated and up to weight value 5 cost value is consistent and above that weight cost value started increasing.\n",
    "\n"
   ]
  },
  {
   "cell_type": "code",
   "execution_count": 29,
   "metadata": {
    "id": "fF1N6oR_wLCx"
   },
   "outputs": [],
   "source": [
    "#Spliting data into dependent and independent varaiables\n",
    "X = train[columns_predictors]\n",
    "y = train[TARGET]\n",
    "# split our dataset into train and validation\n",
    "X_train, X_validation, y_train, y_validation = train_test_split(X,y,test_size=0.01)"
   ]
  },
  {
   "cell_type": "code",
   "execution_count": 30,
   "metadata": {
    "colab": {
     "base_uri": "https://localhost:8080/"
    },
    "id": "4cJSz3oDwVn4",
    "outputId": "1b5bc27a-0af1-4063-a914-ef9f900e1b54"
   },
   "outputs": [
    {
     "name": "stdout",
     "output_type": "stream",
     "text": [
      "X_train and y_train shape before one hot encoding and normilazation\n",
      "X_train.shape: (38609, 11)\n",
      "y_train.shape: (38609,)\n",
      "X_validation.shape: (390, 11)\n",
      "y_validation.shape: (390,)\n"
     ]
    }
   ],
   "source": [
    "#X_train and y_train shape before one hot encoding and normilazation\n",
    "print('X_train and y_train shape before one hot encoding and normilazation')\n",
    "print(f\"X_train.shape: {X_train.shape}\")\n",
    "print(f\"y_train.shape: {y_train.shape}\")\n",
    "print(f\"X_validation.shape: {X_validation.shape}\")\n",
    "print(f\"y_validation.shape: {y_validation.shape}\")"
   ]
  },
  {
   "cell_type": "markdown",
   "metadata": {
    "id": "1-fpz_Qp85Eb"
   },
   "source": [
    "# Data normalization and Building Data Pipeline using Feature Union"
   ]
  },
  {
   "cell_type": "code",
   "execution_count": 31,
   "metadata": {
    "id": "jV8bvjPUS3X_"
   },
   "outputs": [],
   "source": [
    "from sklearn.base import BaseEstimator, TransformerMixin\n",
    "from sklearn.pipeline import Pipeline\n",
    "from sklearn.preprocessing import StandardScaler, OneHotEncoder\n",
    "\n",
    "\n",
    "# Create a class to select numerical or categorical columns\n",
    "# since Scikit-Learn doesn't handle DataFrames yet\n",
    "class DataFrameSelector(BaseEstimator, TransformerMixin):\n",
    "    def __init__(self, attribute_names):\n",
    "        self.attribute_names = attribute_names\n",
    "    def fit(self, X, y=None):\n",
    "        return self\n",
    "    def transform(self, X):\n",
    "        return X[self.attribute_names].values\n",
    "\n",
    "num_pipeline = Pipeline([\n",
    "        ('selector', DataFrameSelector(columns_numerical)),\n",
    "        ('std_scaler', StandardScaler()),\n",
    "    ])\n",
    "\n",
    "cat_pipeline = Pipeline([\n",
    "        ('selector', DataFrameSelector(columns_categorical)),('onehot', OneHotEncoder())\n",
    "    ])\n",
    "\n",
    "\n",
    "from sklearn.pipeline import FeatureUnion\n",
    "\n",
    "full_pipeline = FeatureUnion(transformer_list=[\n",
    "    (\"num_pipeline\", num_pipeline),\n",
    "    (\"cat_pipeline\", cat_pipeline),\n",
    "\n",
    "    ])\n",
    "\n",
    "X_train_transform = full_pipeline.fit_transform(X_train)\n",
    "X_validation_transform =  full_pipeline.fit_transform(X_validation)\n"
   ]
  },
  {
   "cell_type": "code",
   "execution_count": 32,
   "metadata": {
    "colab": {
     "base_uri": "https://localhost:8080/"
    },
    "id": "Xopjp43Ewapj",
    "outputId": "d0f0c0a3-091d-481c-f1b6-a78a7b1ab23a"
   },
   "outputs": [
    {
     "name": "stdout",
     "output_type": "stream",
     "text": [
      "Shape after one hot encoding and normalisation\n",
      "X_train transformed.shape: (38609, 53)\n",
      "X_validation transformed.shape: (390, 53)\n"
     ]
    }
   ],
   "source": [
    "#Shape after one hot encoding and normalisation\n",
    "print(\"Shape after one hot encoding and normalisation\")\n",
    "print(f\"X_train transformed.shape: {X_train_transform.shape}\")\n",
    "print(f\"X_validation transformed.shape: {X_validation_transform.shape}\")"
   ]
  },
  {
   "cell_type": "code",
   "execution_count": 33,
   "metadata": {
    "colab": {
     "base_uri": "https://localhost:8080/"
    },
    "id": "NajIjXuvAnQU",
    "outputId": "fd8c31d3-1e0d-4afa-abc1-30d174b5f55e"
   },
   "outputs": [
    {
     "name": "stdout",
     "output_type": "stream",
     "text": [
      "X_train transformed.shape: (38609, 53)\n",
      "X_validation transformed.shape: (390, 53)\n"
     ]
    }
   ],
   "source": [
    "#transforming X_train and X_validation to array\n",
    "X_train_transform = X_train_transform.toarray()\n",
    "X_validation_transform = X_validation_transform.toarray()\n",
    "print(f\"X_train transformed.shape: {X_train_transform.shape}\")\n",
    "print(f\"X_validation transformed.shape: {X_validation_transform.shape}\")"
   ]
  },
  {
   "cell_type": "markdown",
   "metadata": {
    "id": "MULe8CVYxL6S"
   },
   "source": [
    "## **ANN Modeling**"
   ]
  },
  {
   "cell_type": "markdown",
   "metadata": {
    "id": "OJfhf7tKeDih"
   },
   "source": [
    "### Model 1- Keras Regressor"
   ]
  },
  {
   "cell_type": "code",
   "execution_count": 34,
   "metadata": {
    "id": "qFD_5ga930b0"
   },
   "outputs": [],
   "source": [
    "# Importing tensorflow and keras\n",
    "import tensorflow as tf\n",
    "from tensorflow import keras\n",
    "from tensorflow.keras import Sequential\n",
    "from tensorflow.keras.layers import Flatten, Dense, Softmax, Dropout\n",
    "from tensorflow.keras import optimizers"
   ]
  },
  {
   "cell_type": "code",
   "execution_count": 35,
   "metadata": {
    "colab": {
     "base_uri": "https://localhost:8080/"
    },
    "id": "ggk9FNVG32TI",
    "outputId": "4fac719c-f468-426f-8d16-4567cf4cf1bd"
   },
   "outputs": [
    {
     "name": "stdout",
     "output_type": "stream",
     "text": [
      "2.13.0\n"
     ]
    }
   ],
   "source": [
    "# Checking the tensorflow libraries\n",
    "print(tf.__version__)"
   ]
  },
  {
   "cell_type": "code",
   "execution_count": 36,
   "metadata": {
    "id": "Ea6elp6R3-hy"
   },
   "outputs": [],
   "source": [
    "Create_model = Sequential()\n",
    "\n",
    "#Input Layer\n",
    "Create_model.add(Dense(X_train.shape[1], activation='relu', input_dim = X_train_transform.shape[1]))\n",
    "\n",
    "#Hidden Layer\n",
    "Create_model.add(Dense(512,kernel_initializer='normal', activation='relu'))\n",
    "Create_model.add(Dense(512,kernel_initializer='normal', activation='relu'))\n",
    "Create_model.add(Dense(256,kernel_initializer='normal', activation='relu'))\n",
    "Create_model.add(Dense(128,kernel_initializer='normal', activation='relu'))\n",
    "Create_model.add(Dense(64,kernel_initializer='normal', activation='relu'))\n",
    "Create_model.add(Dense(32,kernel_initializer='normal', activation='relu'))\n",
    "#Output Layer\n",
    "Create_model.add(Dense(1,kernel_initializer='normal', activation = 'relu'))"
   ]
  },
  {
   "cell_type": "code",
   "execution_count": 37,
   "metadata": {
    "colab": {
     "base_uri": "https://localhost:8080/"
    },
    "id": "SVnOUS2z4p4R",
    "outputId": "71397f11-0128-4e56-a3fe-d03b7c08ee88"
   },
   "outputs": [
    {
     "name": "stdout",
     "output_type": "stream",
     "text": [
      "Model: \"sequential\"\n",
      "_________________________________________________________________\n",
      " Layer (type)                Output Shape              Param #   \n",
      "=================================================================\n",
      " dense (Dense)               (None, 11)                594       \n",
      "                                                                 \n",
      " dense_1 (Dense)             (None, 512)               6144      \n",
      "                                                                 \n",
      " dense_2 (Dense)             (None, 512)               262656    \n",
      "                                                                 \n",
      " dense_3 (Dense)             (None, 256)               131328    \n",
      "                                                                 \n",
      " dense_4 (Dense)             (None, 128)               32896     \n",
      "                                                                 \n",
      " dense_5 (Dense)             (None, 64)                8256      \n",
      "                                                                 \n",
      " dense_6 (Dense)             (None, 32)                2080      \n",
      "                                                                 \n",
      " dense_7 (Dense)             (None, 1)                 33        \n",
      "                                                                 \n",
      "=================================================================\n",
      "Total params: 443987 (1.69 MB)\n",
      "Trainable params: 443987 (1.69 MB)\n",
      "Non-trainable params: 0 (0.00 Byte)\n",
      "_________________________________________________________________\n"
     ]
    }
   ],
   "source": [
    "#Compile the network\n",
    "\n",
    "Create_model.compile(loss = 'MeanSquaredError', optimizer='adam', metrics=['mse','mae'])\n",
    "Create_model.summary()"
   ]
  },
  {
   "cell_type": "code",
   "execution_count": 38,
   "metadata": {
    "colab": {
     "base_uri": "https://localhost:8080/",
     "height": 976
    },
    "id": "LZ1wK_h34wbE",
    "outputId": "97c7650c-1e32-4216-e624-8b42a44ae212"
   },
   "outputs": [
    {
     "name": "stdout",
     "output_type": "stream",
     "text": [
      "You must install pydot (`pip install pydot`) and install graphviz (see instructions at https://graphviz.gitlab.io/download/) for plot_model to work.\n"
     ]
    }
   ],
   "source": [
    "#Ploting the model\n",
    "tf.keras.utils.plot_model(Create_model, show_shapes=True)"
   ]
  },
  {
   "cell_type": "code",
   "execution_count": 39,
   "metadata": {
    "id": "tAbRzZB14yR6"
   },
   "outputs": [],
   "source": [
    "from sklearn.model_selection import GridSearchCV\n",
    "from scikeras.wrappers import KerasRegressor\n",
    "\n",
    "#Hyperparameter tunning for kerasregressor\n",
    "batch_size = [50,75]\n",
    "epochs = [3,5]\n",
    "k_folds = 5\n",
    "Hyp_Model_1 = KerasRegressor(model=Create_model)\n",
    "\n",
    "param_grid = dict(batch_size=batch_size, epochs = epochs)\n",
    "randSearch_1 = GridSearchCV(Hyp_Model_1, param_grid, cv=k_folds, scoring='neg_mean_squared_error', error_score=\"raise\", n_jobs=-1, verbose=0)"
   ]
  },
  {
   "cell_type": "code",
   "execution_count": 40,
   "metadata": {
    "colab": {
     "base_uri": "https://localhost:8080/"
    },
    "id": "iOoO5LIk5A8k",
    "outputId": "213e6939-cc73-440a-808e-d2fa145a3cbb"
   },
   "outputs": [
    {
     "name": "stdout",
     "output_type": "stream",
     "text": [
      "INFO:tensorflow:Assets written to: ram://0d0fa3d3be1a4570b659785fb0e8c4c6/assets\n"
     ]
    },
    {
     "name": "stderr",
     "output_type": "stream",
     "text": [
      "INFO:tensorflow:Assets written to: ram://0d0fa3d3be1a4570b659785fb0e8c4c6/assets\n"
     ]
    },
    {
     "name": "stdout",
     "output_type": "stream",
     "text": [
      "INFO:tensorflow:Assets written to: ram://d826b944a1d94cc397b91ea6f3333d45/assets\n"
     ]
    },
    {
     "name": "stderr",
     "output_type": "stream",
     "text": [
      "INFO:tensorflow:Assets written to: ram://d826b944a1d94cc397b91ea6f3333d45/assets\n"
     ]
    },
    {
     "name": "stdout",
     "output_type": "stream",
     "text": [
      "INFO:tensorflow:Assets written to: ram://2e8c13e58a3b47b9bbaed4142a9a7a6f/assets\n"
     ]
    },
    {
     "name": "stderr",
     "output_type": "stream",
     "text": [
      "INFO:tensorflow:Assets written to: ram://2e8c13e58a3b47b9bbaed4142a9a7a6f/assets\n"
     ]
    },
    {
     "name": "stdout",
     "output_type": "stream",
     "text": [
      "INFO:tensorflow:Assets written to: ram://a9d5ff5e37744c11abe9d3a376c3a377/assets\n"
     ]
    },
    {
     "name": "stderr",
     "output_type": "stream",
     "text": [
      "INFO:tensorflow:Assets written to: ram://a9d5ff5e37744c11abe9d3a376c3a377/assets\n"
     ]
    },
    {
     "name": "stdout",
     "output_type": "stream",
     "text": [
      "INFO:tensorflow:Assets written to: ram://ecfa0a8240d948149ae58bcb7581e081/assets\n"
     ]
    },
    {
     "name": "stderr",
     "output_type": "stream",
     "text": [
      "INFO:tensorflow:Assets written to: ram://ecfa0a8240d948149ae58bcb7581e081/assets\n"
     ]
    },
    {
     "name": "stdout",
     "output_type": "stream",
     "text": [
      "INFO:tensorflow:Assets written to: ram://1a415230dc7847daab736402b0705836/assets\n"
     ]
    },
    {
     "name": "stderr",
     "output_type": "stream",
     "text": [
      "INFO:tensorflow:Assets written to: ram://1a415230dc7847daab736402b0705836/assets\n"
     ]
    },
    {
     "name": "stdout",
     "output_type": "stream",
     "text": [
      "INFO:tensorflow:Assets written to: ram://cff6e827b6ee449a8ec9ad74b7f8f706/assets\n"
     ]
    },
    {
     "name": "stderr",
     "output_type": "stream",
     "text": [
      "INFO:tensorflow:Assets written to: ram://cff6e827b6ee449a8ec9ad74b7f8f706/assets\n"
     ]
    },
    {
     "name": "stdout",
     "output_type": "stream",
     "text": [
      "INFO:tensorflow:Assets written to: ram://b21b0bb7967041589b069dfaefc86c6e/assets\n"
     ]
    },
    {
     "name": "stderr",
     "output_type": "stream",
     "text": [
      "INFO:tensorflow:Assets written to: ram://b21b0bb7967041589b069dfaefc86c6e/assets\n"
     ]
    },
    {
     "name": "stdout",
     "output_type": "stream",
     "text": [
      "INFO:tensorflow:Assets written to: ram://1565ab1203304490a634afa91ec182c2/assets\n"
     ]
    },
    {
     "name": "stderr",
     "output_type": "stream",
     "text": [
      "INFO:tensorflow:Assets written to: ram://1565ab1203304490a634afa91ec182c2/assets\n"
     ]
    },
    {
     "name": "stdout",
     "output_type": "stream",
     "text": [
      "INFO:tensorflow:Assets written to: ram://0059421177d945da99b41049c6ad6fe9/assets\n"
     ]
    },
    {
     "name": "stderr",
     "output_type": "stream",
     "text": [
      "INFO:tensorflow:Assets written to: ram://0059421177d945da99b41049c6ad6fe9/assets\n"
     ]
    },
    {
     "name": "stdout",
     "output_type": "stream",
     "text": [
      "INFO:tensorflow:Assets written to: ram://43455def33a84fc590418514b9b3627e/assets\n"
     ]
    },
    {
     "name": "stderr",
     "output_type": "stream",
     "text": [
      "INFO:tensorflow:Assets written to: ram://43455def33a84fc590418514b9b3627e/assets\n"
     ]
    },
    {
     "name": "stdout",
     "output_type": "stream",
     "text": [
      "INFO:tensorflow:Assets written to: ram://65854c380dd14559aa1a559e8f7559c8/assets\n"
     ]
    },
    {
     "name": "stderr",
     "output_type": "stream",
     "text": [
      "INFO:tensorflow:Assets written to: ram://65854c380dd14559aa1a559e8f7559c8/assets\n"
     ]
    },
    {
     "name": "stdout",
     "output_type": "stream",
     "text": [
      "INFO:tensorflow:Assets written to: ram://10a1615658114488b543fe15ab15d9c8/assets\n"
     ]
    },
    {
     "name": "stderr",
     "output_type": "stream",
     "text": [
      "INFO:tensorflow:Assets written to: ram://10a1615658114488b543fe15ab15d9c8/assets\n"
     ]
    },
    {
     "name": "stdout",
     "output_type": "stream",
     "text": [
      "INFO:tensorflow:Assets written to: ram://815f76561b6f4e3b87712e9bacf3de54/assets\n"
     ]
    },
    {
     "name": "stderr",
     "output_type": "stream",
     "text": [
      "INFO:tensorflow:Assets written to: ram://815f76561b6f4e3b87712e9bacf3de54/assets\n"
     ]
    },
    {
     "name": "stdout",
     "output_type": "stream",
     "text": [
      "INFO:tensorflow:Assets written to: ram://b2b6bfaaba93481e9849c9c8cefc0274/assets\n"
     ]
    },
    {
     "name": "stderr",
     "output_type": "stream",
     "text": [
      "INFO:tensorflow:Assets written to: ram://b2b6bfaaba93481e9849c9c8cefc0274/assets\n"
     ]
    },
    {
     "name": "stdout",
     "output_type": "stream",
     "text": [
      "INFO:tensorflow:Assets written to: ram://555f2809429b4ce98bab0d2941847210/assets\n"
     ]
    },
    {
     "name": "stderr",
     "output_type": "stream",
     "text": [
      "INFO:tensorflow:Assets written to: ram://555f2809429b4ce98bab0d2941847210/assets\n"
     ]
    },
    {
     "name": "stdout",
     "output_type": "stream",
     "text": [
      "INFO:tensorflow:Assets written to: ram://a3bad0cbe01341c29873841ae7efc68d/assets\n"
     ]
    },
    {
     "name": "stderr",
     "output_type": "stream",
     "text": [
      "INFO:tensorflow:Assets written to: ram://a3bad0cbe01341c29873841ae7efc68d/assets\n"
     ]
    },
    {
     "name": "stdout",
     "output_type": "stream",
     "text": [
      "INFO:tensorflow:Assets written to: ram://9f39baef50ec492db51f60321a6fa11b/assets\n"
     ]
    },
    {
     "name": "stderr",
     "output_type": "stream",
     "text": [
      "INFO:tensorflow:Assets written to: ram://9f39baef50ec492db51f60321a6fa11b/assets\n"
     ]
    },
    {
     "name": "stdout",
     "output_type": "stream",
     "text": [
      "INFO:tensorflow:Assets written to: ram://31f02f91428e4e169074d1a959ac8950/assets\n"
     ]
    },
    {
     "name": "stderr",
     "output_type": "stream",
     "text": [
      "INFO:tensorflow:Assets written to: ram://31f02f91428e4e169074d1a959ac8950/assets\n"
     ]
    },
    {
     "name": "stdout",
     "output_type": "stream",
     "text": [
      "INFO:tensorflow:Assets written to: ram://b47e6f211bd54c3ca18822955626cbba/assets\n"
     ]
    },
    {
     "name": "stderr",
     "output_type": "stream",
     "text": [
      "INFO:tensorflow:Assets written to: ram://b47e6f211bd54c3ca18822955626cbba/assets\n"
     ]
    },
    {
     "name": "stdout",
     "output_type": "stream",
     "text": [
      "INFO:tensorflow:Assets written to: ram://4a4c7192bba74d699d67ad916703f8ad/assets\n"
     ]
    },
    {
     "name": "stderr",
     "output_type": "stream",
     "text": [
      "INFO:tensorflow:Assets written to: ram://4a4c7192bba74d699d67ad916703f8ad/assets\n"
     ]
    },
    {
     "name": "stdout",
     "output_type": "stream",
     "text": [
      "INFO:tensorflow:Assets written to: ram://eec12de36ca241068ef4da78ee7f68ec/assets\n"
     ]
    },
    {
     "name": "stderr",
     "output_type": "stream",
     "text": [
      "INFO:tensorflow:Assets written to: ram://eec12de36ca241068ef4da78ee7f68ec/assets\n"
     ]
    },
    {
     "name": "stdout",
     "output_type": "stream",
     "text": [
      "INFO:tensorflow:Assets written to: ram://8158b8b337f645b48b5a32edeaeca08e/assets\n"
     ]
    },
    {
     "name": "stderr",
     "output_type": "stream",
     "text": [
      "INFO:tensorflow:Assets written to: ram://8158b8b337f645b48b5a32edeaeca08e/assets\n"
     ]
    },
    {
     "name": "stdout",
     "output_type": "stream",
     "text": [
      "INFO:tensorflow:Assets written to: ram://ad8a40ba10be456f908a5cc1b21ea070/assets\n"
     ]
    },
    {
     "name": "stderr",
     "output_type": "stream",
     "text": [
      "INFO:tensorflow:Assets written to: ram://ad8a40ba10be456f908a5cc1b21ea070/assets\n"
     ]
    },
    {
     "name": "stdout",
     "output_type": "stream",
     "text": [
      "INFO:tensorflow:Assets written to: ram://5ffb5fd0b94c42a0ab33b1fc37219063/assets\n"
     ]
    },
    {
     "name": "stderr",
     "output_type": "stream",
     "text": [
      "INFO:tensorflow:Assets written to: ram://5ffb5fd0b94c42a0ab33b1fc37219063/assets\n"
     ]
    },
    {
     "name": "stdout",
     "output_type": "stream",
     "text": [
      "WARNING:tensorflow:Detecting that an object or model or tf.train.Checkpoint is being deleted with unrestored values. See the following logs for the specific values in question. To silence these warnings, use `status.expect_partial()`. See https://www.tensorflow.org/api_docs/python/tf/train/Checkpoint#restorefor details about the status object returned by the restore function.\n"
     ]
    },
    {
     "name": "stderr",
     "output_type": "stream",
     "text": [
      "WARNING:tensorflow:Detecting that an object or model or tf.train.Checkpoint is being deleted with unrestored values. See the following logs for the specific values in question. To silence these warnings, use `status.expect_partial()`. See https://www.tensorflow.org/api_docs/python/tf/train/Checkpoint#restorefor details about the status object returned by the restore function.\n"
     ]
    },
    {
     "name": "stdout",
     "output_type": "stream",
     "text": [
      "WARNING:tensorflow:Value in checkpoint could not be found in the restored object: (root).keras_api.metrics.0.total\n"
     ]
    },
    {
     "name": "stderr",
     "output_type": "stream",
     "text": [
      "WARNING:tensorflow:Value in checkpoint could not be found in the restored object: (root).keras_api.metrics.0.total\n"
     ]
    },
    {
     "name": "stdout",
     "output_type": "stream",
     "text": [
      "WARNING:tensorflow:Value in checkpoint could not be found in the restored object: (root).keras_api.metrics.0.count\n"
     ]
    },
    {
     "name": "stderr",
     "output_type": "stream",
     "text": [
      "WARNING:tensorflow:Value in checkpoint could not be found in the restored object: (root).keras_api.metrics.0.count\n"
     ]
    },
    {
     "name": "stdout",
     "output_type": "stream",
     "text": [
      "WARNING:tensorflow:Value in checkpoint could not be found in the restored object: (root).keras_api.metrics.1.total\n"
     ]
    },
    {
     "name": "stderr",
     "output_type": "stream",
     "text": [
      "WARNING:tensorflow:Value in checkpoint could not be found in the restored object: (root).keras_api.metrics.1.total\n"
     ]
    },
    {
     "name": "stdout",
     "output_type": "stream",
     "text": [
      "WARNING:tensorflow:Value in checkpoint could not be found in the restored object: (root).keras_api.metrics.1.count\n"
     ]
    },
    {
     "name": "stderr",
     "output_type": "stream",
     "text": [
      "WARNING:tensorflow:Value in checkpoint could not be found in the restored object: (root).keras_api.metrics.1.count\n"
     ]
    },
    {
     "name": "stdout",
     "output_type": "stream",
     "text": [
      "WARNING:tensorflow:Value in checkpoint could not be found in the restored object: (root).keras_api.metrics.2.total\n"
     ]
    },
    {
     "name": "stderr",
     "output_type": "stream",
     "text": [
      "WARNING:tensorflow:Value in checkpoint could not be found in the restored object: (root).keras_api.metrics.2.total\n"
     ]
    },
    {
     "name": "stdout",
     "output_type": "stream",
     "text": [
      "WARNING:tensorflow:Value in checkpoint could not be found in the restored object: (root).keras_api.metrics.2.count\n"
     ]
    },
    {
     "name": "stderr",
     "output_type": "stream",
     "text": [
      "WARNING:tensorflow:Value in checkpoint could not be found in the restored object: (root).keras_api.metrics.2.count\n"
     ]
    },
    {
     "name": "stdout",
     "output_type": "stream",
     "text": [
      "INFO:tensorflow:Assets written to: ram://a10b5bc3d0b84f37b50aa47ccb4978bc/assets\n"
     ]
    },
    {
     "name": "stderr",
     "output_type": "stream",
     "text": [
      "INFO:tensorflow:Assets written to: ram://a10b5bc3d0b84f37b50aa47ccb4978bc/assets\n"
     ]
    },
    {
     "name": "stdout",
     "output_type": "stream",
     "text": [
      "INFO:tensorflow:Assets written to: ram://7c54c3a923144f59b110fda1a6a0bbf0/assets\n"
     ]
    },
    {
     "name": "stderr",
     "output_type": "stream",
     "text": [
      "INFO:tensorflow:Assets written to: ram://7c54c3a923144f59b110fda1a6a0bbf0/assets\n"
     ]
    },
    {
     "name": "stdout",
     "output_type": "stream",
     "text": [
      "INFO:tensorflow:Assets written to: ram://3c6d1979508947d78f75f0f9369ee23d/assets\n"
     ]
    },
    {
     "name": "stderr",
     "output_type": "stream",
     "text": [
      "INFO:tensorflow:Assets written to: ram://3c6d1979508947d78f75f0f9369ee23d/assets\n"
     ]
    },
    {
     "name": "stdout",
     "output_type": "stream",
     "text": [
      "INFO:tensorflow:Assets written to: ram://421514a96fae45418a3e1a9aff7ca1db/assets\n"
     ]
    },
    {
     "name": "stderr",
     "output_type": "stream",
     "text": [
      "INFO:tensorflow:Assets written to: ram://421514a96fae45418a3e1a9aff7ca1db/assets\n"
     ]
    },
    {
     "name": "stdout",
     "output_type": "stream",
     "text": [
      "WARNING:tensorflow:Detecting that an object or model or tf.train.Checkpoint is being deleted with unrestored values. See the following logs for the specific values in question. To silence these warnings, use `status.expect_partial()`. See https://www.tensorflow.org/api_docs/python/tf/train/Checkpoint#restorefor details about the status object returned by the restore function.\n"
     ]
    },
    {
     "name": "stderr",
     "output_type": "stream",
     "text": [
      "WARNING:tensorflow:Detecting that an object or model or tf.train.Checkpoint is being deleted with unrestored values. See the following logs for the specific values in question. To silence these warnings, use `status.expect_partial()`. See https://www.tensorflow.org/api_docs/python/tf/train/Checkpoint#restorefor details about the status object returned by the restore function.\n"
     ]
    },
    {
     "name": "stdout",
     "output_type": "stream",
     "text": [
      "WARNING:tensorflow:Value in checkpoint could not be found in the restored object: (root).keras_api.metrics.0.total\n"
     ]
    },
    {
     "name": "stderr",
     "output_type": "stream",
     "text": [
      "WARNING:tensorflow:Value in checkpoint could not be found in the restored object: (root).keras_api.metrics.0.total\n"
     ]
    },
    {
     "name": "stdout",
     "output_type": "stream",
     "text": [
      "WARNING:tensorflow:Value in checkpoint could not be found in the restored object: (root).keras_api.metrics.0.count\n"
     ]
    },
    {
     "name": "stderr",
     "output_type": "stream",
     "text": [
      "WARNING:tensorflow:Value in checkpoint could not be found in the restored object: (root).keras_api.metrics.0.count\n"
     ]
    },
    {
     "name": "stdout",
     "output_type": "stream",
     "text": [
      "WARNING:tensorflow:Value in checkpoint could not be found in the restored object: (root).keras_api.metrics.1.total\n"
     ]
    },
    {
     "name": "stderr",
     "output_type": "stream",
     "text": [
      "WARNING:tensorflow:Value in checkpoint could not be found in the restored object: (root).keras_api.metrics.1.total\n"
     ]
    },
    {
     "name": "stdout",
     "output_type": "stream",
     "text": [
      "WARNING:tensorflow:Value in checkpoint could not be found in the restored object: (root).keras_api.metrics.1.count\n"
     ]
    },
    {
     "name": "stderr",
     "output_type": "stream",
     "text": [
      "WARNING:tensorflow:Value in checkpoint could not be found in the restored object: (root).keras_api.metrics.1.count\n"
     ]
    },
    {
     "name": "stdout",
     "output_type": "stream",
     "text": [
      "WARNING:tensorflow:Value in checkpoint could not be found in the restored object: (root).keras_api.metrics.2.total\n"
     ]
    },
    {
     "name": "stderr",
     "output_type": "stream",
     "text": [
      "WARNING:tensorflow:Value in checkpoint could not be found in the restored object: (root).keras_api.metrics.2.total\n"
     ]
    },
    {
     "name": "stdout",
     "output_type": "stream",
     "text": [
      "WARNING:tensorflow:Value in checkpoint could not be found in the restored object: (root).keras_api.metrics.2.count\n"
     ]
    },
    {
     "name": "stderr",
     "output_type": "stream",
     "text": [
      "WARNING:tensorflow:Value in checkpoint could not be found in the restored object: (root).keras_api.metrics.2.count\n"
     ]
    },
    {
     "name": "stdout",
     "output_type": "stream",
     "text": [
      "WARNING:tensorflow:Detecting that an object or model or tf.train.Checkpoint is being deleted with unrestored values. See the following logs for the specific values in question. To silence these warnings, use `status.expect_partial()`. See https://www.tensorflow.org/api_docs/python/tf/train/Checkpoint#restorefor details about the status object returned by the restore function.\n"
     ]
    },
    {
     "name": "stderr",
     "output_type": "stream",
     "text": [
      "WARNING:tensorflow:Detecting that an object or model or tf.train.Checkpoint is being deleted with unrestored values. See the following logs for the specific values in question. To silence these warnings, use `status.expect_partial()`. See https://www.tensorflow.org/api_docs/python/tf/train/Checkpoint#restorefor details about the status object returned by the restore function.\n"
     ]
    },
    {
     "name": "stdout",
     "output_type": "stream",
     "text": [
      "WARNING:tensorflow:Value in checkpoint could not be found in the restored object: (root).keras_api.metrics.0.total\n"
     ]
    },
    {
     "name": "stderr",
     "output_type": "stream",
     "text": [
      "WARNING:tensorflow:Value in checkpoint could not be found in the restored object: (root).keras_api.metrics.0.total\n"
     ]
    },
    {
     "name": "stdout",
     "output_type": "stream",
     "text": [
      "WARNING:tensorflow:Value in checkpoint could not be found in the restored object: (root).keras_api.metrics.0.count\n"
     ]
    },
    {
     "name": "stderr",
     "output_type": "stream",
     "text": [
      "WARNING:tensorflow:Value in checkpoint could not be found in the restored object: (root).keras_api.metrics.0.count\n"
     ]
    },
    {
     "name": "stdout",
     "output_type": "stream",
     "text": [
      "WARNING:tensorflow:Value in checkpoint could not be found in the restored object: (root).keras_api.metrics.1.total\n"
     ]
    },
    {
     "name": "stderr",
     "output_type": "stream",
     "text": [
      "WARNING:tensorflow:Value in checkpoint could not be found in the restored object: (root).keras_api.metrics.1.total\n"
     ]
    },
    {
     "name": "stdout",
     "output_type": "stream",
     "text": [
      "WARNING:tensorflow:Value in checkpoint could not be found in the restored object: (root).keras_api.metrics.1.count\n"
     ]
    },
    {
     "name": "stderr",
     "output_type": "stream",
     "text": [
      "WARNING:tensorflow:Value in checkpoint could not be found in the restored object: (root).keras_api.metrics.1.count\n"
     ]
    },
    {
     "name": "stdout",
     "output_type": "stream",
     "text": [
      "WARNING:tensorflow:Value in checkpoint could not be found in the restored object: (root).keras_api.metrics.2.total\n"
     ]
    },
    {
     "name": "stderr",
     "output_type": "stream",
     "text": [
      "WARNING:tensorflow:Value in checkpoint could not be found in the restored object: (root).keras_api.metrics.2.total\n"
     ]
    },
    {
     "name": "stdout",
     "output_type": "stream",
     "text": [
      "WARNING:tensorflow:Value in checkpoint could not be found in the restored object: (root).keras_api.metrics.2.count\n"
     ]
    },
    {
     "name": "stderr",
     "output_type": "stream",
     "text": [
      "WARNING:tensorflow:Value in checkpoint could not be found in the restored object: (root).keras_api.metrics.2.count\n"
     ]
    },
    {
     "name": "stdout",
     "output_type": "stream",
     "text": [
      "WARNING:tensorflow:Detecting that an object or model or tf.train.Checkpoint is being deleted with unrestored values. See the following logs for the specific values in question. To silence these warnings, use `status.expect_partial()`. See https://www.tensorflow.org/api_docs/python/tf/train/Checkpoint#restorefor details about the status object returned by the restore function.\n"
     ]
    },
    {
     "name": "stderr",
     "output_type": "stream",
     "text": [
      "WARNING:tensorflow:Detecting that an object or model or tf.train.Checkpoint is being deleted with unrestored values. See the following logs for the specific values in question. To silence these warnings, use `status.expect_partial()`. See https://www.tensorflow.org/api_docs/python/tf/train/Checkpoint#restorefor details about the status object returned by the restore function.\n"
     ]
    },
    {
     "name": "stdout",
     "output_type": "stream",
     "text": [
      "WARNING:tensorflow:Value in checkpoint could not be found in the restored object: (root).keras_api.metrics.0.total\n"
     ]
    },
    {
     "name": "stderr",
     "output_type": "stream",
     "text": [
      "WARNING:tensorflow:Value in checkpoint could not be found in the restored object: (root).keras_api.metrics.0.total\n"
     ]
    },
    {
     "name": "stdout",
     "output_type": "stream",
     "text": [
      "WARNING:tensorflow:Value in checkpoint could not be found in the restored object: (root).keras_api.metrics.0.count\n"
     ]
    },
    {
     "name": "stderr",
     "output_type": "stream",
     "text": [
      "WARNING:tensorflow:Value in checkpoint could not be found in the restored object: (root).keras_api.metrics.0.count\n"
     ]
    },
    {
     "name": "stdout",
     "output_type": "stream",
     "text": [
      "WARNING:tensorflow:Value in checkpoint could not be found in the restored object: (root).keras_api.metrics.1.total\n"
     ]
    },
    {
     "name": "stderr",
     "output_type": "stream",
     "text": [
      "WARNING:tensorflow:Value in checkpoint could not be found in the restored object: (root).keras_api.metrics.1.total\n"
     ]
    },
    {
     "name": "stdout",
     "output_type": "stream",
     "text": [
      "WARNING:tensorflow:Value in checkpoint could not be found in the restored object: (root).keras_api.metrics.1.count\n"
     ]
    },
    {
     "name": "stderr",
     "output_type": "stream",
     "text": [
      "WARNING:tensorflow:Value in checkpoint could not be found in the restored object: (root).keras_api.metrics.1.count\n"
     ]
    },
    {
     "name": "stdout",
     "output_type": "stream",
     "text": [
      "WARNING:tensorflow:Value in checkpoint could not be found in the restored object: (root).keras_api.metrics.2.total\n"
     ]
    },
    {
     "name": "stderr",
     "output_type": "stream",
     "text": [
      "WARNING:tensorflow:Value in checkpoint could not be found in the restored object: (root).keras_api.metrics.2.total\n"
     ]
    },
    {
     "name": "stdout",
     "output_type": "stream",
     "text": [
      "WARNING:tensorflow:Value in checkpoint could not be found in the restored object: (root).keras_api.metrics.2.count\n"
     ]
    },
    {
     "name": "stderr",
     "output_type": "stream",
     "text": [
      "WARNING:tensorflow:Value in checkpoint could not be found in the restored object: (root).keras_api.metrics.2.count\n"
     ]
    },
    {
     "name": "stdout",
     "output_type": "stream",
     "text": [
      "INFO:tensorflow:Assets written to: ram://8c74de93a56e4e55939dbd75dca7a75c/assets\n"
     ]
    },
    {
     "name": "stderr",
     "output_type": "stream",
     "text": [
      "INFO:tensorflow:Assets written to: ram://8c74de93a56e4e55939dbd75dca7a75c/assets\n"
     ]
    },
    {
     "name": "stdout",
     "output_type": "stream",
     "text": [
      "INFO:tensorflow:Assets written to: ram://4e147463c69341ceb4601071f001a6c7/assets\n"
     ]
    },
    {
     "name": "stderr",
     "output_type": "stream",
     "text": [
      "INFO:tensorflow:Assets written to: ram://4e147463c69341ceb4601071f001a6c7/assets\n"
     ]
    },
    {
     "name": "stdout",
     "output_type": "stream",
     "text": [
      "INFO:tensorflow:Assets written to: ram://8458b95d6ceb4ceeb06199f2f560fbc5/assets\n"
     ]
    },
    {
     "name": "stderr",
     "output_type": "stream",
     "text": [
      "INFO:tensorflow:Assets written to: ram://8458b95d6ceb4ceeb06199f2f560fbc5/assets\n"
     ]
    },
    {
     "name": "stdout",
     "output_type": "stream",
     "text": [
      "INFO:tensorflow:Assets written to: ram://f43212ed06dc45779ed2ad4aa9ae2c56/assets\n"
     ]
    },
    {
     "name": "stderr",
     "output_type": "stream",
     "text": [
      "INFO:tensorflow:Assets written to: ram://f43212ed06dc45779ed2ad4aa9ae2c56/assets\n"
     ]
    },
    {
     "name": "stdout",
     "output_type": "stream",
     "text": [
      "INFO:tensorflow:Assets written to: ram://436ecdd810b4478c9a7933d6f5c0cc0e/assets\n"
     ]
    },
    {
     "name": "stderr",
     "output_type": "stream",
     "text": [
      "INFO:tensorflow:Assets written to: ram://436ecdd810b4478c9a7933d6f5c0cc0e/assets\n"
     ]
    },
    {
     "name": "stdout",
     "output_type": "stream",
     "text": [
      "INFO:tensorflow:Assets written to: ram://8e531b8ccb0e4736898ce70078120191/assets\n"
     ]
    },
    {
     "name": "stderr",
     "output_type": "stream",
     "text": [
      "INFO:tensorflow:Assets written to: ram://8e531b8ccb0e4736898ce70078120191/assets\n"
     ]
    },
    {
     "name": "stdout",
     "output_type": "stream",
     "text": [
      "INFO:tensorflow:Assets written to: ram://2e0498f5c81c426ea9c81822abc659d8/assets\n"
     ]
    },
    {
     "name": "stderr",
     "output_type": "stream",
     "text": [
      "INFO:tensorflow:Assets written to: ram://2e0498f5c81c426ea9c81822abc659d8/assets\n"
     ]
    },
    {
     "name": "stdout",
     "output_type": "stream",
     "text": [
      "INFO:tensorflow:Assets written to: ram://f3bf92248ea246c0ab47ef920411a79c/assets\n"
     ]
    },
    {
     "name": "stderr",
     "output_type": "stream",
     "text": [
      "INFO:tensorflow:Assets written to: ram://f3bf92248ea246c0ab47ef920411a79c/assets\n"
     ]
    },
    {
     "name": "stdout",
     "output_type": "stream",
     "text": [
      "INFO:tensorflow:Assets written to: ram://c99eb56b195346a984dc2b2ea4baa63b/assets\n"
     ]
    },
    {
     "name": "stderr",
     "output_type": "stream",
     "text": [
      "INFO:tensorflow:Assets written to: ram://c99eb56b195346a984dc2b2ea4baa63b/assets\n"
     ]
    },
    {
     "name": "stdout",
     "output_type": "stream",
     "text": [
      "INFO:tensorflow:Assets written to: ram://9c88b0274b934434ab8fe5ac0f33382e/assets\n"
     ]
    },
    {
     "name": "stderr",
     "output_type": "stream",
     "text": [
      "INFO:tensorflow:Assets written to: ram://9c88b0274b934434ab8fe5ac0f33382e/assets\n"
     ]
    },
    {
     "name": "stdout",
     "output_type": "stream",
     "text": [
      "INFO:tensorflow:Assets written to: ram://a2c890a7eac14f229b3e9776a43b7128/assets\n"
     ]
    },
    {
     "name": "stderr",
     "output_type": "stream",
     "text": [
      "INFO:tensorflow:Assets written to: ram://a2c890a7eac14f229b3e9776a43b7128/assets\n"
     ]
    },
    {
     "name": "stdout",
     "output_type": "stream",
     "text": [
      "INFO:tensorflow:Assets written to: ram://3458d08d5dc044ffac38303a4b92a9df/assets\n"
     ]
    },
    {
     "name": "stderr",
     "output_type": "stream",
     "text": [
      "INFO:tensorflow:Assets written to: ram://3458d08d5dc044ffac38303a4b92a9df/assets\n"
     ]
    },
    {
     "name": "stdout",
     "output_type": "stream",
     "text": [
      "WARNING:tensorflow:Detecting that an object or model or tf.train.Checkpoint is being deleted with unrestored values. See the following logs for the specific values in question. To silence these warnings, use `status.expect_partial()`. See https://www.tensorflow.org/api_docs/python/tf/train/Checkpoint#restorefor details about the status object returned by the restore function.\n"
     ]
    },
    {
     "name": "stderr",
     "output_type": "stream",
     "text": [
      "WARNING:tensorflow:Detecting that an object or model or tf.train.Checkpoint is being deleted with unrestored values. See the following logs for the specific values in question. To silence these warnings, use `status.expect_partial()`. See https://www.tensorflow.org/api_docs/python/tf/train/Checkpoint#restorefor details about the status object returned by the restore function.\n"
     ]
    },
    {
     "name": "stdout",
     "output_type": "stream",
     "text": [
      "WARNING:tensorflow:Value in checkpoint could not be found in the restored object: (root).keras_api.metrics.0.total\n"
     ]
    },
    {
     "name": "stderr",
     "output_type": "stream",
     "text": [
      "WARNING:tensorflow:Value in checkpoint could not be found in the restored object: (root).keras_api.metrics.0.total\n"
     ]
    },
    {
     "name": "stdout",
     "output_type": "stream",
     "text": [
      "WARNING:tensorflow:Value in checkpoint could not be found in the restored object: (root).keras_api.metrics.0.count\n"
     ]
    },
    {
     "name": "stderr",
     "output_type": "stream",
     "text": [
      "WARNING:tensorflow:Value in checkpoint could not be found in the restored object: (root).keras_api.metrics.0.count\n"
     ]
    },
    {
     "name": "stdout",
     "output_type": "stream",
     "text": [
      "WARNING:tensorflow:Value in checkpoint could not be found in the restored object: (root).keras_api.metrics.1.total\n"
     ]
    },
    {
     "name": "stderr",
     "output_type": "stream",
     "text": [
      "WARNING:tensorflow:Value in checkpoint could not be found in the restored object: (root).keras_api.metrics.1.total\n"
     ]
    },
    {
     "name": "stdout",
     "output_type": "stream",
     "text": [
      "WARNING:tensorflow:Value in checkpoint could not be found in the restored object: (root).keras_api.metrics.1.count\n"
     ]
    },
    {
     "name": "stderr",
     "output_type": "stream",
     "text": [
      "WARNING:tensorflow:Value in checkpoint could not be found in the restored object: (root).keras_api.metrics.1.count\n"
     ]
    },
    {
     "name": "stdout",
     "output_type": "stream",
     "text": [
      "WARNING:tensorflow:Value in checkpoint could not be found in the restored object: (root).keras_api.metrics.2.total\n"
     ]
    },
    {
     "name": "stderr",
     "output_type": "stream",
     "text": [
      "WARNING:tensorflow:Value in checkpoint could not be found in the restored object: (root).keras_api.metrics.2.total\n"
     ]
    },
    {
     "name": "stdout",
     "output_type": "stream",
     "text": [
      "WARNING:tensorflow:Value in checkpoint could not be found in the restored object: (root).keras_api.metrics.2.count\n"
     ]
    },
    {
     "name": "stderr",
     "output_type": "stream",
     "text": [
      "WARNING:tensorflow:Value in checkpoint could not be found in the restored object: (root).keras_api.metrics.2.count\n"
     ]
    },
    {
     "name": "stdout",
     "output_type": "stream",
     "text": [
      "WARNING:tensorflow:Detecting that an object or model or tf.train.Checkpoint is being deleted with unrestored values. See the following logs for the specific values in question. To silence these warnings, use `status.expect_partial()`. See https://www.tensorflow.org/api_docs/python/tf/train/Checkpoint#restorefor details about the status object returned by the restore function.\n"
     ]
    },
    {
     "name": "stderr",
     "output_type": "stream",
     "text": [
      "WARNING:tensorflow:Detecting that an object or model or tf.train.Checkpoint is being deleted with unrestored values. See the following logs for the specific values in question. To silence these warnings, use `status.expect_partial()`. See https://www.tensorflow.org/api_docs/python/tf/train/Checkpoint#restorefor details about the status object returned by the restore function.\n"
     ]
    },
    {
     "name": "stdout",
     "output_type": "stream",
     "text": [
      "WARNING:tensorflow:Value in checkpoint could not be found in the restored object: (root).keras_api.metrics.0.total\n"
     ]
    },
    {
     "name": "stderr",
     "output_type": "stream",
     "text": [
      "WARNING:tensorflow:Value in checkpoint could not be found in the restored object: (root).keras_api.metrics.0.total\n"
     ]
    },
    {
     "name": "stdout",
     "output_type": "stream",
     "text": [
      "WARNING:tensorflow:Value in checkpoint could not be found in the restored object: (root).keras_api.metrics.0.count\n"
     ]
    },
    {
     "name": "stderr",
     "output_type": "stream",
     "text": [
      "WARNING:tensorflow:Value in checkpoint could not be found in the restored object: (root).keras_api.metrics.0.count\n"
     ]
    },
    {
     "name": "stdout",
     "output_type": "stream",
     "text": [
      "WARNING:tensorflow:Value in checkpoint could not be found in the restored object: (root).keras_api.metrics.1.total\n"
     ]
    },
    {
     "name": "stderr",
     "output_type": "stream",
     "text": [
      "WARNING:tensorflow:Value in checkpoint could not be found in the restored object: (root).keras_api.metrics.1.total\n"
     ]
    },
    {
     "name": "stdout",
     "output_type": "stream",
     "text": [
      "WARNING:tensorflow:Value in checkpoint could not be found in the restored object: (root).keras_api.metrics.1.count\n"
     ]
    },
    {
     "name": "stderr",
     "output_type": "stream",
     "text": [
      "WARNING:tensorflow:Value in checkpoint could not be found in the restored object: (root).keras_api.metrics.1.count\n"
     ]
    },
    {
     "name": "stdout",
     "output_type": "stream",
     "text": [
      "WARNING:tensorflow:Value in checkpoint could not be found in the restored object: (root).keras_api.metrics.2.total\n"
     ]
    },
    {
     "name": "stderr",
     "output_type": "stream",
     "text": [
      "WARNING:tensorflow:Value in checkpoint could not be found in the restored object: (root).keras_api.metrics.2.total\n"
     ]
    },
    {
     "name": "stdout",
     "output_type": "stream",
     "text": [
      "WARNING:tensorflow:Value in checkpoint could not be found in the restored object: (root).keras_api.metrics.2.count\n"
     ]
    },
    {
     "name": "stderr",
     "output_type": "stream",
     "text": [
      "WARNING:tensorflow:Value in checkpoint could not be found in the restored object: (root).keras_api.metrics.2.count\n"
     ]
    },
    {
     "name": "stdout",
     "output_type": "stream",
     "text": [
      "WARNING:tensorflow:Detecting that an object or model or tf.train.Checkpoint is being deleted with unrestored values. See the following logs for the specific values in question. To silence these warnings, use `status.expect_partial()`. See https://www.tensorflow.org/api_docs/python/tf/train/Checkpoint#restorefor details about the status object returned by the restore function.\n"
     ]
    },
    {
     "name": "stderr",
     "output_type": "stream",
     "text": [
      "WARNING:tensorflow:Detecting that an object or model or tf.train.Checkpoint is being deleted with unrestored values. See the following logs for the specific values in question. To silence these warnings, use `status.expect_partial()`. See https://www.tensorflow.org/api_docs/python/tf/train/Checkpoint#restorefor details about the status object returned by the restore function.\n"
     ]
    },
    {
     "name": "stdout",
     "output_type": "stream",
     "text": [
      "WARNING:tensorflow:Value in checkpoint could not be found in the restored object: (root).keras_api.metrics.0.total\n"
     ]
    },
    {
     "name": "stderr",
     "output_type": "stream",
     "text": [
      "WARNING:tensorflow:Value in checkpoint could not be found in the restored object: (root).keras_api.metrics.0.total\n"
     ]
    },
    {
     "name": "stdout",
     "output_type": "stream",
     "text": [
      "WARNING:tensorflow:Value in checkpoint could not be found in the restored object: (root).keras_api.metrics.0.count\n"
     ]
    },
    {
     "name": "stderr",
     "output_type": "stream",
     "text": [
      "WARNING:tensorflow:Value in checkpoint could not be found in the restored object: (root).keras_api.metrics.0.count\n"
     ]
    },
    {
     "name": "stdout",
     "output_type": "stream",
     "text": [
      "WARNING:tensorflow:Value in checkpoint could not be found in the restored object: (root).keras_api.metrics.1.total\n"
     ]
    },
    {
     "name": "stderr",
     "output_type": "stream",
     "text": [
      "WARNING:tensorflow:Value in checkpoint could not be found in the restored object: (root).keras_api.metrics.1.total\n"
     ]
    },
    {
     "name": "stdout",
     "output_type": "stream",
     "text": [
      "WARNING:tensorflow:Value in checkpoint could not be found in the restored object: (root).keras_api.metrics.1.count\n"
     ]
    },
    {
     "name": "stderr",
     "output_type": "stream",
     "text": [
      "WARNING:tensorflow:Value in checkpoint could not be found in the restored object: (root).keras_api.metrics.1.count\n"
     ]
    },
    {
     "name": "stdout",
     "output_type": "stream",
     "text": [
      "WARNING:tensorflow:Value in checkpoint could not be found in the restored object: (root).keras_api.metrics.2.total\n"
     ]
    },
    {
     "name": "stderr",
     "output_type": "stream",
     "text": [
      "WARNING:tensorflow:Value in checkpoint could not be found in the restored object: (root).keras_api.metrics.2.total\n"
     ]
    },
    {
     "name": "stdout",
     "output_type": "stream",
     "text": [
      "WARNING:tensorflow:Value in checkpoint could not be found in the restored object: (root).keras_api.metrics.2.count\n"
     ]
    },
    {
     "name": "stderr",
     "output_type": "stream",
     "text": [
      "WARNING:tensorflow:Value in checkpoint could not be found in the restored object: (root).keras_api.metrics.2.count\n"
     ]
    },
    {
     "name": "stdout",
     "output_type": "stream",
     "text": [
      "WARNING:tensorflow:Detecting that an object or model or tf.train.Checkpoint is being deleted with unrestored values. See the following logs for the specific values in question. To silence these warnings, use `status.expect_partial()`. See https://www.tensorflow.org/api_docs/python/tf/train/Checkpoint#restorefor details about the status object returned by the restore function.\n"
     ]
    },
    {
     "name": "stderr",
     "output_type": "stream",
     "text": [
      "WARNING:tensorflow:Detecting that an object or model or tf.train.Checkpoint is being deleted with unrestored values. See the following logs for the specific values in question. To silence these warnings, use `status.expect_partial()`. See https://www.tensorflow.org/api_docs/python/tf/train/Checkpoint#restorefor details about the status object returned by the restore function.\n"
     ]
    },
    {
     "name": "stdout",
     "output_type": "stream",
     "text": [
      "WARNING:tensorflow:Value in checkpoint could not be found in the restored object: (root).keras_api.metrics.0.total\n"
     ]
    },
    {
     "name": "stderr",
     "output_type": "stream",
     "text": [
      "WARNING:tensorflow:Value in checkpoint could not be found in the restored object: (root).keras_api.metrics.0.total\n"
     ]
    },
    {
     "name": "stdout",
     "output_type": "stream",
     "text": [
      "WARNING:tensorflow:Value in checkpoint could not be found in the restored object: (root).keras_api.metrics.0.count\n"
     ]
    },
    {
     "name": "stderr",
     "output_type": "stream",
     "text": [
      "WARNING:tensorflow:Value in checkpoint could not be found in the restored object: (root).keras_api.metrics.0.count\n"
     ]
    },
    {
     "name": "stdout",
     "output_type": "stream",
     "text": [
      "WARNING:tensorflow:Value in checkpoint could not be found in the restored object: (root).keras_api.metrics.1.total\n"
     ]
    },
    {
     "name": "stderr",
     "output_type": "stream",
     "text": [
      "WARNING:tensorflow:Value in checkpoint could not be found in the restored object: (root).keras_api.metrics.1.total\n"
     ]
    },
    {
     "name": "stdout",
     "output_type": "stream",
     "text": [
      "WARNING:tensorflow:Value in checkpoint could not be found in the restored object: (root).keras_api.metrics.1.count\n"
     ]
    },
    {
     "name": "stderr",
     "output_type": "stream",
     "text": [
      "WARNING:tensorflow:Value in checkpoint could not be found in the restored object: (root).keras_api.metrics.1.count\n"
     ]
    },
    {
     "name": "stdout",
     "output_type": "stream",
     "text": [
      "WARNING:tensorflow:Value in checkpoint could not be found in the restored object: (root).keras_api.metrics.2.total\n"
     ]
    },
    {
     "name": "stderr",
     "output_type": "stream",
     "text": [
      "WARNING:tensorflow:Value in checkpoint could not be found in the restored object: (root).keras_api.metrics.2.total\n"
     ]
    },
    {
     "name": "stdout",
     "output_type": "stream",
     "text": [
      "WARNING:tensorflow:Value in checkpoint could not be found in the restored object: (root).keras_api.metrics.2.count\n"
     ]
    },
    {
     "name": "stderr",
     "output_type": "stream",
     "text": [
      "WARNING:tensorflow:Value in checkpoint could not be found in the restored object: (root).keras_api.metrics.2.count\n"
     ]
    },
    {
     "name": "stdout",
     "output_type": "stream",
     "text": [
      "WARNING:tensorflow:Detecting that an object or model or tf.train.Checkpoint is being deleted with unrestored values. See the following logs for the specific values in question. To silence these warnings, use `status.expect_partial()`. See https://www.tensorflow.org/api_docs/python/tf/train/Checkpoint#restorefor details about the status object returned by the restore function.\n"
     ]
    },
    {
     "name": "stderr",
     "output_type": "stream",
     "text": [
      "WARNING:tensorflow:Detecting that an object or model or tf.train.Checkpoint is being deleted with unrestored values. See the following logs for the specific values in question. To silence these warnings, use `status.expect_partial()`. See https://www.tensorflow.org/api_docs/python/tf/train/Checkpoint#restorefor details about the status object returned by the restore function.\n"
     ]
    },
    {
     "name": "stdout",
     "output_type": "stream",
     "text": [
      "WARNING:tensorflow:Value in checkpoint could not be found in the restored object: (root).keras_api.metrics.0.total\n"
     ]
    },
    {
     "name": "stderr",
     "output_type": "stream",
     "text": [
      "WARNING:tensorflow:Value in checkpoint could not be found in the restored object: (root).keras_api.metrics.0.total\n"
     ]
    },
    {
     "name": "stdout",
     "output_type": "stream",
     "text": [
      "WARNING:tensorflow:Value in checkpoint could not be found in the restored object: (root).keras_api.metrics.0.count\n"
     ]
    },
    {
     "name": "stderr",
     "output_type": "stream",
     "text": [
      "WARNING:tensorflow:Value in checkpoint could not be found in the restored object: (root).keras_api.metrics.0.count\n"
     ]
    },
    {
     "name": "stdout",
     "output_type": "stream",
     "text": [
      "WARNING:tensorflow:Value in checkpoint could not be found in the restored object: (root).keras_api.metrics.1.total\n"
     ]
    },
    {
     "name": "stderr",
     "output_type": "stream",
     "text": [
      "WARNING:tensorflow:Value in checkpoint could not be found in the restored object: (root).keras_api.metrics.1.total\n"
     ]
    },
    {
     "name": "stdout",
     "output_type": "stream",
     "text": [
      "WARNING:tensorflow:Value in checkpoint could not be found in the restored object: (root).keras_api.metrics.1.count\n"
     ]
    },
    {
     "name": "stderr",
     "output_type": "stream",
     "text": [
      "WARNING:tensorflow:Value in checkpoint could not be found in the restored object: (root).keras_api.metrics.1.count\n"
     ]
    },
    {
     "name": "stdout",
     "output_type": "stream",
     "text": [
      "WARNING:tensorflow:Value in checkpoint could not be found in the restored object: (root).keras_api.metrics.2.total\n"
     ]
    },
    {
     "name": "stderr",
     "output_type": "stream",
     "text": [
      "WARNING:tensorflow:Value in checkpoint could not be found in the restored object: (root).keras_api.metrics.2.total\n"
     ]
    },
    {
     "name": "stdout",
     "output_type": "stream",
     "text": [
      "WARNING:tensorflow:Value in checkpoint could not be found in the restored object: (root).keras_api.metrics.2.count\n"
     ]
    },
    {
     "name": "stderr",
     "output_type": "stream",
     "text": [
      "WARNING:tensorflow:Value in checkpoint could not be found in the restored object: (root).keras_api.metrics.2.count\n"
     ]
    },
    {
     "name": "stdout",
     "output_type": "stream",
     "text": [
      "WARNING:tensorflow:Detecting that an object or model or tf.train.Checkpoint is being deleted with unrestored values. See the following logs for the specific values in question. To silence these warnings, use `status.expect_partial()`. See https://www.tensorflow.org/api_docs/python/tf/train/Checkpoint#restorefor details about the status object returned by the restore function.\n"
     ]
    },
    {
     "name": "stderr",
     "output_type": "stream",
     "text": [
      "WARNING:tensorflow:Detecting that an object or model or tf.train.Checkpoint is being deleted with unrestored values. See the following logs for the specific values in question. To silence these warnings, use `status.expect_partial()`. See https://www.tensorflow.org/api_docs/python/tf/train/Checkpoint#restorefor details about the status object returned by the restore function.\n"
     ]
    },
    {
     "name": "stdout",
     "output_type": "stream",
     "text": [
      "WARNING:tensorflow:Value in checkpoint could not be found in the restored object: (root).keras_api.metrics.0.total\n"
     ]
    },
    {
     "name": "stderr",
     "output_type": "stream",
     "text": [
      "WARNING:tensorflow:Value in checkpoint could not be found in the restored object: (root).keras_api.metrics.0.total\n"
     ]
    },
    {
     "name": "stdout",
     "output_type": "stream",
     "text": [
      "WARNING:tensorflow:Value in checkpoint could not be found in the restored object: (root).keras_api.metrics.0.count\n"
     ]
    },
    {
     "name": "stderr",
     "output_type": "stream",
     "text": [
      "WARNING:tensorflow:Value in checkpoint could not be found in the restored object: (root).keras_api.metrics.0.count\n"
     ]
    },
    {
     "name": "stdout",
     "output_type": "stream",
     "text": [
      "WARNING:tensorflow:Value in checkpoint could not be found in the restored object: (root).keras_api.metrics.1.total\n"
     ]
    },
    {
     "name": "stderr",
     "output_type": "stream",
     "text": [
      "WARNING:tensorflow:Value in checkpoint could not be found in the restored object: (root).keras_api.metrics.1.total\n"
     ]
    },
    {
     "name": "stdout",
     "output_type": "stream",
     "text": [
      "WARNING:tensorflow:Value in checkpoint could not be found in the restored object: (root).keras_api.metrics.1.count\n"
     ]
    },
    {
     "name": "stderr",
     "output_type": "stream",
     "text": [
      "WARNING:tensorflow:Value in checkpoint could not be found in the restored object: (root).keras_api.metrics.1.count\n"
     ]
    },
    {
     "name": "stdout",
     "output_type": "stream",
     "text": [
      "WARNING:tensorflow:Value in checkpoint could not be found in the restored object: (root).keras_api.metrics.2.total\n"
     ]
    },
    {
     "name": "stderr",
     "output_type": "stream",
     "text": [
      "WARNING:tensorflow:Value in checkpoint could not be found in the restored object: (root).keras_api.metrics.2.total\n"
     ]
    },
    {
     "name": "stdout",
     "output_type": "stream",
     "text": [
      "WARNING:tensorflow:Value in checkpoint could not be found in the restored object: (root).keras_api.metrics.2.count\n"
     ]
    },
    {
     "name": "stderr",
     "output_type": "stream",
     "text": [
      "WARNING:tensorflow:Value in checkpoint could not be found in the restored object: (root).keras_api.metrics.2.count\n"
     ]
    },
    {
     "name": "stdout",
     "output_type": "stream",
     "text": [
      "WARNING:tensorflow:Detecting that an object or model or tf.train.Checkpoint is being deleted with unrestored values. See the following logs for the specific values in question. To silence these warnings, use `status.expect_partial()`. See https://www.tensorflow.org/api_docs/python/tf/train/Checkpoint#restorefor details about the status object returned by the restore function.\n"
     ]
    },
    {
     "name": "stderr",
     "output_type": "stream",
     "text": [
      "WARNING:tensorflow:Detecting that an object or model or tf.train.Checkpoint is being deleted with unrestored values. See the following logs for the specific values in question. To silence these warnings, use `status.expect_partial()`. See https://www.tensorflow.org/api_docs/python/tf/train/Checkpoint#restorefor details about the status object returned by the restore function.\n"
     ]
    },
    {
     "name": "stdout",
     "output_type": "stream",
     "text": [
      "WARNING:tensorflow:Value in checkpoint could not be found in the restored object: (root).keras_api.metrics.0.total\n"
     ]
    },
    {
     "name": "stderr",
     "output_type": "stream",
     "text": [
      "WARNING:tensorflow:Value in checkpoint could not be found in the restored object: (root).keras_api.metrics.0.total\n"
     ]
    },
    {
     "name": "stdout",
     "output_type": "stream",
     "text": [
      "WARNING:tensorflow:Value in checkpoint could not be found in the restored object: (root).keras_api.metrics.0.count\n"
     ]
    },
    {
     "name": "stderr",
     "output_type": "stream",
     "text": [
      "WARNING:tensorflow:Value in checkpoint could not be found in the restored object: (root).keras_api.metrics.0.count\n"
     ]
    },
    {
     "name": "stdout",
     "output_type": "stream",
     "text": [
      "WARNING:tensorflow:Value in checkpoint could not be found in the restored object: (root).keras_api.metrics.1.total\n"
     ]
    },
    {
     "name": "stderr",
     "output_type": "stream",
     "text": [
      "WARNING:tensorflow:Value in checkpoint could not be found in the restored object: (root).keras_api.metrics.1.total\n"
     ]
    },
    {
     "name": "stdout",
     "output_type": "stream",
     "text": [
      "WARNING:tensorflow:Value in checkpoint could not be found in the restored object: (root).keras_api.metrics.1.count\n"
     ]
    },
    {
     "name": "stderr",
     "output_type": "stream",
     "text": [
      "WARNING:tensorflow:Value in checkpoint could not be found in the restored object: (root).keras_api.metrics.1.count\n"
     ]
    },
    {
     "name": "stdout",
     "output_type": "stream",
     "text": [
      "WARNING:tensorflow:Value in checkpoint could not be found in the restored object: (root).keras_api.metrics.2.total\n"
     ]
    },
    {
     "name": "stderr",
     "output_type": "stream",
     "text": [
      "WARNING:tensorflow:Value in checkpoint could not be found in the restored object: (root).keras_api.metrics.2.total\n"
     ]
    },
    {
     "name": "stdout",
     "output_type": "stream",
     "text": [
      "WARNING:tensorflow:Value in checkpoint could not be found in the restored object: (root).keras_api.metrics.2.count\n"
     ]
    },
    {
     "name": "stderr",
     "output_type": "stream",
     "text": [
      "WARNING:tensorflow:Value in checkpoint could not be found in the restored object: (root).keras_api.metrics.2.count\n"
     ]
    },
    {
     "name": "stdout",
     "output_type": "stream",
     "text": [
      "WARNING:tensorflow:Detecting that an object or model or tf.train.Checkpoint is being deleted with unrestored values. See the following logs for the specific values in question. To silence these warnings, use `status.expect_partial()`. See https://www.tensorflow.org/api_docs/python/tf/train/Checkpoint#restorefor details about the status object returned by the restore function.\n"
     ]
    },
    {
     "name": "stderr",
     "output_type": "stream",
     "text": [
      "WARNING:tensorflow:Detecting that an object or model or tf.train.Checkpoint is being deleted with unrestored values. See the following logs for the specific values in question. To silence these warnings, use `status.expect_partial()`. See https://www.tensorflow.org/api_docs/python/tf/train/Checkpoint#restorefor details about the status object returned by the restore function.\n"
     ]
    },
    {
     "name": "stdout",
     "output_type": "stream",
     "text": [
      "WARNING:tensorflow:Value in checkpoint could not be found in the restored object: (root).keras_api.metrics.0.total\n"
     ]
    },
    {
     "name": "stderr",
     "output_type": "stream",
     "text": [
      "WARNING:tensorflow:Value in checkpoint could not be found in the restored object: (root).keras_api.metrics.0.total\n"
     ]
    },
    {
     "name": "stdout",
     "output_type": "stream",
     "text": [
      "WARNING:tensorflow:Value in checkpoint could not be found in the restored object: (root).keras_api.metrics.0.count\n"
     ]
    },
    {
     "name": "stderr",
     "output_type": "stream",
     "text": [
      "WARNING:tensorflow:Value in checkpoint could not be found in the restored object: (root).keras_api.metrics.0.count\n"
     ]
    },
    {
     "name": "stdout",
     "output_type": "stream",
     "text": [
      "WARNING:tensorflow:Value in checkpoint could not be found in the restored object: (root).keras_api.metrics.1.total\n"
     ]
    },
    {
     "name": "stderr",
     "output_type": "stream",
     "text": [
      "WARNING:tensorflow:Value in checkpoint could not be found in the restored object: (root).keras_api.metrics.1.total\n"
     ]
    },
    {
     "name": "stdout",
     "output_type": "stream",
     "text": [
      "WARNING:tensorflow:Value in checkpoint could not be found in the restored object: (root).keras_api.metrics.1.count\n"
     ]
    },
    {
     "name": "stderr",
     "output_type": "stream",
     "text": [
      "WARNING:tensorflow:Value in checkpoint could not be found in the restored object: (root).keras_api.metrics.1.count\n"
     ]
    },
    {
     "name": "stdout",
     "output_type": "stream",
     "text": [
      "WARNING:tensorflow:Value in checkpoint could not be found in the restored object: (root).keras_api.metrics.2.total\n"
     ]
    },
    {
     "name": "stderr",
     "output_type": "stream",
     "text": [
      "WARNING:tensorflow:Value in checkpoint could not be found in the restored object: (root).keras_api.metrics.2.total\n"
     ]
    },
    {
     "name": "stdout",
     "output_type": "stream",
     "text": [
      "WARNING:tensorflow:Value in checkpoint could not be found in the restored object: (root).keras_api.metrics.2.count\n"
     ]
    },
    {
     "name": "stderr",
     "output_type": "stream",
     "text": [
      "WARNING:tensorflow:Value in checkpoint could not be found in the restored object: (root).keras_api.metrics.2.count\n"
     ]
    },
    {
     "name": "stdout",
     "output_type": "stream",
     "text": [
      "WARNING:tensorflow:Detecting that an object or model or tf.train.Checkpoint is being deleted with unrestored values. See the following logs for the specific values in question. To silence these warnings, use `status.expect_partial()`. See https://www.tensorflow.org/api_docs/python/tf/train/Checkpoint#restorefor details about the status object returned by the restore function.\n"
     ]
    },
    {
     "name": "stderr",
     "output_type": "stream",
     "text": [
      "WARNING:tensorflow:Detecting that an object or model or tf.train.Checkpoint is being deleted with unrestored values. See the following logs for the specific values in question. To silence these warnings, use `status.expect_partial()`. See https://www.tensorflow.org/api_docs/python/tf/train/Checkpoint#restorefor details about the status object returned by the restore function.\n"
     ]
    },
    {
     "name": "stdout",
     "output_type": "stream",
     "text": [
      "WARNING:tensorflow:Value in checkpoint could not be found in the restored object: (root).keras_api.metrics.0.total\n"
     ]
    },
    {
     "name": "stderr",
     "output_type": "stream",
     "text": [
      "WARNING:tensorflow:Value in checkpoint could not be found in the restored object: (root).keras_api.metrics.0.total\n"
     ]
    },
    {
     "name": "stdout",
     "output_type": "stream",
     "text": [
      "WARNING:tensorflow:Value in checkpoint could not be found in the restored object: (root).keras_api.metrics.0.count\n"
     ]
    },
    {
     "name": "stderr",
     "output_type": "stream",
     "text": [
      "WARNING:tensorflow:Value in checkpoint could not be found in the restored object: (root).keras_api.metrics.0.count\n"
     ]
    },
    {
     "name": "stdout",
     "output_type": "stream",
     "text": [
      "WARNING:tensorflow:Value in checkpoint could not be found in the restored object: (root).keras_api.metrics.1.total\n"
     ]
    },
    {
     "name": "stderr",
     "output_type": "stream",
     "text": [
      "WARNING:tensorflow:Value in checkpoint could not be found in the restored object: (root).keras_api.metrics.1.total\n"
     ]
    },
    {
     "name": "stdout",
     "output_type": "stream",
     "text": [
      "WARNING:tensorflow:Value in checkpoint could not be found in the restored object: (root).keras_api.metrics.1.count\n"
     ]
    },
    {
     "name": "stderr",
     "output_type": "stream",
     "text": [
      "WARNING:tensorflow:Value in checkpoint could not be found in the restored object: (root).keras_api.metrics.1.count\n"
     ]
    },
    {
     "name": "stdout",
     "output_type": "stream",
     "text": [
      "WARNING:tensorflow:Value in checkpoint could not be found in the restored object: (root).keras_api.metrics.2.total\n"
     ]
    },
    {
     "name": "stderr",
     "output_type": "stream",
     "text": [
      "WARNING:tensorflow:Value in checkpoint could not be found in the restored object: (root).keras_api.metrics.2.total\n"
     ]
    },
    {
     "name": "stdout",
     "output_type": "stream",
     "text": [
      "WARNING:tensorflow:Value in checkpoint could not be found in the restored object: (root).keras_api.metrics.2.count\n"
     ]
    },
    {
     "name": "stderr",
     "output_type": "stream",
     "text": [
      "WARNING:tensorflow:Value in checkpoint could not be found in the restored object: (root).keras_api.metrics.2.count\n"
     ]
    },
    {
     "name": "stdout",
     "output_type": "stream",
     "text": [
      "WARNING:tensorflow:Detecting that an object or model or tf.train.Checkpoint is being deleted with unrestored values. See the following logs for the specific values in question. To silence these warnings, use `status.expect_partial()`. See https://www.tensorflow.org/api_docs/python/tf/train/Checkpoint#restorefor details about the status object returned by the restore function.\n"
     ]
    },
    {
     "name": "stderr",
     "output_type": "stream",
     "text": [
      "WARNING:tensorflow:Detecting that an object or model or tf.train.Checkpoint is being deleted with unrestored values. See the following logs for the specific values in question. To silence these warnings, use `status.expect_partial()`. See https://www.tensorflow.org/api_docs/python/tf/train/Checkpoint#restorefor details about the status object returned by the restore function.\n"
     ]
    },
    {
     "name": "stdout",
     "output_type": "stream",
     "text": [
      "WARNING:tensorflow:Value in checkpoint could not be found in the restored object: (root).keras_api.metrics.0.total\n"
     ]
    },
    {
     "name": "stderr",
     "output_type": "stream",
     "text": [
      "WARNING:tensorflow:Value in checkpoint could not be found in the restored object: (root).keras_api.metrics.0.total\n"
     ]
    },
    {
     "name": "stdout",
     "output_type": "stream",
     "text": [
      "WARNING:tensorflow:Value in checkpoint could not be found in the restored object: (root).keras_api.metrics.0.count\n"
     ]
    },
    {
     "name": "stderr",
     "output_type": "stream",
     "text": [
      "WARNING:tensorflow:Value in checkpoint could not be found in the restored object: (root).keras_api.metrics.0.count\n"
     ]
    },
    {
     "name": "stdout",
     "output_type": "stream",
     "text": [
      "WARNING:tensorflow:Value in checkpoint could not be found in the restored object: (root).keras_api.metrics.1.total\n"
     ]
    },
    {
     "name": "stderr",
     "output_type": "stream",
     "text": [
      "WARNING:tensorflow:Value in checkpoint could not be found in the restored object: (root).keras_api.metrics.1.total\n"
     ]
    },
    {
     "name": "stdout",
     "output_type": "stream",
     "text": [
      "WARNING:tensorflow:Value in checkpoint could not be found in the restored object: (root).keras_api.metrics.1.count\n"
     ]
    },
    {
     "name": "stderr",
     "output_type": "stream",
     "text": [
      "WARNING:tensorflow:Value in checkpoint could not be found in the restored object: (root).keras_api.metrics.1.count\n"
     ]
    },
    {
     "name": "stdout",
     "output_type": "stream",
     "text": [
      "WARNING:tensorflow:Value in checkpoint could not be found in the restored object: (root).keras_api.metrics.2.total\n"
     ]
    },
    {
     "name": "stderr",
     "output_type": "stream",
     "text": [
      "WARNING:tensorflow:Value in checkpoint could not be found in the restored object: (root).keras_api.metrics.2.total\n"
     ]
    },
    {
     "name": "stdout",
     "output_type": "stream",
     "text": [
      "WARNING:tensorflow:Value in checkpoint could not be found in the restored object: (root).keras_api.metrics.2.count\n"
     ]
    },
    {
     "name": "stderr",
     "output_type": "stream",
     "text": [
      "WARNING:tensorflow:Value in checkpoint could not be found in the restored object: (root).keras_api.metrics.2.count\n"
     ]
    },
    {
     "name": "stdout",
     "output_type": "stream",
     "text": [
      "WARNING:tensorflow:Detecting that an object or model or tf.train.Checkpoint is being deleted with unrestored values. See the following logs for the specific values in question. To silence these warnings, use `status.expect_partial()`. See https://www.tensorflow.org/api_docs/python/tf/train/Checkpoint#restorefor details about the status object returned by the restore function.\n"
     ]
    },
    {
     "name": "stderr",
     "output_type": "stream",
     "text": [
      "WARNING:tensorflow:Detecting that an object or model or tf.train.Checkpoint is being deleted with unrestored values. See the following logs for the specific values in question. To silence these warnings, use `status.expect_partial()`. See https://www.tensorflow.org/api_docs/python/tf/train/Checkpoint#restorefor details about the status object returned by the restore function.\n"
     ]
    },
    {
     "name": "stdout",
     "output_type": "stream",
     "text": [
      "WARNING:tensorflow:Value in checkpoint could not be found in the restored object: (root).keras_api.metrics.0.total\n"
     ]
    },
    {
     "name": "stderr",
     "output_type": "stream",
     "text": [
      "WARNING:tensorflow:Value in checkpoint could not be found in the restored object: (root).keras_api.metrics.0.total\n"
     ]
    },
    {
     "name": "stdout",
     "output_type": "stream",
     "text": [
      "WARNING:tensorflow:Value in checkpoint could not be found in the restored object: (root).keras_api.metrics.0.count\n"
     ]
    },
    {
     "name": "stderr",
     "output_type": "stream",
     "text": [
      "WARNING:tensorflow:Value in checkpoint could not be found in the restored object: (root).keras_api.metrics.0.count\n"
     ]
    },
    {
     "name": "stdout",
     "output_type": "stream",
     "text": [
      "WARNING:tensorflow:Value in checkpoint could not be found in the restored object: (root).keras_api.metrics.1.total\n"
     ]
    },
    {
     "name": "stderr",
     "output_type": "stream",
     "text": [
      "WARNING:tensorflow:Value in checkpoint could not be found in the restored object: (root).keras_api.metrics.1.total\n"
     ]
    },
    {
     "name": "stdout",
     "output_type": "stream",
     "text": [
      "WARNING:tensorflow:Value in checkpoint could not be found in the restored object: (root).keras_api.metrics.1.count\n"
     ]
    },
    {
     "name": "stderr",
     "output_type": "stream",
     "text": [
      "WARNING:tensorflow:Value in checkpoint could not be found in the restored object: (root).keras_api.metrics.1.count\n"
     ]
    },
    {
     "name": "stdout",
     "output_type": "stream",
     "text": [
      "WARNING:tensorflow:Value in checkpoint could not be found in the restored object: (root).keras_api.metrics.2.total\n"
     ]
    },
    {
     "name": "stderr",
     "output_type": "stream",
     "text": [
      "WARNING:tensorflow:Value in checkpoint could not be found in the restored object: (root).keras_api.metrics.2.total\n"
     ]
    },
    {
     "name": "stdout",
     "output_type": "stream",
     "text": [
      "WARNING:tensorflow:Value in checkpoint could not be found in the restored object: (root).keras_api.metrics.2.count\n"
     ]
    },
    {
     "name": "stderr",
     "output_type": "stream",
     "text": [
      "WARNING:tensorflow:Value in checkpoint could not be found in the restored object: (root).keras_api.metrics.2.count\n"
     ]
    },
    {
     "name": "stdout",
     "output_type": "stream",
     "text": [
      "WARNING:tensorflow:Detecting that an object or model or tf.train.Checkpoint is being deleted with unrestored values. See the following logs for the specific values in question. To silence these warnings, use `status.expect_partial()`. See https://www.tensorflow.org/api_docs/python/tf/train/Checkpoint#restorefor details about the status object returned by the restore function.\n"
     ]
    },
    {
     "name": "stderr",
     "output_type": "stream",
     "text": [
      "WARNING:tensorflow:Detecting that an object or model or tf.train.Checkpoint is being deleted with unrestored values. See the following logs for the specific values in question. To silence these warnings, use `status.expect_partial()`. See https://www.tensorflow.org/api_docs/python/tf/train/Checkpoint#restorefor details about the status object returned by the restore function.\n"
     ]
    },
    {
     "name": "stdout",
     "output_type": "stream",
     "text": [
      "WARNING:tensorflow:Value in checkpoint could not be found in the restored object: (root).keras_api.metrics.0.total\n"
     ]
    },
    {
     "name": "stderr",
     "output_type": "stream",
     "text": [
      "WARNING:tensorflow:Value in checkpoint could not be found in the restored object: (root).keras_api.metrics.0.total\n"
     ]
    },
    {
     "name": "stdout",
     "output_type": "stream",
     "text": [
      "WARNING:tensorflow:Value in checkpoint could not be found in the restored object: (root).keras_api.metrics.0.count\n"
     ]
    },
    {
     "name": "stderr",
     "output_type": "stream",
     "text": [
      "WARNING:tensorflow:Value in checkpoint could not be found in the restored object: (root).keras_api.metrics.0.count\n"
     ]
    },
    {
     "name": "stdout",
     "output_type": "stream",
     "text": [
      "WARNING:tensorflow:Value in checkpoint could not be found in the restored object: (root).keras_api.metrics.1.total\n"
     ]
    },
    {
     "name": "stderr",
     "output_type": "stream",
     "text": [
      "WARNING:tensorflow:Value in checkpoint could not be found in the restored object: (root).keras_api.metrics.1.total\n"
     ]
    },
    {
     "name": "stdout",
     "output_type": "stream",
     "text": [
      "WARNING:tensorflow:Value in checkpoint could not be found in the restored object: (root).keras_api.metrics.1.count\n"
     ]
    },
    {
     "name": "stderr",
     "output_type": "stream",
     "text": [
      "WARNING:tensorflow:Value in checkpoint could not be found in the restored object: (root).keras_api.metrics.1.count\n"
     ]
    },
    {
     "name": "stdout",
     "output_type": "stream",
     "text": [
      "WARNING:tensorflow:Value in checkpoint could not be found in the restored object: (root).keras_api.metrics.2.total\n"
     ]
    },
    {
     "name": "stderr",
     "output_type": "stream",
     "text": [
      "WARNING:tensorflow:Value in checkpoint could not be found in the restored object: (root).keras_api.metrics.2.total\n"
     ]
    },
    {
     "name": "stdout",
     "output_type": "stream",
     "text": [
      "WARNING:tensorflow:Value in checkpoint could not be found in the restored object: (root).keras_api.metrics.2.count\n"
     ]
    },
    {
     "name": "stderr",
     "output_type": "stream",
     "text": [
      "WARNING:tensorflow:Value in checkpoint could not be found in the restored object: (root).keras_api.metrics.2.count\n"
     ]
    },
    {
     "name": "stdout",
     "output_type": "stream",
     "text": [
      "WARNING:tensorflow:Detecting that an object or model or tf.train.Checkpoint is being deleted with unrestored values. See the following logs for the specific values in question. To silence these warnings, use `status.expect_partial()`. See https://www.tensorflow.org/api_docs/python/tf/train/Checkpoint#restorefor details about the status object returned by the restore function.\n"
     ]
    },
    {
     "name": "stderr",
     "output_type": "stream",
     "text": [
      "WARNING:tensorflow:Detecting that an object or model or tf.train.Checkpoint is being deleted with unrestored values. See the following logs for the specific values in question. To silence these warnings, use `status.expect_partial()`. See https://www.tensorflow.org/api_docs/python/tf/train/Checkpoint#restorefor details about the status object returned by the restore function.\n"
     ]
    },
    {
     "name": "stdout",
     "output_type": "stream",
     "text": [
      "WARNING:tensorflow:Value in checkpoint could not be found in the restored object: (root).keras_api.metrics.0.total\n"
     ]
    },
    {
     "name": "stderr",
     "output_type": "stream",
     "text": [
      "WARNING:tensorflow:Value in checkpoint could not be found in the restored object: (root).keras_api.metrics.0.total\n"
     ]
    },
    {
     "name": "stdout",
     "output_type": "stream",
     "text": [
      "WARNING:tensorflow:Value in checkpoint could not be found in the restored object: (root).keras_api.metrics.0.count\n"
     ]
    },
    {
     "name": "stderr",
     "output_type": "stream",
     "text": [
      "WARNING:tensorflow:Value in checkpoint could not be found in the restored object: (root).keras_api.metrics.0.count\n"
     ]
    },
    {
     "name": "stdout",
     "output_type": "stream",
     "text": [
      "WARNING:tensorflow:Value in checkpoint could not be found in the restored object: (root).keras_api.metrics.1.total\n"
     ]
    },
    {
     "name": "stderr",
     "output_type": "stream",
     "text": [
      "WARNING:tensorflow:Value in checkpoint could not be found in the restored object: (root).keras_api.metrics.1.total\n"
     ]
    },
    {
     "name": "stdout",
     "output_type": "stream",
     "text": [
      "WARNING:tensorflow:Value in checkpoint could not be found in the restored object: (root).keras_api.metrics.1.count\n"
     ]
    },
    {
     "name": "stderr",
     "output_type": "stream",
     "text": [
      "WARNING:tensorflow:Value in checkpoint could not be found in the restored object: (root).keras_api.metrics.1.count\n"
     ]
    },
    {
     "name": "stdout",
     "output_type": "stream",
     "text": [
      "WARNING:tensorflow:Value in checkpoint could not be found in the restored object: (root).keras_api.metrics.2.total\n"
     ]
    },
    {
     "name": "stderr",
     "output_type": "stream",
     "text": [
      "WARNING:tensorflow:Value in checkpoint could not be found in the restored object: (root).keras_api.metrics.2.total\n"
     ]
    },
    {
     "name": "stdout",
     "output_type": "stream",
     "text": [
      "WARNING:tensorflow:Value in checkpoint could not be found in the restored object: (root).keras_api.metrics.2.count\n"
     ]
    },
    {
     "name": "stderr",
     "output_type": "stream",
     "text": [
      "WARNING:tensorflow:Value in checkpoint could not be found in the restored object: (root).keras_api.metrics.2.count\n"
     ]
    },
    {
     "name": "stdout",
     "output_type": "stream",
     "text": [
      "WARNING:tensorflow:Detecting that an object or model or tf.train.Checkpoint is being deleted with unrestored values. See the following logs for the specific values in question. To silence these warnings, use `status.expect_partial()`. See https://www.tensorflow.org/api_docs/python/tf/train/Checkpoint#restorefor details about the status object returned by the restore function.\n"
     ]
    },
    {
     "name": "stderr",
     "output_type": "stream",
     "text": [
      "WARNING:tensorflow:Detecting that an object or model or tf.train.Checkpoint is being deleted with unrestored values. See the following logs for the specific values in question. To silence these warnings, use `status.expect_partial()`. See https://www.tensorflow.org/api_docs/python/tf/train/Checkpoint#restorefor details about the status object returned by the restore function.\n"
     ]
    },
    {
     "name": "stdout",
     "output_type": "stream",
     "text": [
      "WARNING:tensorflow:Value in checkpoint could not be found in the restored object: (root).keras_api.metrics.0.total\n"
     ]
    },
    {
     "name": "stderr",
     "output_type": "stream",
     "text": [
      "WARNING:tensorflow:Value in checkpoint could not be found in the restored object: (root).keras_api.metrics.0.total\n"
     ]
    },
    {
     "name": "stdout",
     "output_type": "stream",
     "text": [
      "WARNING:tensorflow:Value in checkpoint could not be found in the restored object: (root).keras_api.metrics.0.count\n"
     ]
    },
    {
     "name": "stderr",
     "output_type": "stream",
     "text": [
      "WARNING:tensorflow:Value in checkpoint could not be found in the restored object: (root).keras_api.metrics.0.count\n"
     ]
    },
    {
     "name": "stdout",
     "output_type": "stream",
     "text": [
      "WARNING:tensorflow:Value in checkpoint could not be found in the restored object: (root).keras_api.metrics.1.total\n"
     ]
    },
    {
     "name": "stderr",
     "output_type": "stream",
     "text": [
      "WARNING:tensorflow:Value in checkpoint could not be found in the restored object: (root).keras_api.metrics.1.total\n"
     ]
    },
    {
     "name": "stdout",
     "output_type": "stream",
     "text": [
      "WARNING:tensorflow:Value in checkpoint could not be found in the restored object: (root).keras_api.metrics.1.count\n"
     ]
    },
    {
     "name": "stderr",
     "output_type": "stream",
     "text": [
      "WARNING:tensorflow:Value in checkpoint could not be found in the restored object: (root).keras_api.metrics.1.count\n"
     ]
    },
    {
     "name": "stdout",
     "output_type": "stream",
     "text": [
      "WARNING:tensorflow:Value in checkpoint could not be found in the restored object: (root).keras_api.metrics.2.total\n"
     ]
    },
    {
     "name": "stderr",
     "output_type": "stream",
     "text": [
      "WARNING:tensorflow:Value in checkpoint could not be found in the restored object: (root).keras_api.metrics.2.total\n"
     ]
    },
    {
     "name": "stdout",
     "output_type": "stream",
     "text": [
      "WARNING:tensorflow:Value in checkpoint could not be found in the restored object: (root).keras_api.metrics.2.count\n"
     ]
    },
    {
     "name": "stderr",
     "output_type": "stream",
     "text": [
      "WARNING:tensorflow:Value in checkpoint could not be found in the restored object: (root).keras_api.metrics.2.count\n"
     ]
    },
    {
     "name": "stdout",
     "output_type": "stream",
     "text": [
      "WARNING:tensorflow:Detecting that an object or model or tf.train.Checkpoint is being deleted with unrestored values. See the following logs for the specific values in question. To silence these warnings, use `status.expect_partial()`. See https://www.tensorflow.org/api_docs/python/tf/train/Checkpoint#restorefor details about the status object returned by the restore function.\n"
     ]
    },
    {
     "name": "stderr",
     "output_type": "stream",
     "text": [
      "WARNING:tensorflow:Detecting that an object or model or tf.train.Checkpoint is being deleted with unrestored values. See the following logs for the specific values in question. To silence these warnings, use `status.expect_partial()`. See https://www.tensorflow.org/api_docs/python/tf/train/Checkpoint#restorefor details about the status object returned by the restore function.\n"
     ]
    },
    {
     "name": "stdout",
     "output_type": "stream",
     "text": [
      "WARNING:tensorflow:Value in checkpoint could not be found in the restored object: (root).keras_api.metrics.0.total\n"
     ]
    },
    {
     "name": "stderr",
     "output_type": "stream",
     "text": [
      "WARNING:tensorflow:Value in checkpoint could not be found in the restored object: (root).keras_api.metrics.0.total\n"
     ]
    },
    {
     "name": "stdout",
     "output_type": "stream",
     "text": [
      "WARNING:tensorflow:Value in checkpoint could not be found in the restored object: (root).keras_api.metrics.0.count\n"
     ]
    },
    {
     "name": "stderr",
     "output_type": "stream",
     "text": [
      "WARNING:tensorflow:Value in checkpoint could not be found in the restored object: (root).keras_api.metrics.0.count\n"
     ]
    },
    {
     "name": "stdout",
     "output_type": "stream",
     "text": [
      "WARNING:tensorflow:Value in checkpoint could not be found in the restored object: (root).keras_api.metrics.1.total\n"
     ]
    },
    {
     "name": "stderr",
     "output_type": "stream",
     "text": [
      "WARNING:tensorflow:Value in checkpoint could not be found in the restored object: (root).keras_api.metrics.1.total\n"
     ]
    },
    {
     "name": "stdout",
     "output_type": "stream",
     "text": [
      "WARNING:tensorflow:Value in checkpoint could not be found in the restored object: (root).keras_api.metrics.1.count\n"
     ]
    },
    {
     "name": "stderr",
     "output_type": "stream",
     "text": [
      "WARNING:tensorflow:Value in checkpoint could not be found in the restored object: (root).keras_api.metrics.1.count\n"
     ]
    },
    {
     "name": "stdout",
     "output_type": "stream",
     "text": [
      "WARNING:tensorflow:Value in checkpoint could not be found in the restored object: (root).keras_api.metrics.2.total\n"
     ]
    },
    {
     "name": "stderr",
     "output_type": "stream",
     "text": [
      "WARNING:tensorflow:Value in checkpoint could not be found in the restored object: (root).keras_api.metrics.2.total\n"
     ]
    },
    {
     "name": "stdout",
     "output_type": "stream",
     "text": [
      "WARNING:tensorflow:Value in checkpoint could not be found in the restored object: (root).keras_api.metrics.2.count\n"
     ]
    },
    {
     "name": "stderr",
     "output_type": "stream",
     "text": [
      "WARNING:tensorflow:Value in checkpoint could not be found in the restored object: (root).keras_api.metrics.2.count\n"
     ]
    },
    {
     "name": "stdout",
     "output_type": "stream",
     "text": [
      "WARNING:tensorflow:Detecting that an object or model or tf.train.Checkpoint is being deleted with unrestored values. See the following logs for the specific values in question. To silence these warnings, use `status.expect_partial()`. See https://www.tensorflow.org/api_docs/python/tf/train/Checkpoint#restorefor details about the status object returned by the restore function.\n"
     ]
    },
    {
     "name": "stderr",
     "output_type": "stream",
     "text": [
      "WARNING:tensorflow:Detecting that an object or model or tf.train.Checkpoint is being deleted with unrestored values. See the following logs for the specific values in question. To silence these warnings, use `status.expect_partial()`. See https://www.tensorflow.org/api_docs/python/tf/train/Checkpoint#restorefor details about the status object returned by the restore function.\n"
     ]
    },
    {
     "name": "stdout",
     "output_type": "stream",
     "text": [
      "WARNING:tensorflow:Value in checkpoint could not be found in the restored object: (root).keras_api.metrics.0.total\n"
     ]
    },
    {
     "name": "stderr",
     "output_type": "stream",
     "text": [
      "WARNING:tensorflow:Value in checkpoint could not be found in the restored object: (root).keras_api.metrics.0.total\n"
     ]
    },
    {
     "name": "stdout",
     "output_type": "stream",
     "text": [
      "WARNING:tensorflow:Value in checkpoint could not be found in the restored object: (root).keras_api.metrics.0.count\n"
     ]
    },
    {
     "name": "stderr",
     "output_type": "stream",
     "text": [
      "WARNING:tensorflow:Value in checkpoint could not be found in the restored object: (root).keras_api.metrics.0.count\n"
     ]
    },
    {
     "name": "stdout",
     "output_type": "stream",
     "text": [
      "WARNING:tensorflow:Value in checkpoint could not be found in the restored object: (root).keras_api.metrics.1.total\n"
     ]
    },
    {
     "name": "stderr",
     "output_type": "stream",
     "text": [
      "WARNING:tensorflow:Value in checkpoint could not be found in the restored object: (root).keras_api.metrics.1.total\n"
     ]
    },
    {
     "name": "stdout",
     "output_type": "stream",
     "text": [
      "WARNING:tensorflow:Value in checkpoint could not be found in the restored object: (root).keras_api.metrics.1.count\n"
     ]
    },
    {
     "name": "stderr",
     "output_type": "stream",
     "text": [
      "WARNING:tensorflow:Value in checkpoint could not be found in the restored object: (root).keras_api.metrics.1.count\n"
     ]
    },
    {
     "name": "stdout",
     "output_type": "stream",
     "text": [
      "WARNING:tensorflow:Value in checkpoint could not be found in the restored object: (root).keras_api.metrics.2.total\n"
     ]
    },
    {
     "name": "stderr",
     "output_type": "stream",
     "text": [
      "WARNING:tensorflow:Value in checkpoint could not be found in the restored object: (root).keras_api.metrics.2.total\n"
     ]
    },
    {
     "name": "stdout",
     "output_type": "stream",
     "text": [
      "WARNING:tensorflow:Value in checkpoint could not be found in the restored object: (root).keras_api.metrics.2.count\n"
     ]
    },
    {
     "name": "stderr",
     "output_type": "stream",
     "text": [
      "WARNING:tensorflow:Value in checkpoint could not be found in the restored object: (root).keras_api.metrics.2.count\n"
     ]
    },
    {
     "name": "stdout",
     "output_type": "stream",
     "text": [
      "INFO:tensorflow:Assets written to: ram://db0b054dcabf42daa09e8b524ce44017/assets\n"
     ]
    },
    {
     "name": "stderr",
     "output_type": "stream",
     "text": [
      "INFO:tensorflow:Assets written to: ram://db0b054dcabf42daa09e8b524ce44017/assets\n"
     ]
    },
    {
     "name": "stdout",
     "output_type": "stream",
     "text": [
      "INFO:tensorflow:Assets written to: ram://f9a691da9adc48abbce5bedb9d99f9ba/assets\n"
     ]
    },
    {
     "name": "stderr",
     "output_type": "stream",
     "text": [
      "INFO:tensorflow:Assets written to: ram://f9a691da9adc48abbce5bedb9d99f9ba/assets\n"
     ]
    }
   ],
   "source": [
    "import os\n",
    "import warnings\n",
    "warnings.filterwarnings('ignore')\n",
    "os.environ[\"TF_CPP_MIN_LOG_LEVEL\"]=\"5\"\n",
    "#fiting model\n",
    "history = randSearch_1.fit(X_train_transform, y_train,verbose=0)"
   ]
  },
  {
   "cell_type": "code",
   "execution_count": 41,
   "metadata": {
    "colab": {
     "base_uri": "https://localhost:8080/"
    },
    "id": "p8uiM1tt5FS4",
    "outputId": "f33506e3-a5a9-4fae-a020-35b6c52319c1"
   },
   "outputs": [
    {
     "name": "stdout",
     "output_type": "stream",
     "text": [
      "{'batch_size': 75, 'epochs': 5}\n",
      "KerasRegressor(\n",
      "\tmodel=<keras.src.engine.sequential.Sequential object at 0x7ff4b50997f0>\n",
      "\tbuild_fn=None\n",
      "\twarm_start=False\n",
      "\trandom_state=None\n",
      "\toptimizer=rmsprop\n",
      "\tloss=None\n",
      "\tmetrics=None\n",
      "\tbatch_size=75\n",
      "\tvalidation_batch_size=None\n",
      "\tverbose=1\n",
      "\tcallbacks=None\n",
      "\tvalidation_split=0.0\n",
      "\tshuffle=True\n",
      "\trun_eagerly=False\n",
      "\tepochs=5\n",
      ")\n"
     ]
    }
   ],
   "source": [
    "#finding best parameter and best estimator\n",
    "best_params = randSearch_1.best_params_\n",
    "best_estimators_model1 = randSearch_1.best_estimator_\n",
    "\n",
    "print(best_params)\n",
    "print(best_estimators_model1)"
   ]
  },
  {
   "cell_type": "code",
   "execution_count": 42,
   "metadata": {
    "colab": {
     "base_uri": "https://localhost:8080/"
    },
    "id": "qWO17O9Z5JnF",
    "outputId": "b1b17124-354a-43c6-c4a4-13cfabddf771"
   },
   "outputs": [
    {
     "name": "stdout",
     "output_type": "stream",
     "text": [
      "6/6 [==============================] - 1s 24ms/step\n"
     ]
    }
   ],
   "source": [
    "#predicting on x_validation\n",
    "y_val_prediction = best_estimators_model1.predict(X_validation_transform)"
   ]
  },
  {
   "cell_type": "code",
   "execution_count": 43,
   "metadata": {
    "colab": {
     "base_uri": "https://localhost:8080/"
    },
    "id": "euERCeEkAdNx",
    "outputId": "1efa8adb-f50b-48c6-8234-46ab7fd0f831"
   },
   "outputs": [
    {
     "name": "stdout",
     "output_type": "stream",
     "text": [
      "MSE: 15272.03511289524\n",
      "RMSE: 123.5800757116423\n",
      "MAE: 23.62836020085426\n",
      "R-squared: 0.7819069928284158\n",
      "adjusted R-squared: 0.7475054172924218\n"
     ]
    }
   ],
   "source": [
    "from sklearn.metrics import mean_squared_error,mean_absolute_error,r2_score\n",
    "import numpy as np\n",
    "\n",
    "# Calculate mean squared error on training data\n",
    "KerasRegressor_mse = mean_squared_error(y_val_prediction, y_validation)\n",
    "print(f'MSE: {KerasRegressor_mse}')\n",
    "\n",
    "# Calculate root mean squared error on training data\n",
    "KerasRegressor_rmse = np.sqrt(mean_squared_error(y_val_prediction, y_validation))\n",
    "print(f'RMSE: {KerasRegressor_rmse}')\n",
    "\n",
    "# Calculate mean absolute error on training data\n",
    "KerasRegressor_mae = mean_absolute_error(y_val_prediction, y_validation)\n",
    "print(f'MAE: {KerasRegressor_mae}')\n",
    "\n",
    "# Calculate R-squared on training data\n",
    "KerasRegressor_r2 = r2_score(y_val_prediction, y_validation)\n",
    "print(f'R-squared: {KerasRegressor_r2}')\n",
    "\n",
    "# Calculate adjusted R-squared on training data\n",
    "n = len(y_validation) #  Number of samples\n",
    "p = X_train_transform.shape[1] #Number of predicted variables\n",
    "KerasRegressor_adj_r2 = 1 - (1 - KerasRegressor_r2) * (n - 1) / (n - p - 1)\n",
    "print(f'adjusted R-squared: {KerasRegressor_adj_r2}')\n"
   ]
  },
  {
   "cell_type": "markdown",
   "metadata": {
    "id": "n1Z9eBaLnuNA"
   },
   "source": [
    "Feature importance"
   ]
  },
  {
   "cell_type": "code",
   "execution_count": 44,
   "metadata": {
    "colab": {
     "base_uri": "https://localhost:8080/"
    },
    "id": "_6DzlmpOmKKk",
    "outputId": "bcc538bc-b5c6-47e5-e430-492d4e19f910"
   },
   "outputs": [
    {
     "data": {
      "text/plain": [
       "array([1.638281 , 1.9860568, 1.7181914, 1.7589409, 1.9616082, 1.6774321,\n",
       "       1.3341175, 1.7956964, 1.8125561, 1.9702457, 1.6758901, 1.7075301,\n",
       "       1.9195551, 1.9596431, 1.8028281, 1.7950647, 1.944642 , 2.1631932,\n",
       "       1.5576382, 2.0660167, 1.7560632, 1.5736532, 1.1752757, 1.1575099,\n",
       "       1.390413 , 1.7019215, 1.751894 , 1.5550151, 2.3167524, 1.6598563,\n",
       "       2.436149 , 1.863234 , 1.5904832, 1.7841712, 1.8013697, 1.6696972,\n",
       "       1.9722662, 1.623615 , 1.184541 , 1.3156114, 1.4326435, 2.1629376,\n",
       "       1.3005135, 2.0249753, 1.3155534, 2.3509884, 1.9766967, 1.5599192,\n",
       "       2.181947 , 1.7748222, 1.3812363, 1.3152362, 1.2427105],\n",
       "      dtype=float32)"
      ]
     },
     "execution_count": 44,
     "metadata": {},
     "output_type": "execute_result"
    }
   ],
   "source": [
    "weights = Create_model.get_weights()\n",
    "feature_importance = np.sum(np.abs(weights[0]), axis=1)\n",
    "feature_importance"
   ]
  },
  {
   "cell_type": "markdown",
   "metadata": {
    "id": "-V9ghgkg-LDr"
   },
   "source": [
    "Finding the  feature importance of the Neural networks is challenging as it consist of inter-connected layers which makes it difficult to interpret the importance of the individual feature. So we used weight based approach in finding the importance of the feature.\n",
    "\n",
    "Weight-based methods consider the weights or connections between the neurons in the neural network to estimate feature importance. Features with higher weights contribute more to the final predictions of the model."
   ]
  },
  {
   "cell_type": "markdown",
   "metadata": {
    "id": "Q9Oe0_cEDP3I"
   },
   "source": [
    "###MOdel 2 - Another way to Train Keras Models with L2 and Dropouts"
   ]
  },
  {
   "cell_type": "code",
   "execution_count": 45,
   "metadata": {
    "colab": {
     "base_uri": "https://localhost:8080/"
    },
    "id": "Xc4lqT0p6xmc",
    "outputId": "bc53b25e-f7cf-4f4f-ba32-ce4632330380"
   },
   "outputs": [
    {
     "name": "stdout",
     "output_type": "stream",
     "text": [
      "Model: \"sequential_1\"\n",
      "_________________________________________________________________\n",
      " Layer (type)                Output Shape              Param #   \n",
      "=================================================================\n",
      " dense_8 (Dense)             (None, 53)                2862      \n",
      "                                                                 \n",
      " dense_9 (Dense)             (None, 512)               27648     \n",
      "                                                                 \n",
      " dropout (Dropout)           (None, 512)               0         \n",
      "                                                                 \n",
      " dense_10 (Dense)            (None, 256)               131328    \n",
      "                                                                 \n",
      " dropout_1 (Dropout)         (None, 256)               0         \n",
      "                                                                 \n",
      " dense_11 (Dense)            (None, 128)               32896     \n",
      "                                                                 \n",
      " dropout_2 (Dropout)         (None, 128)               0         \n",
      "                                                                 \n",
      " dense_12 (Dense)            (None, 64)                8256      \n",
      "                                                                 \n",
      " dropout_3 (Dropout)         (None, 64)                0         \n",
      "                                                                 \n",
      " dense_13 (Dense)            (None, 32)                2080      \n",
      "                                                                 \n",
      " dropout_4 (Dropout)         (None, 32)                0         \n",
      "                                                                 \n",
      " dense_14 (Dense)            (None, 1)                 33        \n",
      "                                                                 \n",
      "=================================================================\n",
      "Total params: 205103 (801.18 KB)\n",
      "Trainable params: 205103 (801.18 KB)\n",
      "Non-trainable params: 0 (0.00 Byte)\n",
      "_________________________________________________________________\n"
     ]
    }
   ],
   "source": [
    "Create_model_2 = Sequential()\n",
    "\n",
    "#Input Layer\n",
    "Create_model_2.add(Dense(X_train_transform.shape[1], activation='relu', input_dim = X_train_transform.shape[1]))\n",
    "\n",
    "#Hidden Layer\n",
    "Create_model_2.add(Dense(512,kernel_initializer='normal', activation='relu', kernel_regularizer=tf.keras.regularizers.L1(0.01), bias_regularizer=tf.keras.regularizers.l2(0.015)))\n",
    "Create_model_2.add(Dropout(0.3))\n",
    "Create_model_2.add(Dense(256,kernel_initializer='normal', activation='relu'))\n",
    "Create_model_2.add(Dropout(0.3))\n",
    "Create_model_2.add(Dense(128,kernel_initializer='normal', activation='relu', kernel_regularizer=tf.keras.regularizers.L1(0.01), bias_regularizer=tf.keras.regularizers.l2(0.015)))\n",
    "Create_model_2.add(Dropout(0.3))\n",
    "Create_model_2.add(Dense(64,kernel_initializer='normal', activation='relu'))\n",
    "Create_model_2.add(Dropout(0.3))\n",
    "Create_model_2.add(Dense(32,kernel_initializer='normal', activation='relu'))\n",
    "Create_model_2.add(Dropout(0.3))\n",
    "#Output Layer\n",
    "Create_model_2.add(Dense(1,kernel_initializer='normal', activation = 'relu'))\n",
    "\n",
    "opt = keras.optimizers.Adam(learning_rate=0.01)\n",
    "\n",
    "Create_model_2.compile(loss = 'MeanSquaredError', optimizer=opt, metrics=['mse','mae'])\n",
    "Create_model_2.summary()"
   ]
  },
  {
   "cell_type": "code",
   "execution_count": 46,
   "metadata": {
    "colab": {
     "base_uri": "https://localhost:8080/"
    },
    "id": "WV4g1CKE6yod",
    "outputId": "a59b744b-5eaf-48de-8715-ad741c6c9458"
   },
   "outputs": [
    {
     "name": "stdout",
     "output_type": "stream",
     "text": [
      "Epoch 1/100\n",
      "1545/1545 [==============================] - 21s 10ms/step - loss: 23379.6133 - mse: 23343.9531 - mae: 51.3386\n",
      "Epoch 2/100\n",
      "1545/1545 [==============================] - 20s 13ms/step - loss: 34454.1680 - mse: 34391.3750 - mae: 60.3978\n",
      "Epoch 3/100\n",
      "1545/1545 [==============================] - 17s 11ms/step - loss: 35601.3711 - mse: 35543.7773 - mae: 54.6439\n",
      "Epoch 4/100\n",
      "1545/1545 [==============================] - 16s 11ms/step - loss: 34503.1641 - mse: 34454.7461 - mae: 47.1036\n",
      "Epoch 5/100\n",
      "1545/1545 [==============================] - 18s 11ms/step - loss: 33805.1602 - mse: 33764.4258 - mae: 45.8682\n",
      "Epoch 6/100\n",
      "1545/1545 [==============================] - 15s 9ms/step - loss: 33337.1094 - mse: 33302.9961 - mae: 47.1832\n",
      "Epoch 6: early stopping\n"
     ]
    }
   ],
   "source": [
    "from keras.callbacks import EarlyStopping\n",
    "#intilize values for earlystopping\n",
    "es = EarlyStopping(monitor='mse', verbose=1, patience=5)\n",
    "\n",
    "#fitting modek\n",
    "history2 = Create_model_2.fit(X_train_transform, y_train, batch_size=25, epochs=100, callbacks=[es])"
   ]
  },
  {
   "cell_type": "code",
   "execution_count": 47,
   "metadata": {
    "colab": {
     "base_uri": "https://localhost:8080/"
    },
    "id": "OfRNRNjs60-r",
    "outputId": "ea08b2c9-4d98-43d7-fcfe-e6adfe2aa60d"
   },
   "outputs": [
    {
     "name": "stdout",
     "output_type": "stream",
     "text": [
      "1207/1207 [==============================] - 7s 5ms/step - loss: 33175.1562 - mse: 33143.7969 - mae: 47.8668\n",
      "13/13 [==============================] - 0s 5ms/step - loss: 20976.5703 - mse: 20945.2598 - mae: 38.2810\n",
      "13/13 [==============================] - 0s 11ms/step\n"
     ]
    }
   ],
   "source": [
    "from matplotlib import pyplot\n",
    "\n",
    "train_acc = Create_model_2.evaluate(X_train_transform, y_train)\n",
    "test_acc = Create_model_2.evaluate(X_validation_transform, y_validation)\n",
    "\n",
    "#Predicting on X_validation_transform\n",
    "y_prediction2 = Create_model_2.predict(X_validation_transform)\n"
   ]
  },
  {
   "cell_type": "code",
   "execution_count": 48,
   "metadata": {
    "colab": {
     "base_uri": "https://localhost:8080/"
    },
    "id": "iioNtqO5Bp0G",
    "outputId": "6abecc79-ab9d-4574-e979-90d125f9fab8"
   },
   "outputs": [
    {
     "name": "stdout",
     "output_type": "stream",
     "text": [
      "MSE: 20945.25778539458\n",
      "RMSE: 144.7247656256336\n",
      "MAE: 38.281018490115635\n",
      "R-squared: -359836788778235.44\n",
      "adjusted R-squared: -416596758436707.25\n"
     ]
    }
   ],
   "source": [
    "\n",
    "# Calculate mean squared error on training data\n",
    "train_mse2 = mean_squared_error(y_prediction2, y_validation)\n",
    "print(f'MSE: {train_mse2}')\n",
    "\n",
    "# Calculate root mean squared error on training data\n",
    "train_rmse2 = np.sqrt(mean_squared_error(y_prediction2, y_validation))\n",
    "print(f'RMSE: {train_rmse2}')\n",
    "\n",
    "# Calculate mean absolute error on training data\n",
    "train_mae2 = mean_absolute_error(y_prediction2, y_validation)\n",
    "print(f'MAE: {train_mae2}')\n",
    "\n",
    "# Calculate R-squared on training data\n",
    "train_r2_2 = r2_score(y_prediction2, y_validation)\n",
    "print(f'R-squared: {train_r2_2}')\n",
    "\n",
    "# Calculate adjusted R-squared on training data\n",
    "n = len(y_validation) #  Number of samples\n",
    "p = X_train_transform.shape[1] #Number of predicted variables\n",
    "train_adj_r2_2 = 1 - (1 - train_r2_2) * (n - 1) / (n - p - 1)\n",
    "print(f'adjusted R-squared: {train_adj_r2_2}')\n"
   ]
  },
  {
   "cell_type": "code",
   "execution_count": 49,
   "metadata": {
    "colab": {
     "base_uri": "https://localhost:8080/"
    },
    "id": "nSZVe6Y_CRaD",
    "outputId": "e1907284-6a53-4f08-bc40-1c6d9d5fdaad"
   },
   "outputs": [
    {
     "data": {
      "text/plain": [
       "array([11.404973 ,  8.373104 , 17.021011 , 20.448364 , 13.340593 ,\n",
       "       14.092812 , 11.1912365, 11.956636 , 15.607832 , 15.419306 ,\n",
       "       14.355254 , 13.555486 , 14.286339 , 11.520291 , 11.151647 ,\n",
       "       14.165156 , 13.730309 , 12.931172 , 12.174717 , 14.80846  ,\n",
       "       15.6704445, 12.497427 , 20.628971 , 22.09226  , 17.421583 ,\n",
       "       24.163534 , 16.112362 , 14.302734 , 18.894411 , 15.941682 ,\n",
       "       16.215311 , 14.977611 , 13.56035  , 15.605399 , 14.13054  ,\n",
       "       11.199691 , 15.407423 , 10.044538 , 14.773515 , 13.592586 ,\n",
       "       13.538781 , 12.935294 , 12.313658 , 16.090376 , 13.532018 ,\n",
       "       13.480239 , 12.730814 , 11.790324 , 13.555488 , 13.238179 ,\n",
       "       11.817799 , 23.350626 , 24.518307 ], dtype=float32)"
      ]
     },
     "execution_count": 49,
     "metadata": {},
     "output_type": "execute_result"
    }
   ],
   "source": [
    "weights = Create_model_2.get_weights()\n",
    "feature_importance = np.sum(np.abs(weights[0]), axis=1)\n",
    "feature_importance"
   ]
  },
  {
   "cell_type": "markdown",
   "metadata": {
    "id": "J5OdoHgJD-VP"
   },
   "source": [
    "Finding the  feature importance of the Neural networks is challenging as it consist of inter-connected layers which makes it difficult to interpret the importance of the individual feature. So we used weight based approach in finding the importance of the feature.\n",
    "\n",
    "Weight-based methods consider the weights or connections between the neurons in the neural network to estimate feature importance. Features with higher weights contribute more to the final predictions of the model."
   ]
  },
  {
   "cell_type": "markdown",
   "metadata": {
    "id": "Y3jVM22_N3LK"
   },
   "source": [
    "## Model 3:Another way to Train Keras Models with Learning Rate Scheduler and Early Stopping"
   ]
  },
  {
   "cell_type": "code",
   "execution_count": 50,
   "metadata": {
    "colab": {
     "base_uri": "https://localhost:8080/"
    },
    "id": "xcTAQgVVvzHO",
    "outputId": "3278e01e-230f-4ac3-a753-c23726b8885c"
   },
   "outputs": [
    {
     "name": "stdout",
     "output_type": "stream",
     "text": [
      "Learning Rate Scheduler Callback: <keras.src.callbacks.LearningRateScheduler object at 0x7ff4b48bca30>\n",
      "X_train shape: (38609, 11)\n",
      "y_train shape: (38609,)\n",
      "Fitting the model...\n",
      "Epoch 1/10\n",
      "WARNING:tensorflow:Detecting that an object or model or tf.train.Checkpoint is being deleted with unrestored values. See the following logs for the specific values in question. To silence these warnings, use `status.expect_partial()`. See https://www.tensorflow.org/api_docs/python/tf/train/Checkpoint#restorefor details about the status object returned by the restore function.\n"
     ]
    },
    {
     "name": "stderr",
     "output_type": "stream",
     "text": [
      "WARNING:tensorflow:Detecting that an object or model or tf.train.Checkpoint is being deleted with unrestored values. See the following logs for the specific values in question. To silence these warnings, use `status.expect_partial()`. See https://www.tensorflow.org/api_docs/python/tf/train/Checkpoint#restorefor details about the status object returned by the restore function.\n"
     ]
    },
    {
     "name": "stdout",
     "output_type": "stream",
     "text": [
      "WARNING:tensorflow:Value in checkpoint could not be found in the restored object: (root).keras_api.metrics.0.total\n"
     ]
    },
    {
     "name": "stderr",
     "output_type": "stream",
     "text": [
      "WARNING:tensorflow:Value in checkpoint could not be found in the restored object: (root).keras_api.metrics.0.total\n"
     ]
    },
    {
     "name": "stdout",
     "output_type": "stream",
     "text": [
      "WARNING:tensorflow:Value in checkpoint could not be found in the restored object: (root).keras_api.metrics.0.count\n"
     ]
    },
    {
     "name": "stderr",
     "output_type": "stream",
     "text": [
      "WARNING:tensorflow:Value in checkpoint could not be found in the restored object: (root).keras_api.metrics.0.count\n"
     ]
    },
    {
     "name": "stdout",
     "output_type": "stream",
     "text": [
      "WARNING:tensorflow:Value in checkpoint could not be found in the restored object: (root).keras_api.metrics.1.total\n"
     ]
    },
    {
     "name": "stderr",
     "output_type": "stream",
     "text": [
      "WARNING:tensorflow:Value in checkpoint could not be found in the restored object: (root).keras_api.metrics.1.total\n"
     ]
    },
    {
     "name": "stdout",
     "output_type": "stream",
     "text": [
      "WARNING:tensorflow:Value in checkpoint could not be found in the restored object: (root).keras_api.metrics.1.count\n"
     ]
    },
    {
     "name": "stderr",
     "output_type": "stream",
     "text": [
      "WARNING:tensorflow:Value in checkpoint could not be found in the restored object: (root).keras_api.metrics.1.count\n"
     ]
    },
    {
     "name": "stdout",
     "output_type": "stream",
     "text": [
      "WARNING:tensorflow:Value in checkpoint could not be found in the restored object: (root).keras_api.metrics.2.total\n"
     ]
    },
    {
     "name": "stderr",
     "output_type": "stream",
     "text": [
      "WARNING:tensorflow:Value in checkpoint could not be found in the restored object: (root).keras_api.metrics.2.total\n"
     ]
    },
    {
     "name": "stdout",
     "output_type": "stream",
     "text": [
      "WARNING:tensorflow:Value in checkpoint could not be found in the restored object: (root).keras_api.metrics.2.count\n"
     ]
    },
    {
     "name": "stderr",
     "output_type": "stream",
     "text": [
      "WARNING:tensorflow:Value in checkpoint could not be found in the restored object: (root).keras_api.metrics.2.count\n"
     ]
    },
    {
     "name": "stdout",
     "output_type": "stream",
     "text": [
      "WARNING:tensorflow:Detecting that an object or model or tf.train.Checkpoint is being deleted with unrestored values. See the following logs for the specific values in question. To silence these warnings, use `status.expect_partial()`. See https://www.tensorflow.org/api_docs/python/tf/train/Checkpoint#restorefor details about the status object returned by the restore function.\n"
     ]
    },
    {
     "name": "stderr",
     "output_type": "stream",
     "text": [
      "WARNING:tensorflow:Detecting that an object or model or tf.train.Checkpoint is being deleted with unrestored values. See the following logs for the specific values in question. To silence these warnings, use `status.expect_partial()`. See https://www.tensorflow.org/api_docs/python/tf/train/Checkpoint#restorefor details about the status object returned by the restore function.\n"
     ]
    },
    {
     "name": "stdout",
     "output_type": "stream",
     "text": [
      "WARNING:tensorflow:Value in checkpoint could not be found in the restored object: (root).keras_api.metrics.0.total\n"
     ]
    },
    {
     "name": "stderr",
     "output_type": "stream",
     "text": [
      "WARNING:tensorflow:Value in checkpoint could not be found in the restored object: (root).keras_api.metrics.0.total\n"
     ]
    },
    {
     "name": "stdout",
     "output_type": "stream",
     "text": [
      "WARNING:tensorflow:Value in checkpoint could not be found in the restored object: (root).keras_api.metrics.0.count\n"
     ]
    },
    {
     "name": "stderr",
     "output_type": "stream",
     "text": [
      "WARNING:tensorflow:Value in checkpoint could not be found in the restored object: (root).keras_api.metrics.0.count\n"
     ]
    },
    {
     "name": "stdout",
     "output_type": "stream",
     "text": [
      "WARNING:tensorflow:Value in checkpoint could not be found in the restored object: (root).keras_api.metrics.1.total\n"
     ]
    },
    {
     "name": "stderr",
     "output_type": "stream",
     "text": [
      "WARNING:tensorflow:Value in checkpoint could not be found in the restored object: (root).keras_api.metrics.1.total\n"
     ]
    },
    {
     "name": "stdout",
     "output_type": "stream",
     "text": [
      "WARNING:tensorflow:Value in checkpoint could not be found in the restored object: (root).keras_api.metrics.1.count\n"
     ]
    },
    {
     "name": "stderr",
     "output_type": "stream",
     "text": [
      "WARNING:tensorflow:Value in checkpoint could not be found in the restored object: (root).keras_api.metrics.1.count\n"
     ]
    },
    {
     "name": "stdout",
     "output_type": "stream",
     "text": [
      "WARNING:tensorflow:Value in checkpoint could not be found in the restored object: (root).keras_api.metrics.2.total\n"
     ]
    },
    {
     "name": "stderr",
     "output_type": "stream",
     "text": [
      "WARNING:tensorflow:Value in checkpoint could not be found in the restored object: (root).keras_api.metrics.2.total\n"
     ]
    },
    {
     "name": "stdout",
     "output_type": "stream",
     "text": [
      "WARNING:tensorflow:Value in checkpoint could not be found in the restored object: (root).keras_api.metrics.2.count\n"
     ]
    },
    {
     "name": "stderr",
     "output_type": "stream",
     "text": [
      "WARNING:tensorflow:Value in checkpoint could not be found in the restored object: (root).keras_api.metrics.2.count\n"
     ]
    },
    {
     "name": "stdout",
     "output_type": "stream",
     "text": [
      "483/483 [==============================] - 10s 11ms/step - loss: 7454.5601 - mse: 7454.5601 - mae: 33.6157 - val_loss: 866.4465 - val_mse: 866.4465 - val_mae: 17.4320 - lr: 0.0010\n",
      "Epoch 2/10\n",
      "483/483 [==============================] - 5s 10ms/step - loss: 1810.8479 - mse: 1810.8479 - mae: 20.8319 - val_loss: 659.5938 - val_mse: 659.5938 - val_mae: 16.3495 - lr: 0.0010\n",
      "Epoch 3/10\n",
      "483/483 [==============================] - 5s 10ms/step - loss: 1883.1047 - mse: 1883.1047 - mae: 20.4196 - val_loss: 685.7404 - val_mse: 685.7404 - val_mae: 16.2101 - lr: 0.0010\n",
      "Epoch 4/10\n",
      "483/483 [==============================] - 5s 9ms/step - loss: 1699.4181 - mse: 1699.4181 - mae: 19.7330 - val_loss: 1018.4354 - val_mse: 1018.4354 - val_mae: 19.2288 - lr: 0.0010\n",
      "Epoch 5/10\n",
      "483/483 [==============================] - 5s 10ms/step - loss: 1529.7021 - mse: 1529.7021 - mae: 19.1048 - val_loss: 621.8451 - val_mse: 621.8451 - val_mae: 16.9538 - lr: 0.0010\n",
      "Epoch 6/10\n",
      "483/483 [==============================] - 4s 9ms/step - loss: 1440.7888 - mse: 1440.7888 - mae: 18.1559 - val_loss: 1311.9669 - val_mse: 1311.9669 - val_mae: 17.7046 - lr: 0.0010\n",
      "Epoch 7/10\n",
      "483/483 [==============================] - 4s 9ms/step - loss: 1216.2831 - mse: 1216.2831 - mae: 16.5522 - val_loss: 376.0517 - val_mse: 376.0517 - val_mae: 12.4110 - lr: 1.0000e-04\n",
      "Epoch 8/10\n",
      "483/483 [==============================] - 5s 11ms/step - loss: 1025.1063 - mse: 1025.1063 - mae: 15.8355 - val_loss: 292.3163 - val_mse: 292.3163 - val_mae: 11.8382 - lr: 1.0000e-05\n",
      "Epoch 9/10\n",
      "483/483 [==============================] - 4s 9ms/step - loss: 1049.0381 - mse: 1049.0381 - mae: 15.8189 - val_loss: 292.8802 - val_mse: 292.8802 - val_mae: 11.8359 - lr: 1.0000e-06\n",
      "Epoch 10/10\n",
      "483/483 [==============================] - 5s 11ms/step - loss: 1130.4491 - mse: 1130.4491 - mae: 15.9662 - val_loss: 292.9440 - val_mse: 292.9440 - val_mae: 11.8360 - lr: 1.0000e-07\n"
     ]
    }
   ],
   "source": [
    "# Learning rate Optimization\n",
    "# Import necessary modules\n",
    "from tensorflow.keras.layers import Dense, Dropout\n",
    "from tensorflow.keras.optimizers import Adam\n",
    "from tensorflow.keras.callbacks import LearningRateScheduler\n",
    "from tensorflow.keras.layers import LeakyReLU\n",
    "\n",
    "# Define a learning rate scheduler function\n",
    "def lr_scheduler(epoch, lr):\n",
    "    if epoch > 5:\n",
    "        return lr * 0.1\n",
    "    return lr\n",
    "\n",
    "# Create a sequential model\n",
    "improved_model = Sequential()\n",
    "\n",
    "# Add an input layer with ReLU activation\n",
    "improved_model.add(Dense(X_train.shape[1], activation='relu', input_dim=X_train_transform.shape[1]))\n",
    "\n",
    "# Add hidden layers with ReLU activation and dropout\n",
    "improved_model.add(Dense(512))\n",
    "improved_model.add(LeakyReLU(alpha=0.01))\n",
    "improved_model.add(Dropout(0.3))  # Apply dropout to prevent overfitting\n",
    "\n",
    "improved_model.add(Dense(256))\n",
    "improved_model.add(LeakyReLU(alpha=0.01))\n",
    "improved_model.add(Dropout(0.3))  # Apply dropout to prevent overfitting\n",
    "\n",
    "improved_model.add(Dense(128))\n",
    "improved_model.add(LeakyReLU(alpha=0.01))\n",
    "improved_model.add(Dropout(0.3))  # Apply dropout to prevent overfitting\n",
    "\n",
    "improved_model.add(Dense(64))\n",
    "improved_model.add(LeakyReLU(alpha=0.01))\n",
    "improved_model.add(Dropout(0.3))  # Apply dropout to prevent overfitting\n",
    "\n",
    "# Add the output layer with ReLU activation for regression\n",
    "improved_model.add(Dense(1))\n",
    "improved_model.add(LeakyReLU(alpha=0.01))\n",
    "\n",
    "\n",
    "# Compile the model using mean squared error loss and Adam optimizer\n",
    "improved_model.compile(loss='mean_squared_error', optimizer=Adam(), metrics=['mse', 'mae'])\n",
    "\n",
    "# Create the learning rate scheduler callback\n",
    "lr_scheduler_callback = LearningRateScheduler(lr_scheduler)\n",
    "# Create the early stopping callback\n",
    "early_stopping_callback = EarlyStopping(monitor='val_loss', patience=3, restore_best_weights=True)\n",
    "\n",
    "# Print the learning rate scheduler callback object for confirmation\n",
    "print(\"Learning Rate Scheduler Callback:\", lr_scheduler_callback)\n",
    "\n",
    "# Debugging: Print shapes of input data to verify compatibility\n",
    "print(\"X_train shape:\", X_train.shape)\n",
    "print(\"y_train shape:\", y_train.shape)\n",
    "\n",
    "# Fit the model to the training data using the learning rate scheduler\n",
    "print(\"Fitting the model...\")\n",
    "history = improved_model.fit(X_train_transform, y_train, batch_size=64, epochs=10, validation_split=0.2, callbacks=[lr_scheduler_callback,early_stopping_callback])\n"
   ]
  },
  {
   "cell_type": "code",
   "execution_count": 51,
   "metadata": {
    "colab": {
     "base_uri": "https://localhost:8080/"
    },
    "id": "iDfZUXBL0qmE",
    "outputId": "b8fd06af-774f-4e58-c918-8388555b6aae"
   },
   "outputs": [
    {
     "name": "stdout",
     "output_type": "stream",
     "text": [
      "13/13 [==============================] - 0s 3ms/step\n",
      "MSE: 14562.596001551961\n",
      "RMSE: 120.67558162922589\n",
      "MAE: 28.796197602654743\n",
      "R-squared: 0.7841593978064466\n",
      "adjusted R-squared: 0.750113112341392\n"
     ]
    }
   ],
   "source": [
    "#predicting X_validation_transform\n",
    "y_prediction3 = improved_model.predict(X_validation_transform)\n",
    "\n",
    "# Calculate mean squared error on training data\n",
    "train_mse3 = mean_squared_error(y_prediction3, y_validation)\n",
    "print(f'MSE: {train_mse3}')\n",
    "\n",
    "# Calculate root mean squared error on training data\n",
    "train_rmse3 = np.sqrt(mean_squared_error(y_prediction3, y_validation))\n",
    "print(f'RMSE: {train_rmse3}')\n",
    "\n",
    "# Calculate mean absolute error on training data\n",
    "train_mae3 = mean_absolute_error(y_prediction3, y_validation)\n",
    "print(f'MAE: {train_mae3}')\n",
    "\n",
    "# Calculate R-squared on training data\n",
    "train_r2_3 = r2_score(y_prediction3, y_validation)\n",
    "print(f'R-squared: {train_r2_3}')\n",
    "\n",
    "# Calculate adjusted R-squared on training data\n",
    "n = len(y_validation) #  Number of samples\n",
    "p = X_train_transform.shape[1] #Number of predicted variables\n",
    "train_adj_r2_3 = 1 - (1 - train_r2_3) * (n - 1) / (n - p - 1)\n",
    "print(f'adjusted R-squared: {train_adj_r2_3}')\n"
   ]
  },
  {
   "cell_type": "code",
   "execution_count": 52,
   "metadata": {
    "colab": {
     "base_uri": "https://localhost:8080/"
    },
    "id": "CdyXyZouCc1J",
    "outputId": "b6211b72-d450-44a6-b3a3-ce42a048e7e0"
   },
   "outputs": [
    {
     "data": {
      "text/plain": [
       "array([1.2010379 , 2.1925437 , 1.9048337 , 1.6614438 , 1.7116714 ,\n",
       "       1.5422958 , 0.9904052 , 1.5273719 , 1.8126378 , 1.0134208 ,\n",
       "       1.5511276 , 0.93909705, 1.5807213 , 1.4091233 , 1.3387344 ,\n",
       "       1.4965574 , 1.5045824 , 1.1199095 , 1.6768513 , 1.3725609 ,\n",
       "       1.2250502 , 1.1769737 , 2.0587533 , 1.6906614 , 1.5536077 ,\n",
       "       4.610575  , 1.5247635 , 1.850476  , 1.596352  , 1.4118955 ,\n",
       "       1.3588545 , 1.2932849 , 1.3439558 , 1.6238272 , 1.399755  ,\n",
       "       1.6700133 , 1.3979205 , 1.2580967 , 2.1240678 , 1.4686753 ,\n",
       "       1.2282925 , 1.7718273 , 1.5229325 , 1.4118872 , 1.2962935 ,\n",
       "       1.6666173 , 1.5145999 , 1.5842797 , 1.3982334 , 1.7631812 ,\n",
       "       1.6581463 , 1.3264186 , 3.455848  ], dtype=float32)"
      ]
     },
     "execution_count": 52,
     "metadata": {},
     "output_type": "execute_result"
    }
   ],
   "source": [
    "weights = improved_model.get_weights()\n",
    "feature_importance = np.sum(np.abs(weights[0]), axis=1)\n",
    "feature_importance"
   ]
  },
  {
   "cell_type": "markdown",
   "metadata": {
    "id": "bihOWQLMErGX"
   },
   "source": [
    "Finding the  feature importance of the Neural networks is challenging as it consist of inter-connected layers which makes it difficult to interpret the importance of the individual feature. So we used weight based approach in finding the importance of the feature.\n",
    "\n",
    "Weight-based methods consider the weights or connections between the neurons in the neural network to estimate feature importance. Features with higher weights contribute more to the final predictions of the model."
   ]
  },
  {
   "cell_type": "markdown",
   "metadata": {
    "id": "YQLOPKbrE1O6"
   },
   "source": [
    "# TEST data"
   ]
  },
  {
   "cell_type": "code",
   "execution_count": 53,
   "metadata": {
    "colab": {
     "base_uri": "https://localhost:8080/",
     "height": 313
    },
    "id": "hL2VyeluE06q",
    "outputId": "23e00bae-8198-48cb-8c5a-9a06d9fda2bb"
   },
   "outputs": [
    {
     "data": {
      "text/html": [
       "<div>\n",
       "<style scoped>\n",
       "    .dataframe tbody tr th:only-of-type {\n",
       "        vertical-align: middle;\n",
       "    }\n",
       "\n",
       "    .dataframe tbody tr th {\n",
       "        vertical-align: top;\n",
       "    }\n",
       "\n",
       "    .dataframe thead th {\n",
       "        text-align: right;\n",
       "    }\n",
       "</style>\n",
       "<table border=\"1\" class=\"dataframe\">\n",
       "  <thead>\n",
       "    <tr style=\"text-align: right;\">\n",
       "      <th></th>\n",
       "      <th>trip</th>\n",
       "      <th>date</th>\n",
       "      <th>dayPart</th>\n",
       "      <th>exWeatherTag</th>\n",
       "      <th>originLocation</th>\n",
       "      <th>destinationLocation</th>\n",
       "      <th>distance</th>\n",
       "      <th>type</th>\n",
       "      <th>weight</th>\n",
       "      <th>packageType</th>\n",
       "      <th>carrier</th>\n",
       "    </tr>\n",
       "  </thead>\n",
       "  <tbody>\n",
       "    <tr>\n",
       "      <th>0</th>\n",
       "      <td>t333282728025</td>\n",
       "      <td>2017-09-27</td>\n",
       "      <td>night</td>\n",
       "      <td>NaN</td>\n",
       "      <td>S2</td>\n",
       "      <td>D8</td>\n",
       "      <td>2000</td>\n",
       "      <td>NaN</td>\n",
       "      <td>50</td>\n",
       "      <td>NaN</td>\n",
       "      <td>C</td>\n",
       "    </tr>\n",
       "    <tr>\n",
       "      <th>1</th>\n",
       "      <td>t35583500660</td>\n",
       "      <td>2017-12-12</td>\n",
       "      <td>day</td>\n",
       "      <td>snow</td>\n",
       "      <td>S2</td>\n",
       "      <td>D1</td>\n",
       "      <td>600</td>\n",
       "      <td>NaN</td>\n",
       "      <td>22</td>\n",
       "      <td>NaN</td>\n",
       "      <td>A</td>\n",
       "    </tr>\n",
       "    <tr>\n",
       "      <th>2</th>\n",
       "      <td>t117664376784</td>\n",
       "      <td>2018-11-18</td>\n",
       "      <td>day</td>\n",
       "      <td>NaN</td>\n",
       "      <td>S7</td>\n",
       "      <td>D1</td>\n",
       "      <td>1600</td>\n",
       "      <td>expedited</td>\n",
       "      <td>30</td>\n",
       "      <td>NaN</td>\n",
       "      <td>D</td>\n",
       "    </tr>\n",
       "    <tr>\n",
       "      <th>3</th>\n",
       "      <td>t261320757828</td>\n",
       "      <td>2019-11-18</td>\n",
       "      <td>day</td>\n",
       "      <td>NaN</td>\n",
       "      <td>S5</td>\n",
       "      <td>D6</td>\n",
       "      <td>2200</td>\n",
       "      <td>NaN</td>\n",
       "      <td>32</td>\n",
       "      <td>NaN</td>\n",
       "      <td>B</td>\n",
       "    </tr>\n",
       "    <tr>\n",
       "      <th>4</th>\n",
       "      <td>t147086054909</td>\n",
       "      <td>2019-06-02</td>\n",
       "      <td>night</td>\n",
       "      <td>heat</td>\n",
       "      <td>S6</td>\n",
       "      <td>D7</td>\n",
       "      <td>2600</td>\n",
       "      <td>NaN</td>\n",
       "      <td>7</td>\n",
       "      <td>NaN</td>\n",
       "      <td>B</td>\n",
       "    </tr>\n",
       "  </tbody>\n",
       "</table>\n",
       "</div>"
      ],
      "text/plain": [
       "            trip        date dayPart exWeatherTag originLocation  \\\n",
       "0  t333282728025  2017-09-27   night          NaN             S2   \n",
       "1   t35583500660  2017-12-12     day         snow             S2   \n",
       "2  t117664376784  2018-11-18     day          NaN             S7   \n",
       "3  t261320757828  2019-11-18     day          NaN             S5   \n",
       "4  t147086054909  2019-06-02   night         heat             S6   \n",
       "\n",
       "  destinationLocation  distance       type  weight packageType carrier  \n",
       "0                  D8      2000        NaN      50         NaN       C  \n",
       "1                  D1       600        NaN      22         NaN       A  \n",
       "2                  D1      1600  expedited      30         NaN       D  \n",
       "3                  D6      2200        NaN      32         NaN       B  \n",
       "4                  D7      2600        NaN       7         NaN       B  "
      ]
     },
     "execution_count": 53,
     "metadata": {},
     "output_type": "execute_result"
    }
   ],
   "source": [
    "#Loading test data into test df\n",
    "test = pd.read_csv(\"https://raw.githubusercontent.com/priyankaa-k/Databases1/main/Regression_test.csv\")\n",
    "test.head()"
   ]
  },
  {
   "cell_type": "code",
   "execution_count": 54,
   "metadata": {
    "colab": {
     "base_uri": "https://localhost:8080/"
    },
    "id": "FmBo-vQoFU9O",
    "outputId": "344fc30c-5319-450e-dea2-95949767b6fe"
   },
   "outputs": [
    {
     "data": {
      "text/plain": [
       "(802, 11)"
      ]
     },
     "execution_count": 54,
     "metadata": {},
     "output_type": "execute_result"
    }
   ],
   "source": [
    "#shape of test df\n",
    "test.shape"
   ]
  },
  {
   "cell_type": "code",
   "execution_count": 55,
   "metadata": {
    "id": "R2d3y6SA8VGB"
   },
   "outputs": [],
   "source": [
    "#saving the trip feature in test_trip df\n",
    "test_trip = pd.DataFrame()\n",
    "test_trip['trip'] = test['trip']"
   ]
  },
  {
   "cell_type": "code",
   "execution_count": 56,
   "metadata": {
    "id": "sW1emlQWFirq"
   },
   "outputs": [],
   "source": [
    "#Applying the data preprocessing functions to test data\n",
    "feature_engg(test)\n",
    "handling_missing_values(test)\n",
    "# outliers(test)\n",
    "test = dropSelectedColumns(test, drop_columns)"
   ]
  },
  {
   "cell_type": "code",
   "execution_count": 57,
   "metadata": {
    "colab": {
     "base_uri": "https://localhost:8080/"
    },
    "id": "lR3HvrWO8alF",
    "outputId": "5d373373-25ec-4271-98bc-d5a85eee8a15"
   },
   "outputs": [
    {
     "name": "stdout",
     "output_type": "stream",
     "text": [
      "X_test transformed.shape: (802, 53)\n"
     ]
    }
   ],
   "source": [
    "#fiting the normalisation pipeline to test df\n",
    "test_transformed = full_pipeline.transform(test)\n",
    "print(f\"X_test transformed.shape: {test_transformed.shape}\")"
   ]
  },
  {
   "cell_type": "code",
   "execution_count": 58,
   "metadata": {
    "id": "v6VykvFICNof"
   },
   "outputs": [],
   "source": [
    "#Chaning test_transformed into array\n",
    "test_transformed = test_transformed.toarray()"
   ]
  },
  {
   "cell_type": "markdown",
   "metadata": {
    "id": "N-V-K4JC76-h"
   },
   "source": [
    "### Evaluating your best model on TESTING data\n",
    "\n",
    "Choose among 3models with best performance"
   ]
  },
  {
   "cell_type": "markdown",
   "metadata": {
    "id": "eZ8HWaodvTm5"
   },
   "source": [
    "Predicting with Model1"
   ]
  },
  {
   "cell_type": "code",
   "execution_count": 59,
   "metadata": {
    "colab": {
     "base_uri": "https://localhost:8080/"
    },
    "id": "k2Qjew_CvZ0b",
    "outputId": "c314463b-9ba1-487d-8531-f95af9b28846"
   },
   "outputs": [
    {
     "name": "stdout",
     "output_type": "stream",
     "text": [
      "11/11 [==============================] - 0s 5ms/step\n"
     ]
    }
   ],
   "source": [
    "#predicting test_transformed\n",
    "test_prediction_1 = best_estimators_model1.predict(test_transformed)"
   ]
  },
  {
   "cell_type": "code",
   "execution_count": 60,
   "metadata": {
    "colab": {
     "base_uri": "https://localhost:8080/",
     "height": 206
    },
    "id": "fxEQXx3AvdCW",
    "outputId": "a337e410-3265-4ef9-ba52-52935c75cc77"
   },
   "outputs": [
    {
     "data": {
      "text/html": [
       "<div>\n",
       "<style scoped>\n",
       "    .dataframe tbody tr th:only-of-type {\n",
       "        vertical-align: middle;\n",
       "    }\n",
       "\n",
       "    .dataframe tbody tr th {\n",
       "        vertical-align: top;\n",
       "    }\n",
       "\n",
       "    .dataframe thead th {\n",
       "        text-align: right;\n",
       "    }\n",
       "</style>\n",
       "<table border=\"1\" class=\"dataframe\">\n",
       "  <thead>\n",
       "    <tr style=\"text-align: right;\">\n",
       "      <th></th>\n",
       "      <th>cost</th>\n",
       "    </tr>\n",
       "  </thead>\n",
       "  <tbody>\n",
       "    <tr>\n",
       "      <th>0</th>\n",
       "      <td>66.165215</td>\n",
       "    </tr>\n",
       "    <tr>\n",
       "      <th>1</th>\n",
       "      <td>32.399643</td>\n",
       "    </tr>\n",
       "    <tr>\n",
       "      <th>2</th>\n",
       "      <td>62.743931</td>\n",
       "    </tr>\n",
       "    <tr>\n",
       "      <th>3</th>\n",
       "      <td>71.092010</td>\n",
       "    </tr>\n",
       "    <tr>\n",
       "      <th>4</th>\n",
       "      <td>26.384296</td>\n",
       "    </tr>\n",
       "  </tbody>\n",
       "</table>\n",
       "</div>"
      ],
      "text/plain": [
       "        cost\n",
       "0  66.165215\n",
       "1  32.399643\n",
       "2  62.743931\n",
       "3  71.092010\n",
       "4  26.384296"
      ]
     },
     "execution_count": 60,
     "metadata": {},
     "output_type": "execute_result"
    }
   ],
   "source": [
    "#creating a df with test_prediction\n",
    "test_pred1_df = pd.DataFrame(test_prediction_1, columns= ['cost'])\n",
    "test_pred1_df.head()"
   ]
  },
  {
   "cell_type": "code",
   "execution_count": 61,
   "metadata": {
    "id": "xrwrXjI6vgd9"
   },
   "outputs": [],
   "source": [
    "#Creating new df df_output to merge predicted cost and trip\n",
    "model1_output = pd.DataFrame()\n",
    "model1_output['trip'] = test_trip['trip']\n",
    "model1_output['cost'] = test_prediction_1"
   ]
  },
  {
   "cell_type": "code",
   "execution_count": 62,
   "metadata": {
    "colab": {
     "base_uri": "https://localhost:8080/",
     "height": 206
    },
    "id": "tg9wp7JYvink",
    "outputId": "500a1f79-3936-45f2-ab7d-c04a379eee77"
   },
   "outputs": [
    {
     "data": {
      "text/html": [
       "<div>\n",
       "<style scoped>\n",
       "    .dataframe tbody tr th:only-of-type {\n",
       "        vertical-align: middle;\n",
       "    }\n",
       "\n",
       "    .dataframe tbody tr th {\n",
       "        vertical-align: top;\n",
       "    }\n",
       "\n",
       "    .dataframe thead th {\n",
       "        text-align: right;\n",
       "    }\n",
       "</style>\n",
       "<table border=\"1\" class=\"dataframe\">\n",
       "  <thead>\n",
       "    <tr style=\"text-align: right;\">\n",
       "      <th></th>\n",
       "      <th>trip</th>\n",
       "      <th>cost</th>\n",
       "    </tr>\n",
       "  </thead>\n",
       "  <tbody>\n",
       "    <tr>\n",
       "      <th>0</th>\n",
       "      <td>t333282728025</td>\n",
       "      <td>66.165215</td>\n",
       "    </tr>\n",
       "    <tr>\n",
       "      <th>1</th>\n",
       "      <td>t35583500660</td>\n",
       "      <td>32.399643</td>\n",
       "    </tr>\n",
       "    <tr>\n",
       "      <th>2</th>\n",
       "      <td>t117664376784</td>\n",
       "      <td>62.743931</td>\n",
       "    </tr>\n",
       "    <tr>\n",
       "      <th>3</th>\n",
       "      <td>t261320757828</td>\n",
       "      <td>71.092010</td>\n",
       "    </tr>\n",
       "    <tr>\n",
       "      <th>4</th>\n",
       "      <td>t147086054909</td>\n",
       "      <td>26.384296</td>\n",
       "    </tr>\n",
       "  </tbody>\n",
       "</table>\n",
       "</div>"
      ],
      "text/plain": [
       "            trip       cost\n",
       "0  t333282728025  66.165215\n",
       "1   t35583500660  32.399643\n",
       "2  t117664376784  62.743931\n",
       "3  t261320757828  71.092010\n",
       "4  t147086054909  26.384296"
      ]
     },
     "execution_count": 62,
     "metadata": {},
     "output_type": "execute_result"
    }
   ],
   "source": [
    "#Printing the new df\n",
    "model1_output.head()"
   ]
  },
  {
   "cell_type": "code",
   "execution_count": 67,
   "metadata": {
    "colab": {
     "base_uri": "https://localhost:8080/"
    },
    "id": "RmsUtCaOvlYW",
    "outputId": "a09f211a-eaf3-47f5-c2c1-6fbba34f9335"
   },
   "outputs": [],
   "source": [
    "#Saving the df_output df as a submission.csv file\n",
    "model1_output.to_csv('model1_submission.csv' , index=False)"
   ]
  },
  {
   "cell_type": "markdown",
   "metadata": {
    "id": "e_qXc3BSLI0j"
   },
   "source": [
    "The kaggle score by submmiting above file is as below\n",
    "![Screenshot 2023-08-18 at 11.03.16 AM.png](data:image/png;base64,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)"
   ]
  },
  {
   "cell_type": "markdown",
   "metadata": {
    "id": "ujur8VCTvmf1"
   },
   "source": [
    "Predicting with model2"
   ]
  },
  {
   "cell_type": "code",
   "execution_count": 68,
   "metadata": {
    "colab": {
     "base_uri": "https://localhost:8080/"
    },
    "id": "KkolFo3vvw2n",
    "outputId": "3848b627-5b24-4e23-d109-234818fb9d05"
   },
   "outputs": [
    {
     "name": "stdout",
     "output_type": "stream",
     "text": [
      "26/26 [==============================] - 0s 4ms/step - loss: 31.3116 - mse: 0.0000e+00 - mae: 0.0000e+00\n",
      "26/26 [==============================] - 0s 4ms/step\n"
     ]
    }
   ],
   "source": [
    "#evaluating on test_transofrmed\n",
    "test_acc_2 = Create_model_2.evaluate(test_transformed)\n",
    "#predicting test_transformed\n",
    "test_prediction_2 = Create_model_2.predict(test_transformed)"
   ]
  },
  {
   "cell_type": "code",
   "execution_count": 69,
   "metadata": {
    "colab": {
     "base_uri": "https://localhost:8080/",
     "height": 206
    },
    "id": "KZM1LVXtvtvB",
    "outputId": "f42f24b1-74ce-4cf4-d065-f1fcf6e91146"
   },
   "outputs": [
    {
     "data": {
      "text/html": [
       "<div>\n",
       "<style scoped>\n",
       "    .dataframe tbody tr th:only-of-type {\n",
       "        vertical-align: middle;\n",
       "    }\n",
       "\n",
       "    .dataframe tbody tr th {\n",
       "        vertical-align: top;\n",
       "    }\n",
       "\n",
       "    .dataframe thead th {\n",
       "        text-align: right;\n",
       "    }\n",
       "</style>\n",
       "<table border=\"1\" class=\"dataframe\">\n",
       "  <thead>\n",
       "    <tr style=\"text-align: right;\">\n",
       "      <th></th>\n",
       "      <th>cost</th>\n",
       "    </tr>\n",
       "  </thead>\n",
       "  <tbody>\n",
       "    <tr>\n",
       "      <th>0</th>\n",
       "      <td>61.873829</td>\n",
       "    </tr>\n",
       "    <tr>\n",
       "      <th>1</th>\n",
       "      <td>61.873829</td>\n",
       "    </tr>\n",
       "    <tr>\n",
       "      <th>2</th>\n",
       "      <td>61.873829</td>\n",
       "    </tr>\n",
       "    <tr>\n",
       "      <th>3</th>\n",
       "      <td>61.873829</td>\n",
       "    </tr>\n",
       "    <tr>\n",
       "      <th>4</th>\n",
       "      <td>61.873829</td>\n",
       "    </tr>\n",
       "  </tbody>\n",
       "</table>\n",
       "</div>"
      ],
      "text/plain": [
       "        cost\n",
       "0  61.873829\n",
       "1  61.873829\n",
       "2  61.873829\n",
       "3  61.873829\n",
       "4  61.873829"
      ]
     },
     "execution_count": 69,
     "metadata": {},
     "output_type": "execute_result"
    }
   ],
   "source": [
    "#creating a df with test_prediction\n",
    "test_pred2_df = pd.DataFrame(test_prediction_2, columns= ['cost'])\n",
    "test_pred2_df.head()"
   ]
  },
  {
   "cell_type": "code",
   "execution_count": 70,
   "metadata": {
    "id": "Y71aaYtbvtFx"
   },
   "outputs": [],
   "source": [
    "#Creating new df model2_output to merge predicted cost and trip\n",
    "model2_output = pd.DataFrame()\n",
    "model2_output['trip'] = test_trip['trip']\n",
    "model2_output['cost'] = test_prediction_2"
   ]
  },
  {
   "cell_type": "code",
   "execution_count": 71,
   "metadata": {
    "colab": {
     "base_uri": "https://localhost:8080/",
     "height": 206
    },
    "id": "Eu3BFb41vqxE",
    "outputId": "23f92837-f138-4d5b-f89d-bfc4bcb3376b"
   },
   "outputs": [
    {
     "data": {
      "text/html": [
       "<div>\n",
       "<style scoped>\n",
       "    .dataframe tbody tr th:only-of-type {\n",
       "        vertical-align: middle;\n",
       "    }\n",
       "\n",
       "    .dataframe tbody tr th {\n",
       "        vertical-align: top;\n",
       "    }\n",
       "\n",
       "    .dataframe thead th {\n",
       "        text-align: right;\n",
       "    }\n",
       "</style>\n",
       "<table border=\"1\" class=\"dataframe\">\n",
       "  <thead>\n",
       "    <tr style=\"text-align: right;\">\n",
       "      <th></th>\n",
       "      <th>trip</th>\n",
       "      <th>cost</th>\n",
       "    </tr>\n",
       "  </thead>\n",
       "  <tbody>\n",
       "    <tr>\n",
       "      <th>0</th>\n",
       "      <td>t333282728025</td>\n",
       "      <td>61.873829</td>\n",
       "    </tr>\n",
       "    <tr>\n",
       "      <th>1</th>\n",
       "      <td>t35583500660</td>\n",
       "      <td>61.873829</td>\n",
       "    </tr>\n",
       "    <tr>\n",
       "      <th>2</th>\n",
       "      <td>t117664376784</td>\n",
       "      <td>61.873829</td>\n",
       "    </tr>\n",
       "    <tr>\n",
       "      <th>3</th>\n",
       "      <td>t261320757828</td>\n",
       "      <td>61.873829</td>\n",
       "    </tr>\n",
       "    <tr>\n",
       "      <th>4</th>\n",
       "      <td>t147086054909</td>\n",
       "      <td>61.873829</td>\n",
       "    </tr>\n",
       "  </tbody>\n",
       "</table>\n",
       "</div>"
      ],
      "text/plain": [
       "            trip       cost\n",
       "0  t333282728025  61.873829\n",
       "1   t35583500660  61.873829\n",
       "2  t117664376784  61.873829\n",
       "3  t261320757828  61.873829\n",
       "4  t147086054909  61.873829"
      ]
     },
     "execution_count": 71,
     "metadata": {},
     "output_type": "execute_result"
    }
   ],
   "source": [
    "#Printing the new df\n",
    "model2_output.head()"
   ]
  },
  {
   "cell_type": "code",
   "execution_count": 72,
   "metadata": {
    "colab": {
     "base_uri": "https://localhost:8080/"
    },
    "id": "6KqPJNHVvpAv",
    "outputId": "6d9d204c-a97e-4458-8fad-1be13d54758f"
   },
   "outputs": [],
   "source": [
    "model2_output.to_csv('model2_submission.csv' , index=False)"
   ]
  },
  {
   "cell_type": "markdown",
   "metadata": {
    "id": "fDEkRq3uLX2M"
   },
   "source": [
    "The kaggle score for above file is as below\n",
    "![Screenshot 2023-08-18 at 11.05.23 AM.png](data:image/png;base64,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)"
   ]
  },
  {
   "cell_type": "markdown",
   "metadata": {
    "id": "w5dleOxKvyAU"
   },
   "source": [
    "Predicting with model3"
   ]
  },
  {
   "cell_type": "code",
   "execution_count": 73,
   "metadata": {
    "colab": {
     "base_uri": "https://localhost:8080/"
    },
    "id": "FSXElLJ3GIrz",
    "outputId": "ce9cf72c-2851-449a-fab7-ebaf115cb3df"
   },
   "outputs": [
    {
     "name": "stdout",
     "output_type": "stream",
     "text": [
      "26/26 [==============================] - 0s 3ms/step - loss: 0.0000e+00 - mse: 0.0000e+00 - mae: 0.0000e+00\n",
      "26/26 [==============================] - 0s 5ms/step\n"
     ]
    }
   ],
   "source": [
    "#evaluating on test_transofrmed\n",
    "test_acc_3 = improved_model.evaluate(test_transformed)\n",
    "#predicting test_transformed\n",
    "test_prediction_3 = improved_model.predict(test_transformed)"
   ]
  },
  {
   "cell_type": "code",
   "execution_count": 74,
   "metadata": {
    "colab": {
     "base_uri": "https://localhost:8080/",
     "height": 206
    },
    "id": "B5_AsOZ0GPYm",
    "outputId": "659c1b79-d0f9-40c6-8c87-74b5ab2c918c"
   },
   "outputs": [
    {
     "data": {
      "text/html": [
       "<div>\n",
       "<style scoped>\n",
       "    .dataframe tbody tr th:only-of-type {\n",
       "        vertical-align: middle;\n",
       "    }\n",
       "\n",
       "    .dataframe tbody tr th {\n",
       "        vertical-align: top;\n",
       "    }\n",
       "\n",
       "    .dataframe thead th {\n",
       "        text-align: right;\n",
       "    }\n",
       "</style>\n",
       "<table border=\"1\" class=\"dataframe\">\n",
       "  <thead>\n",
       "    <tr style=\"text-align: right;\">\n",
       "      <th></th>\n",
       "      <th>cost</th>\n",
       "    </tr>\n",
       "  </thead>\n",
       "  <tbody>\n",
       "    <tr>\n",
       "      <th>0</th>\n",
       "      <td>50.552101</td>\n",
       "    </tr>\n",
       "    <tr>\n",
       "      <th>1</th>\n",
       "      <td>34.441502</td>\n",
       "    </tr>\n",
       "    <tr>\n",
       "      <th>2</th>\n",
       "      <td>64.812561</td>\n",
       "    </tr>\n",
       "    <tr>\n",
       "      <th>3</th>\n",
       "      <td>51.542786</td>\n",
       "    </tr>\n",
       "    <tr>\n",
       "      <th>4</th>\n",
       "      <td>43.165440</td>\n",
       "    </tr>\n",
       "  </tbody>\n",
       "</table>\n",
       "</div>"
      ],
      "text/plain": [
       "        cost\n",
       "0  50.552101\n",
       "1  34.441502\n",
       "2  64.812561\n",
       "3  51.542786\n",
       "4  43.165440"
      ]
     },
     "execution_count": 74,
     "metadata": {},
     "output_type": "execute_result"
    }
   ],
   "source": [
    "#creating a df with test_prediction\n",
    "test_pred3_df = pd.DataFrame(test_prediction_3, columns= ['cost'])\n",
    "test_pred3_df.head()"
   ]
  },
  {
   "cell_type": "code",
   "execution_count": 75,
   "metadata": {
    "id": "83dRlSO8M0WE"
   },
   "outputs": [],
   "source": [
    "#Creating new df df_output to merge predicted cost and trip\n",
    "model3_output = pd.DataFrame()\n",
    "model3_output['trip'] = test_trip['trip']\n",
    "model3_output['cost'] = test_prediction_3"
   ]
  },
  {
   "cell_type": "code",
   "execution_count": 76,
   "metadata": {
    "colab": {
     "base_uri": "https://localhost:8080/",
     "height": 206
    },
    "id": "qHm4CEeEGtQq",
    "outputId": "a2d1d6bf-74a8-43bb-98a3-63849491fa41"
   },
   "outputs": [
    {
     "data": {
      "text/html": [
       "<div>\n",
       "<style scoped>\n",
       "    .dataframe tbody tr th:only-of-type {\n",
       "        vertical-align: middle;\n",
       "    }\n",
       "\n",
       "    .dataframe tbody tr th {\n",
       "        vertical-align: top;\n",
       "    }\n",
       "\n",
       "    .dataframe thead th {\n",
       "        text-align: right;\n",
       "    }\n",
       "</style>\n",
       "<table border=\"1\" class=\"dataframe\">\n",
       "  <thead>\n",
       "    <tr style=\"text-align: right;\">\n",
       "      <th></th>\n",
       "      <th>trip</th>\n",
       "      <th>cost</th>\n",
       "    </tr>\n",
       "  </thead>\n",
       "  <tbody>\n",
       "    <tr>\n",
       "      <th>0</th>\n",
       "      <td>t333282728025</td>\n",
       "      <td>50.552101</td>\n",
       "    </tr>\n",
       "    <tr>\n",
       "      <th>1</th>\n",
       "      <td>t35583500660</td>\n",
       "      <td>34.441502</td>\n",
       "    </tr>\n",
       "    <tr>\n",
       "      <th>2</th>\n",
       "      <td>t117664376784</td>\n",
       "      <td>64.812561</td>\n",
       "    </tr>\n",
       "    <tr>\n",
       "      <th>3</th>\n",
       "      <td>t261320757828</td>\n",
       "      <td>51.542786</td>\n",
       "    </tr>\n",
       "    <tr>\n",
       "      <th>4</th>\n",
       "      <td>t147086054909</td>\n",
       "      <td>43.165440</td>\n",
       "    </tr>\n",
       "  </tbody>\n",
       "</table>\n",
       "</div>"
      ],
      "text/plain": [
       "            trip       cost\n",
       "0  t333282728025  50.552101\n",
       "1   t35583500660  34.441502\n",
       "2  t117664376784  64.812561\n",
       "3  t261320757828  51.542786\n",
       "4  t147086054909  43.165440"
      ]
     },
     "execution_count": 76,
     "metadata": {},
     "output_type": "execute_result"
    }
   ],
   "source": [
    "#Printing the new df\n",
    "model3_output.head()"
   ]
  },
  {
   "cell_type": "code",
   "execution_count": 77,
   "metadata": {
    "colab": {
     "base_uri": "https://localhost:8080/"
    },
    "id": "8TFlMrB_G7Cv",
    "outputId": "6312ab6a-3ffc-425d-eba9-4c29289420dd"
   },
   "outputs": [],
   "source": [
    "model3_output.to_csv('model3_submission.csv' , index=False)"
   ]
  },
  {
   "cell_type": "markdown",
   "metadata": {
    "id": "fa0sqRRKLmSB"
   },
   "source": [
    "The kaggle score of above file is as below\n",
    "![Screenshot 2023-08-18 at 11.05.29 AM.png](data:image/png;base64,iVBORw0KGgoAAAANSUhEUgAABDEAAABOCAYAAAA5MY2KAAAEDmlDQ1BrQ0dDb2xvclNwYWNlR2VuZXJpY1JHQgAAOI2NVV1oHFUUPpu5syskzoPUpqaSDv41lLRsUtGE2uj+ZbNt3CyTbLRBkMns3Z1pJjPj/KRpKT4UQRDBqOCT4P9bwSchaqvtiy2itFCiBIMo+ND6R6HSFwnruTOzu5O4a73L3PnmnO9+595z7t4LkLgsW5beJQIsGq4t5dPis8fmxMQ6dMF90A190C0rjpUqlSYBG+PCv9rt7yDG3tf2t/f/Z+uuUEcBiN2F2Kw4yiLiZQD+FcWyXYAEQfvICddi+AnEO2ycIOISw7UAVxieD/Cyz5mRMohfRSwoqoz+xNuIB+cj9loEB3Pw2448NaitKSLLRck2q5pOI9O9g/t/tkXda8Tbg0+PszB9FN8DuPaXKnKW4YcQn1Xk3HSIry5ps8UQ/2W5aQnxIwBdu7yFcgrxPsRjVXu8HOh0qao30cArp9SZZxDfg3h1wTzKxu5E/LUxX5wKdX5SnAzmDx4A4OIqLbB69yMesE1pKojLjVdoNsfyiPi45hZmAn3uLWdpOtfQOaVmikEs7ovj8hFWpz7EV6mel0L9Xy23FMYlPYZenAx0yDB1/PX6dledmQjikjkXCxqMJS9WtfFCyH9XtSekEF+2dH+P4tzITduTygGfv58a5VCTH5PtXD7EFZiNyUDBhHnsFTBgE0SQIA9pfFtgo6cKGuhooeilaKH41eDs38Ip+f4At1Rq/sjr6NEwQqb/I/DQqsLvaFUjvAx+eWirddAJZnAj1DFJL0mSg/gcIpPkMBkhoyCSJ8lTZIxk0TpKDjXHliJzZPO50dR5ASNSnzeLvIvod0HG/mdkmOC0z8VKnzcQ2M/Yz2vKldduXjp9bleLu0ZWn7vWc+l0JGcaai10yNrUnXLP/8Jf59ewX+c3Wgz+B34Df+vbVrc16zTMVgp9um9bxEfzPU5kPqUtVWxhs6OiWTVW+gIfywB9uXi7CGcGW/zk98k/kmvJ95IfJn/j3uQ+4c5zn3Kfcd+AyF3gLnJfcl9xH3OfR2rUee80a+6vo7EK5mmXUdyfQlrYLTwoZIU9wsPCZEtP6BWGhAlhL3p2N6sTjRdduwbHsG9kq32sgBepc+xurLPW4T9URpYGJ3ym4+8zA05u44QjST8ZIoVtu3qE7fWmdn5LPdqvgcZz8Ww8BWJ8X3w0PhQ/wnCDGd+LvlHs8dRy6bLLDuKMaZ20tZrqisPJ5ONiCq8yKhYM5cCgKOu66Lsc0aYOtZdo5QCwezI4wm9J/v0X23mlZXOfBjj8Jzv3WrY5D+CsA9D7aMs2gGfjve8ArD6mePZSeCfEYt8CONWDw8FXTxrPqx/r9Vt4biXeANh8vV7/+/16ffMD1N8AuKD/A/8leAvFY9bLAAAAVmVYSWZNTQAqAAAACAABh2kABAAAAAEAAAAaAAAAAAADkoYABwAAABIAAABEoAIABAAAAAEAAAQxoAMABAAAAAEAAABOAAAAAEFTQ0lJAAAAU2NyZWVuc2hvdLb4OQgAAAHWaVRYdFhNTDpjb20uYWRvYmUueG1wAAAAAAA8eDp4bXBtZXRhIHhtbG5zOng9ImFkb2JlOm5zOm1ldGEvIiB4OnhtcHRrPSJYTVAgQ29yZSA2LjAuMCI+CiAgIDxyZGY6UkRGIHhtbG5zOnJkZj0iaHR0cDovL3d3dy53My5vcmcvMTk5OS8wMi8yMi1yZGYtc3ludGF4LW5zIyI+CiAgICAgIDxyZGY6RGVzY3JpcHRpb24gcmRmOmFib3V0PSIiCiAgICAgICAgICAgIHhtbG5zOmV4aWY9Imh0dHA6Ly9ucy5hZG9iZS5jb20vZXhpZi8xLjAvIj4KICAgICAgICAgPGV4aWY6UGl4ZWxZRGltZW5zaW9uPjc4PC9leGlmOlBpeGVsWURpbWVuc2lvbj4KICAgICAgICAgPGV4aWY6UGl4ZWxYRGltZW5zaW9uPjEwNzM8L2V4aWY6UGl4ZWxYRGltZW5zaW9uPgogICAgICAgICA8ZXhpZjpVc2VyQ29tbWVudD5TY3JlZW5zaG90PC9leGlmOlVzZXJDb21tZW50PgogICAgICA8L3JkZjpEZXNjcmlwdGlvbj4KICAgPC9yZGY6UkRGPgo8L3g6eG1wbWV0YT4KtHupagAAOXdJREFUeAHtnQm8TeX6x1/qr67hklAhuWhCw1VRmlwqSWm4IZrJkGhQpEGaCw0qSZouSaXSPF66qTQpN9KcBmUuc6YG//f7Os+2zrKns89xOuf2e/qcs/dew7vW+q61T57f+wxlVq1eu97JREAEREAEREAEREAEREAEREAEREAERKCEEyhbws9PpycCIiACIiACIiACIiACIiACIiACIiACgYBEDD0IIiACIiACIiACIiACIiACIiACIiACpYKARIxScZt0kiIgAiIgAiIgAiIgAiIgAiIgAiIgAhIx9AyIgAiIgAiIgAiIgAiIgAiIgAiIgAiUCgISMUrFbdJJioAIiIAIiIAIiIAIiIAIiIAIiIAISMTQMyACIiACIiACIiACIiACIiACIiACIlAqCEjEKBW3SScpAiIgAiIgAiIgAiIgAiIgAiIgAiIgEUPPgAiIgAiIgAiIgAiIgAiIgAiIgAiIQKkgIBGjVNwmnaQIiIAIiIAIiIAIiIAIiIAIiIAIiIBEDD0DIiACIiACIiACIiACIiACIiACIiACpYKARIxScZt0kiIgAiIgAiIgAiIgAiIgAiIgAiIgAhIx9AyIgAiIgAiIgAiIgAiIgAiIgAiIgAiUCgISMUrFbdJJioAIiIAIiIAIiIAIiIAIiIAIiIAISMTQMyACIiACIiACIiACIiACIiACIiACIlAqCEjEKBW3SScpAiIgAiIgAiIgAiIgAiIgAiIgAiIgEUPPgAiIgAiIgAiIgAiIgAiIgAiIgAiIQKkgIBGjVNwmnaQIiIAIiIAIiIAIiIAIiIAIiIAIiIBEDD0D/zMEfv/9d/fuu++67777rkivafXq1e61115zS5cuLdJxNZgIiIAIiIAIiIAIiIAIiIAIiEDBCEjEKBivzb71119/7dq1axd+fvnll6yPN3369LBPx44d8+3zzjvvuD59+rjmzZuHn/PPP9/NmDEj3zbF9WHIkCHhHMeOHbtZDvmf//zHderUyf3jH/9wCA9FZbfeeqvr0qWLO/fcc4tqSI0jAiIgAiIgAiIgAiIgAiIgAiKQA4Etc9hHu2xGAjjfM2fODEdYv3591kdatWpVYj/bacKECe6iiy6yj+H1mWeecfw8/PDDrlmzZvnWbe4Ps2fPDueIyLA5rG7dum7bbbd1O++8sytXrlyRHWKPPfYIYzVp0qTIxtRAIiACIiACIiACIiACIiACIiACBSegSIwCMCNdIW7ZCA3ZbJNs7Pix7HM247HNTTfdFHYhiuCTTz4JERgtWrQIyx588EEbrkCvBTnPbAbO5lqSHTPZfvXr13fvvfeeGzdunNtiiy02OXyyceIbJdvmmGOOcbNmzXJEsSSzZPsk2y7ZOSfbLr4sm/Gz2SY+rj6LgAiIgAiIgAiIgAiIgAiIQGkjUGwixnq33k2fO9PdMnmE6/poH3f0fZ1c02GHhR/es4x1bMO2f7StXbvW7bfffuEHx/i0005zDRo0cJ07d3affvqp++ijj8IyHOcePXoE5zl6zl988YW79NJLQwrHnnvu6Xr37h3qKkS34f39998fUiwY++STT3ZEKyQzxhswYEA4H47JeUybNi3ZpmEZER2cc//+/UMaxNZbb+0qVqzojj766LD+yy+/TLlvfAXbduvWLRx7r732Ctfy3HPPJTa75557wrqBAwcmlvGGFBYY/ve//823fN26de7aa691RDg0bdo0cFqyZEliG3iy3wsvvOD69u3rOGbr1q3ds88+G+pSnHfeeQ6mxx13nHv88ccT+73//vthvFatWiWWLVu2zHFeiDfGeNSoUS6aqpPN9XGe0etj3MGDB7ujjjoqjAvrMWPGuKhQYdfx8ssvu8suuyycG9fFODBIZ4gSDzzwQHgmOG+uCWbRNJlM1/bPf/4zcOR6o3bGGWeE5bfffnt0sd6LgAiIgAiIgAiIgAiIgAiIQIknsNnTSdb9ts499MHj7r73xrpFK39MCmTZmuXuy0Wz3JvfvOvufvtfrnrFaq5r01Pcyfuc6MptUXRpAUkPnmbhTz/9FNZ27drV/fzzz+E9NSbOPvvs8NnW//vf/w6CAuuIAKCwJIKEra9QoUJwyHHKES0sGuK+++5z1113XeIM3n77bcdP3BA2bDzG2n777R3HOvHEE4MTnyzNoXz58q5nz575hpo7d6576KGHwjKc72yMYpYICBipGg0bNkxcS61atdzf//53RyoL12rXa+POnz8/vI0KBiy4++67w3KuhX0eeeSREOlAdAhpIIsXLw7LL7744gR3hAbEi8aNGyfSZqjtgUjD9derVy8IE/HzOP3000MECsc64IADwntj3L179yCKFPT6EBLYd+rUqeE64PLmm2+Gn4ULFyZSeOw6SOmx54cduAc8J1deeWXYP9kvomhGjhwZVnHu33zzTfhBEEK4KVOmjMt0bYcccoi77bbb3FNPPRXOl8EWLFjgXn/99TDugQceGF71SwREQAREQAREQAREQAREQARKC4Gym/NEJ34x2bUe1d7d+OqwlAJGsuMjdrAP+zLGH21HHHGEIxLCZrQRFfbee2/34YcfuvHjx4fTw3m2iANmzPmMg099C7Zjph6jyCaz7Dj2JmAgUHz22Wfugw8+CPUcwoaRX2zHeMcff3wY66233goOPZvYGJHNN3k7ceLEEPVw0EEHhXNkhp7Z+GzMHH62feONN9yjjz7qbrnllhAZQIpKrkbKB9EsCDkYgsBrvgNI1GrUqBGYcFwceWzevHnBCSc6BvEAe+mll8Jr/BeCghUxHT16dBAPEABw7hkHy+X6qCfC+XJOFBPlPWIBNmLEiHAvw4e8X5UqVXKTJ08O7Nu2bRuWPv/889FN8r3nmTEBg3HhRBQKxjNGEddsrs2EKp6t77//PuxvjBHCeD5lIiACIiACIiACIiACIiACIlCaCGwWEYN0kNvfGOV6T+jv5i7b4CwCpWblHdzp+3VyD5w03E3q+ZT7qN+b4Yf3LGMd25ix7zkT+oWx/sgUE1I3ttxyS3fYYYclnOn27du7v/71r27fffd1f/vb38IpM1tOOgFREhg1FIiIYNb9ggsuCMuYkf/2229D5EFY4H9deOGFIQJhm2222aTuAuMR6YHtuOOO7sUXX3SkcrAthlP722+/hfepfpUtWzbh8LMNUQ1WPDTVPrZ89913t7fhGnCm99lnH0cKCeJLLoZzvf/++4ddKfKJqICRphM1Ik24TiI+LHrl2GOPdbVr13bVqlVzJghQryKZIXKY0EHUAxEQiEdEwwwaNCjsksv1WRoPkRA77bRTGIe6Gbvttlt4b8KJnVOHDh3CvatcuXKCGaIUESzJDJECI2WGcbFGjRqFiAqiVWrWrBmuK9O1UeDUzsnEi1deeSWMx/PLcyETAREQAREQAREQAREQAREQgdJEoMjTSRAb+j1zhXv2k5cTHLavVMOde3APd/webV3ZMps6TrWr1HT8NK/b1A1oeZ578qPnvXBxt5u/YmEY484p97rZS753Q9td7cr4/4rbLAqA41JbAiGC+hJm0fWE61vqAM63GQ4s27EOEcEKMbKsSpUqtllw0BMf/BvGM0tVw4BZ+XTWsmVLxw91PoYOHRqceFJNcMb/7//+L92ujo4fiCw333yzo7YDP9jhhx/uSPcgjaOgVqdOnXy7cAxSHOAStShjuGNENZj95S9/sbdJXxGPbrzxxlCDAtHGhBuce+qVHHrooTldn41jAoYdnFolRD0QtRM1ExtYFn0frZ8R3Z4xsDhbRI2oZbo2tkUIIjKIaBUieYgcwUwACh/0SwREQAREQAREQAREQAREQARKCYFNFYVCnvgdb9yTT8A4bJdD3Yvdxrt/7nlMUgEjfjhEDrZlH/Y1QxRh7JJu1atXT5ziokWLEu+ZdTdxAyeeaAKMZStXrkxsZ3UkbEF0PFILqKsR/yEqIW6IHwgOFsXB+q222ipRG4Hjkr6SjZ1zzjlB8Bg+fHhIQ0F4YVzSSqIWvd4VK1ZEV+V7T22OqM2ZMyd8jIsb0W1yfU9BTFI5KJJJZAzHQCyh0KrV6sj2+uwcECuw+L2y64qLG7Zftq+IOpilgIQP/hfHI4rHIjiyuTZLKSFt5umnnw5DEZ2xyy672LB6FQEREAEREAEREAEREAEREIFSQ6BIIzGoXzFiyoYaBxAgPeSSVufnFD1Rvlx5N/yEIe6GScPc6KkPB6BEZDTcbtd84kZJI83sPwUkcRrvvffe0JGCIox0rjDDgYx2p6AuBEUrf/3110TdDduW8Ui9IEWFNAVLLyAagLoJpJhQODJuiBQUIMVuvfVWRxoGRpFHM0uDsc/JXklfQQzZYYcdQuQFTvF2220XOnO8++67YRcTHxBFSG+hmwgpG6nsmWeeCSICXTe4jkmTJoVNKRpalEZEA+eB0z9kyJAQeXHwwQc7aoLAB9GBuh6Zri9+TqTTENHAPaXWCVE2du1sS9eVgtjHH3/s6KxCtxXGsogLxqTeBh1NSD8h+oXzJi2GNJtM14aYQu0LaqFQeNS6qxCdIRMBERABERABERABERABESjdBBYu+tF9Mesb7yMkT1PPdHUVKpR3u+5c31XftmqmTUvU+iITMehCct2kW3wyyfpwgURR5CpgGCFSRxhjzrK5iQKfHOOQ+gf8oV1L7PxSvSIq4CjjnNMBgnQRSxG45pprQo0MUiHocEGxUCIsnnzyyeCo4qTGjXoaHTt2DEUwEQ5wTq0wJHUpEDriRioCtSZI02B/2oESeYAzjCGGIEZkMmoxEKmAUauByBArMmntWqPdUbjubIxiqUQEGBdSPKzuRTb7Z7MNEROcM5EX1NtAfMCZxxBw4IjAlOn64sfiXlDQlQKvCARch0W1tGvXrkAiBiklZ/giq9wX0oL69esXuq0gFhFxw7EowEmKCs8GghHtXklHynRtdt6II3bdLLPoDFuvVxEQAREQAREQAREQAREQgdJH4NPPv3JrfMmAXA3x49PPv3TVmzfLdYg/ZL8iEzFoo2pFPKmBMfToq3KKwDAK782e5mr5Ip/8MFabezqEGhkcg2Od2bSzbbpZXnFu01l0fbxAIk4nBRiHDRsWnFvSAHDSTz311ERhR8bGYaVOBR0zcIiZNb/qqqsSkRV2DGbi6a5BTQycZavJQF2Lc889N5ymbRs9ZyJBSPkg+sJSH3CCKepo7Vc5LueQzEg/Yfs777zT0ZHDHGHSSRBP+vbtG3ZDDLjrrrvCudu1XnLJJeH6cM7jIgvHRliwCAwiV2644YZEnZE4z+i5Ra8z+p5t4p+p98H1c26klMAZI6IBMQnL5vri41LXgmiIq6++OqTVcE9YhqhDrQ273mTXYevCwf0vxub+UrPC0lTYhhokRFuw3LreIEoRUcJ6fjJdmx2DgrRmsOY5k4mACIiACIiACIiACIiACJRuAiZgtG61sQxDQa7o5UmT3erVawqyS4nYtsyq1Ws3hE4U4nSIvjh4eNtEG9XrjxoY6lrkOuQ7373vej7e121Tfhs3tvPIIGQ8MeNZd+kLGxzP6hWruTd6P18okSTXcyvofqQykDoSLd4ZH4PuIkuWLAkdN+Lr4p9Xr17tli9f7mg/Gneu49tGPy9btixsT0eVqFFXga4qyQzhxQp5sp5jM046J5haGNHim8nGtWXUAsHRp4PL5jYYI7Bw7nEhwY6dzfXZtvbKuD/++GNWUS22T7JXWEQLmUa3ob5J1apVUxZhzebaouPpvQiIgAiIgAiIQPYEmDyixTwt7omaJO3zDB9FyaRI1Pr06eO+++676KLE+zPPPDMU2E4syHvDhAgppamMyNlu3bqFNGUmfJIZ/5aKpgsTrclkC5NFTLTwb8a99947jGNdy2wc/g1BxznSZEmxJbWX1NsePXrk+3cHYzKhxZikutIpjUk7Jqbq5tXysjH1mhsB/i04YsQIR9Q1EbhMbtEFkTpucT+CummkZ9N9jnppdPsjorlNmzYZ/QMm9h577LFQ744obY5B1G7r1q3znTgRwJzPe++9FyKnSYdv1qxZiGBmQjNqpNEzecu/pZncvOOOOxKrecZIgWYbe3aYVCOV3rotJjb2b4hEJkKdVHrS5olA7tWrV3iOo9vp/QYCiBBYYUSMwuwfDv4H/CoSEWP63Jmuw5gu4fRpkTqp55NZFfFMdr0mYKz+ZYMi1LROE/egFzJ+X/+7azXy+ES0x/jT7nd71WycbAgtKwAB6mVEC3JGdyXdhD8wMhEQAREQAREQARH4MxLA8UrVUp7aY0TVmlETK1laMOuJUEWMiFvXrl0TncPi6/hM7S3axCOiMEYq+/rrrxOrcPiI5ExmRAqT6oytWbMmiBCkHscNJ5OIXtKfSX1FoMG5jBvOLOJG48b6N3mcTUE+M5lJzbJkE4tMwE2YMCExibh06dKQGmxR1tHjXH755a5Llw0+WXS5vef+Dxo0yD7meyXCGsEEwzc45ZRTNukcyDqEMO45ddw4b7rlIYqYRSdBifamsH50UtS249l55ZVXQt09W0aKPT9xgwHHRCCR5SfwZxUxiiSdZNKXG//4Hb5LiyITMBBEbmy74YtG1xLGtiKfHFMiRv6HOJdP1MuQiYAIiIAIiIAIiIAIbEqANvMYDhcpnaSPkvLJjDLpqkRK4NQx22wCBsIDdbiilqroN/XRmAWP2kcffRQEBJZZa3aiPu3zFVdcEd7bL9JnzRAzTMBgZh3hg+gQhA3Oj2LyJmI88cQToXYa+x555JGuZcuWQahgdh/xZuLEieH6iEQxAYPrJaqE41ADjjHHjh0bHFk7B70WnABd/0zA4JnjmSDqBQELsYKoC54VDLHBBAwmG4nYIPKBVO1rr702RAoRXRE3nlFS0zHSqek6yLODL0CNOtKUEdpIJ6f+HeNhCHXUgKPYP00F2JbIHc4RUSQqYIQdIr8QKUzAOP7444MwwvOEkMKzc/311yeiNog+MQGD7xTPGdFBpNRzvYhqlg4eOYTe/kkJFImI8fH8TxP4WtTfoO4mFmT5Jh6BgYBhqSQ2BGObiBE9pq3XqwiIgAiIgAiIgAiIgAgUBYEffvgh4Sz2798/hOozLo5W8+bNwyFoX47DtXjx4sQhKV5u6xMLU7whPD9u0dSQzp031IAzEYPUDYSEVBZtz04tNpxVfjgfHGWL2CC6gppnGDPnOMGk21L8G2eWjnn8YKQxI8xgOLzMwJOeQq0xQv5xNGWFIxBNQyI6Z+uttw619BAxMLuv1JpDZMIQBSxiGiGjbdu2Yflzzz0XUkTCh8gvRAMr8M++Fj1DrTwTB3iO6UiIkME9J53Zuh3ynCNiYAgOZoyDGIEwYXXcbN2UKVPCWxMBecasYD0pTzQqQHjhmUKkMEO4oJkARmQ4IkY8Jd621eufk0CRiBgLVm5Qh0FYp0rtApPMRsCIjx09ZoEPqB1EQAREQAREQAREQAREIA0B6oCZkVZhFq1hZaJAVMRgppmIB0QQ8vnp3IbTn43hBDLLjeE8WiSGpf7iDOIwUmy9WrVqoX7F6aef7sqVKxf22X///UPUiEVI0I2NmgnU88COPfbY8Ioza7P5pI4gSDBjTooJkRp0R2N8jM8WvcFsPvXeEC/4wdT1LGAo1C+ELyJ7sAceeCA8M0QxmBEpg3311Ve2KB/33XffPXTeI5qDjnzJDBGA2hk8X9ScIFKH58YiKRAXEDCwaAoV9xwh65FHHkkMa0XjeZ7o8peq3hzpJhiiTHSbaP08BBpEDOv0h6hGFAjNDubNmxeimngeuUaZCBiBIhExFq5YZOO5GpU2/MGzBbOX/uDrWMx3+++0aVgT22QrYLBtdOzoMVknEwEREAEREAEREAEREIGiIsDMsxmh98w4MyvMzLGZOZVREYMaAWY4Y8w44yjGU0xsm+irhdOzjBl5M4p8Y9SviNawQMxA+LBICmbQORYpB6SVWGoJ+zL7ftZZZ/HWzZ07N7zyi7QSRA8zxAnSF3Ba44UXL7vsstBm3rbF2aV2gqxwBPbaa68Q5UAqydChQ8OPjUgUEEITZs8b7+OF9onSQcQgMoZIm2QNAEiJImKC9KCo+ESx2sGDBzPsJkahVxO8ENHojIjggWWqUYGIRwQQohmpLAhunB9pKGaIfRSUtXQans3oM8XzTZQGUU+p0rJsLL3+eQiU3ZyXioBx2rizXY/HLghiRfxYmQSMdb5i7uIlS93ceQvcN99+72Z/O9c9d+Kj7vHjR7vrW1wR1rGNTAREQAREQAREQAREQASKkgAzxwMGDAhD0pIepw8hgllsM5tRJmqBwowIHxQyRDzAYTSLChu2LP46bdq0hEBBDQtC+c3ohEL3CY6PKIJDx2eMY9HRAmPWfMyYMaFuQVgQ+YX48eGHH4Yl0SgTBAzSFqiDYGkjiC8UUoxbtP4G60grIPJEVjgCpAshlEXFJBsRwcFEBCJlUpl1+2MMuskkM8ay+ibR9TNmzHCvvvpqdFHivUX5sICxqYlh6S2JjVK8IfWJdCaM7iWIHwhf0eskSiN6Xazr0KFDSDWxNBf2z+Y7xHayPweBIhExalTakLMEsoUrNqaWXPbCtW7e8gVuza9rQ8vUqd//N0E1nYBBu58FCxa5OXPm+TaqPgKjWlW3c/2d3B6NdnF7Nt7V/b1hI9ei0QFhHduwLfvIREAEREAEREAEREAERKCoCFBMkfQNS9NARKAlqRktIDFC4BEtcBCZqaYdJaKGdYogVJ72k+kMJ88sGoXBMs6DNpVEWTArz4w0BUbNrE0r21jYP9EYH3/8caihwPkxG85MOCH+ljbA/u3atQviRaNGjcIsvTmdtNaMG04lAgeCB9tR4JTOJYgnstwJXHzxxQkxiFQkxCHEKgyRCMYYtS/MTNiwz7T/xYgYiqZu2HoELOtM0qpVq5C+QZSDFZZFJHjjjTds88QrNTiInhg1alRYhohH3ZRsjPa+FH5FlCA1iuiRM844I3TFsf1r1arlEGCI8sDY7rrrrgvpIwgeJ510UlhOsVn5ewGFfnkCRSJibFdxYwoJ0Rdmg4++0tWuUjN8pGVqdx+RMe2H6WlTSJYvX+G+mz3HP8x/cQ13a+Bq7lDDVapUwVfP3dKGDe9Zxjq2YVv2YV+ZCIiACIiACIiACIiACBSWwMqVK0N9AsQHCijSNQQRgZQSM8QKjBQMBAR+orPK5pjZ9qleESFIDcFwWKNpHIxnY1sdCrYjdSRuUScU4YNaHogN8fB8HEczZsLNSEGIj0utDI5PhAcz/DjICB6kp2CII8zky3IjgGNudVAQy6hbseWWWwaxymphIDbQWrVBgwaJg1j0DQuIrEFQwlLVjkAEMCOtiGeMWhTW9YR1VoiTwprcc+sswjNCHQxLiSLdyAq/2pjJXnkeSSfZddddg0BCbRa668yaNSuxuT2Llr5FtE9UhLEIk8QOeiMCnsBGZaAQOBptv7t785sNYWyvzZrimtdtGkar+dft3YOd7nInj+vp62LMc6vWrXJnjT/P/b7+d4eogUW7kCzxqSMrVq5yDerV8X90N/5BDRum+VWjelVXqWJ5N/uH+UEJ3mabKmm21ioREAEREAEREAEREAERSE8AAQJnjlQS3jP7XKVKlUQnB/ZmhhnDwbRaGaQG9OjRI+T44whiOKcICtTOuPXWW0PnBcQKq1vAMjNmqqOGA8msPDUDmKWm8CPCRDRyg/ExnFwTQ2iJSeFFCnFGa2NQO4FzYTaeNp7jx48PLVapX0B9DCItMCvmyXEtNQZnmQgT6hY8+uijYTt+1atXL/FebwpGAKedAqxwRigjCgNxjOfOhAnuO6lLFOfk3rOOOhFE5VA0Npp2YZ1xiMIhaoiioaRCcQwz62DC84cgYWb3kefCnqMRI0aENBAic6z4JtEeCC2ZjO+Fndvnn3/uOnXqFFKfEDYwIpVMpGjTpk0YnwgTuqCQ2jR9+vTEc0b6VDydKdPxtf5/l0CZVavXri/s5U2fO9N1GNMlDIMoMannk65smY1BHj8snetORchYPj/foaICBlEUS5etcPXq1s4XdcEOKH2f+y80DzJG8Ztd/Zc7/uX55Zdf3dff/uCqVOZLXilsq18iIAIiIAIiIAIiIAIikAsBQucptpjMWE5nBgyhgPx/K04Y356QepxLQvItt5+OIE2aNAlOHc4dRioKNTXihtBg9Tni65i5x+nDwaMzBcKK1RxAfLH37Me2pCtgtPXkczLD4aUmBukAFF4k6oKIi2RGyL85qsnWa1lmAjwLFPA0Q7SI8qagqqUYIQbg8CczUkMs1QOBgFQQjOeCKJqjjz463zMafT5I9aDlKREaRIbY8cIAsV8UoI23+qULDxEjpC5ZBAdRTJyTCWPRYbhGxBSLbCIihciTVN8hvgP77pu8UUR03D/b+5cnTQ6X3LrVoTldemH3z+mgRbDTRqWhEIPtWbORq56XUkLExZMfPZ9vNFJKxnS+y21fqUZieVTA4KFduOgnV6f29vkEDESJwUOGugY77+pDmI7w/xPpF354z7IhQ2/yuVG/JsYk5YQxGEs5UwkseiMCIiACIiACIiACIpADAZx3Wl9aqDtDMBNOZIIJGCxjNhnBA0cOx9CMmXJSUGx23JwwtrF6GnRtMItHYdhyhAmECmbAzTgP0gJMwGA5qQQ4ohQCjTqoiBI4yVbXgG3pLMGMuHW+YBn7tG3bNkRnIGBgtWvXDmMymx+9NpxVxAsJGAFToX4R3UK0jXX9MAGDriHcs6igQGoGQtR+++2XOCaCAEKYRQOxgq4iGNuRIkT0DbVMqItinU0QuNiX54vIHUtjQtyaMGFCvmMwFukk1FyJCxisS2Yck+ef71H02eH55HgmYLAvIhzHNEHPxuP55Ltl3x1brtc/N4EiicQA4QPvjXM3vrqhIBFixYvdxrvy5crno/vdku9DRMYWZbd0YzuPdLV81Aa2YMGiUNeCtBAz+m53797TfeKVw86dO7kjfS/jvfbaM6yePn2Ge8nn540b97Br6P9Yjxo1Ml8Y28JFi70ivtp/MTYWHLVx9SoCIiACIiACIiACIiACBSVAtAXRwYT0Z7JFixYFhzAeNcx+zE6T8x/t+pBpvOh69qdOhjmc0XXx96S24DziTKYzJv9wnHEqLcUl1fZsh2iTacxU+2t5egIUSeW+0fEmWhsi2V6k9/CskQZStuymc9MrVqwI9z/ZOvalFSspUumM8+GeI3ZkOp9043AsxuG5zTQOUSMUKoVBsu9QuuP82dYVNpKisPv/UbyLTMRY99s613pU+1D7gos5bJdD3fAThrgy/r+oIWRs6UUMEzBokUqHEQp0mhFd0abNUe7Hn350d/p2Qwce2Dyseuyxx8Nr+/YnhtcpU95y5/Tu7aptW82reS/ki+L45LOvXK1aO7hyXtWTiYAIiIAIiIAIiIAIiIAIiIAIiMD/EoHJU97xoubaQl3SX3zdnUMObFaoMYp7500luxzPoNwW5dxlrfomRIuJX0x2N0wa5tb7/6K20zY7JgQMlq9c+bOvYZFf0b7Vt5giAiMqYLDteB+OxI8Z4gbbsC37RI0xGVuWHQHCycixy8ZQdSk8hIL7v2RUIS+MzV+wIOSNFmaMbPdlBiabqtDZjqftMhMo7POR+QjaQgREQAREQAREQAREQASyJ7D7Lg1cBR8ZlatVqljB7b7bzrnu/oftt8Vllw+8sqiOXm/bur7zyHo39ftpYUgKfn628Ev3j/oHuf/bInlExJKly1zVKpV9rla5sA+O2amnne46duzgzuraJd+pWSRGh/btE8vr1NnRzfNVbEePHuN69z4nXyjVsuUrfSXfioltc3lDZd4RPhfyet87mRQWQqF23223jKF2uRwr2T6v+9ZED40bl8hrS7YNy3BqqWZcvXpuKTSjfdusBT5say+fe5fO5syZ4zr4fs1vTpniGjZs6KNgti3UcdMdi3VdunZ15ANmEzKZaSxbf5vPPaVH+s6+gncvH8lDBeiKPtSypW8dRX5o/RwrbC/04Xx9fZGvE30+bLKwPTt+stcJPtdv0FVXucd8YSfeU1F626pV8+UKRvc7/4ILgnhnlcOj6wr7fvLrr4diXgcfdFDOQ11z7bVBZKnnc3AxQh37+GJla9audY19W7Z0Ri9yKnBb+GDPs88OuchVPY/iMHsm4G/vv//++/DcUxCrYsXC/U0pjmsojmP8e+JE99RTT7nmPlc1ncX/hlFk7GqfQ33bHXeElnwUahbTdAS1TgREQAREQAREQASSE6hQobyrs2Mt392zbk4/O9au6UWQ9OlmyY/8xy4tskgMu4w+B3dzxzRsbR8dERlt7ungnpjxbGitmliR92bt2nVu66039rmmC8la7+hQAyNbY1v2YV8zxmTswtgU38v4Il8EiX9kj/Tthbr54kn3+7ZW9+W1yyrM2NnuS4TEIp8Xl8moHN3bO4m5GJEVD/siPe18Ve1M9v4HH4T2Xc9456WZb8VVmONmOhbrv/WVs4u6SCvtzWxWnQrIPDsUPBrpxaoDfeXwXA2H/W9eALFe3wUZZ/ny5a7mDju467zzf9mll4ZiX918e7bvfAutZNa3b1932qmnJltV6GXk/CLIFMYW+KgUY8zzda6vtE4Bs/a+cFUm6+K/Z3PnzUtsBgPEj+IyeyY4nr1v5AW74d7p3i6vyFlxnUtJPg7PCeJUJov+DUNoHeCfb9qmjfXCKYXFLr/88kxDaL0IiIAIiIAIiIAIiIAIJAhkbvCb2DS7N9TAGNrualfHp42MmHJfSCeZv2Khu/SFa9zwKfe6w3dp4VrUP9DVqVLb1ahUzVEshq4iZhvbqKaPCLDted1Y8HO6w9nAGJOxczUiLgZecYW7YuBAd1ReGyNm7Jmd7eFnhk895RQvvmztmKF91rcHol8zFYWP922EKNSEo3ynd4pb+uq+tA+isvPp/h/uT/iqu7Q5okr10b76MzP2N/ve4If4CsJUiMahPvTQQ8N+yc592rRpbqLv3UwkQcuWLd1hvsc3hW/6XnRRaO/FOVPVl4Kndm5fe0edCAsiWHDW4/aGjzZh+8qVK4dVRMM89fTTjn7QnB8ViHHuX5vsU4R8RArGcWip1f/ii7M+Lvf2o5kzQ4snxr7dt2eKRyx89dVX7hlfORknFpZR45688MIL7q133nFb++ugAjjnjdGH+hHfrxwhixn7kzt3dhYFACuiG2b66IamvjXTrymei0mvvhoiPir5mXbu3ZG+rzbnQuEqxiNKA8M5h8+H/np29PeVdRQewpiVfs5XBT/MR3UU1OBPdAhGtMKMGTPc+++/7+x8iIygqvTZPXuGa+FZpBgT96SXfyatwjORFBTGPdP3mZ/lX+n5Tj93ij6xjCgH7gU8uLZ3PE8qnHc588xEr+7ouY958EH3u2dGxfR0nKP72HsihPp5IRCB5nLfHszutz2b8e/N9TfcEHbt169fqLjexrfawhDLqGLN94p+5/9o0SIsT/WssjLd9yrdfmHg2C+EGNjv66tyZ2v2NyDTc8R95m/LMT7Kg3t4pxdMDzrwwCCewo/7e5KPfiICDP4333KLG+C/d9Eq3+nOye417Gl91qxZM9fC/40Z66ugc478HbIK5/Zsx8+J8fl7ynP/7rvvBvEhHvVl9zTd3xsKeQ0ZPDj8vWNMvuOn+L+LFPCyZ4PlMhEQAREQAREQAREQARFIRaDIIzE4EELGuQd3D4U9aaVqRvvV0VMfdmc+0tu1Gnmc22PoQSE9w9Zneq1YoaL/B7R3fu8YXiiBItNxWD/PO9HMNCJCRI2ojHd8hAYCBpWDu3uHEkcDQQEnmDB6bLVfRosrHB/aFOFYtvP/YMcJOcg7o8O8Az/TO/TYRB+WffGAAcGR2Xvvvd21112X6K8cNsj79YEXMIgMwRnFycG5efGll4JTeoJvXYQR7o7DaOeG448jONkLEENuuilvpPwvOB+NIiH+/xo9OqQTtPCO4j6+f/mFXiBhNrxB/foJJ47jbO8droIcF2Fi+J13+kKuc9wJJ5ywidMCc3gitBzhWy/RPop7YDban9dYUms8P2b1STWhxznW3/OjNgqO4FZeRKLgK9dOFAdONPU+2noxaqZPVZjkRaBkxn3AWbV7N85Hp8BgsRdB+px3XtgFR+5yL2zh5MGVCApSDhCfMES0aERQWJjjL4re4tjZ+dBDnP7ZCCakm3BPeA6J1HnV9/M2e9CLDggViDfduncPFaCPPfZY95lncIsXzDDuxR2+ngyRBjy7RB3xTMYNh5pnjB7fWCrO8f34jFBwpU+RIcWMCBNaZ2H2bCb73tByC6MVF+lKZqR07bHHHq6+fwYv8TP5zOhjqZ5V1qX7XqXbj33jxj14+ZVX4ovTfrb7luo5utRHIPCd5ppJieMZ4/mD2yte0MSm++eM477q/7ZgiFpfzZqVtYDBPnavESxIPxrq/w5091E+REEgXnFc7gXPdqpzYpyRd9/tHveCGM8LzxfPhpnd00x/b7h/CLYcD2EKIYXPEjCMpF5FQAREQAREQAREQAQyEdgYApFpyxzW06HkkPoHuIc+eNzd995Yt2jlpmkRa35b4x3NXxPRGIgEGG1UDzusVb6jDh9+uxs4cJC74YYbvYMyyd1x+21+drxO2JYNbV/eM2am9j1sl8pwjmvVrBmcxFTbIFoQCdDX1yfAmvo+zEf6Htq9zzknscvF3oGmngNO7j333uvO7dMn1NOgMOa7PhqBeg/YWd4hp5YCxuw4tRFax1JqHvWRBud7h8PSPqgZ8ISPMCBSBFGDGXNSPLBHx48P78/p1St8xrk+zgsH/b0gEY/GYDYcscLsFB9h8U+/LeeNs/GYd1wQARAWcOor+9l/O05Bjsv49Cm/xAsOyew/PlcehnbO9MHu6GegMWZqR/o+2Y96YWEn73hhiB7k5cNusJ/BhxtOPdEMRF5Q42Oxb+U0x0chUACW6ybKBfbZ2KX+PJltJorl6HbtQug8jiAzzRP8/YE/EQHtfW9tIkyYpaf9FOIB3DiXqCEWPTh2bLiHtCaL26effRYiJNatW+fe9tERn/nPl3uH3UrjXnP11UlrgyDOjPfn08mzIuKCCIuhvn899+8h/0zs4EUtnMtVPjXp7nvuSRyW5/tCn5aCET10pxeYzNZ73ggHiG93+1drv5WKM4JW3HByEaG6d+uWj0W6781+PlIGI1LJ7jOf+3ih6PC86Jb3pk51H3sxiuiFVM+q7Zvqe5VpP46ZrXFPa3qWrbxzn8xSPUeImM/nRfqw71me0zs+ygGhgUinfv67StQDUVDUoOF78bb/nOw4iHVEaJCug1AQN7539r368MMPg6DU0T+32NPPPBO+E7QMTHVOiLlc54M+BcSihRAjec4x7il/E+wY0b83YYPYL1LyGI/vwT1eHJGJgAiIgAiIgAiIgAiIQLYENquIwUnQteTMpp3dGU07uRlzP3aTvnzdfTz/U7fACxoLVyxyC1Yv8v8QXpsQMXb1jgnOJkU04yIG4dO33HJTWH5Rv/5u8OAhbsSI4WFb9mFfM8bcaqsNxUJtWUFea9aqFZxfnAObQY7vz2wwkRNmOHo4C4Ty18lLPbCClPxjvYZ3iK33NqkDNnvP/jvvvLEqLNeBI4rjGTUK5PFjM+Y4iMmcYfb54ssvAxe2jxodNMzBs+XkrG8ZaUWLOHCvdzJIXcEhx3Css7F0x2V/Zn9T2Sw/wxyNCKnjoy3McM6xM7t0sUXBQbbaKURhINxYdAsb/eLPmUgDe6ZYxr3E+c3GLFzeUkVW+b7spLuQvnNEXpoD43Afwvl5EWOrPOGCHu5xEQOWH/iaIoTsJ7tviEkUHeVecM7UYcE5RoTB7FkKHyK/EGau8dE7RGZQiJZUAbZF+CEFiO8SIhTHjApYRLOYEb3D9ZnhTPNjYpYtT8XZ1kdfOdYg74wTZfR3/z0h3QpL972xlJjoOLxHiDHjvC1CJ9Ozmup7lWk/O1Y2r0TFcD7JxAX2T/Uc7ekjSxDeMCIREGFhg+jD3waeXcSLq6+8MkT7UGeEeivU5ogbNUOm+VSRg31UQzIRI/q9o4gmkRRmFOdd678rPNupzolUFixa9HY3vwxBBMv0vQ8bRX4hdpxx+ukhNe5kX9tlko88yTY9JjKM3oqACIiACIiACIiACPwJCWx2EcOYkmKyV83G4ceW8bp4yVK3YuXP/h/VFcJiZrd79TrbDRt2W8iXpo1q3I46qo1rsk+T0FFiypS33LhxD7vzzz8v0c2A7RkzWjA0Pkamz9Q6wAjfPiBSfZ8aA6QT/Ms7+TV8kT9m5s0QHXA0quXQIcTEAsb6yY/JLLkJHjY+kQkndewY0ilsWapok+o+5YDUivNixT6TOQoINtHrGDhoUHA47RrpKpGtpTsuXSfSGc7eTz5ywmylF1fMrDPFgz6lxGp3sA5RglavpLwM9DUXrvXRCjjrBx1ySNiVe0FERtSyKUYY3T76nvG47+P8LHLUzBld6dMBMItciG5D1M0TPmIilbX2tR6u8g5rQQ2nFDHnP342fKL/wQnG3nr77RD9c/PQoW53HzGEkEFRRbMy3nGOWlRUYznOcm8fOUT6zv7775+Wc3Qce9/NR8gc6u8DEQWkKTCLj8NclN+bTM9qqu9Vpv3sGrJ5vTGvjkc229o2yZ5LUjIQMnimYT7BF88lvYTvPSkXRFohDO3mP8eNuinjfZRSYSzdOdn3j++aiWnR72q233tEGkQ66tXwt+hYH+FEmgrRUTxjMhEQAREQAREQAREQARHIRCC/F5Np682wvmLFCm7psuX5Rr7AdzIgTYO6BogUyYzwdVJO2IZt2SdqjMnYuRozoxTPu8wLFoTUU/uAcP9B3slkVhlnoqkPn6arB7PTRGwQHs3yv9WtW+DDPvCvfwUhASfhXp920tyHlMcNh/Cxxx4LURE4zbRFpVsKxmeLCCC3ndBuQrzJO8fJnerFmIt8sURm5+O2oxcxSHUwI+qiro8kwdkksoGOJKmsMMeNj0lKSyjO6Z1tzuH+SBcYhIkmeeut9Sb3AkedGgIYzh7X+qR3/syIaGBGm2KbbEedBJz5XI0ZaSIpKIbKteMk9/SzyszsY99++23o3hIXoHI9Xrb7tfEpJWP880dEyAF5ziDPJDyIPOF8qGeQrSHckR5z6SWXBAGC1IF0nJONu4UXJDHqpjTxURhXeHGMZzPT9wYnmagczj+TZXpWU32vMu2X6biFXc/fLARPCsfCdapPkSE1yqJVEDH4riNecO+4pxQFpr7O5qofke6c+P4hwpESRwoJKVWcj1m2f2/4e0J7YL6T3F/+RvEdahCJRLMx9SoCIiACIiACIiACIiACyQhs8DKSrSmmZeX8rFx57wwuXLTYp1tUDUels8ioUSNd9+49fb2Bjq5z505hpnljF5IZIUSeCAz+4c220Q4njMWYjF0YO84XQ8TBYKaQf3Rj1B2gOwSGmEGNCWarERAa+FoMzF7jZJcJW2z8FXdq+RxdRt2Fo3zkBEbhz3N8t4m40d2E2VrbjtSV6/MKidbyQgQz+Sf4nHhqJ1A/gNocF1x4YXAScEII7U8WudG4cePgABNJwjkR6k0KAAUAKfzHcex6WF/W/5gV5rg2hr3SIYEuG2f784YnhTNxaC1igCiLy/01tMirPYCDRw0NZnRpN0qXA4zlGOdKRMRtw4a5666/PhRM5R7hoEfZh40jvzZeXWRh3lvqBtzmi2OSvnGVPx+sq09xofsMRseSgnSwCDtl+JXufGxXjomAxn239Kf9fRcKZrxb5RXLNC62T/Q1lWNM/RUiaC72YsZ9vp5GKs7RseLvYT3AP090N6EWApEiqb437EsdC2pCIH7098JbOkv3rLJfqu9Vpv3ix8zmHhRkH9I57DmiIwvPOd9bS9eggwhmgtS+ebVCDk4ibsaPm8tn7lGmc7raF2nl7wLfP/6e0BmJSBEM8SWbvzd0OprtBdNOvu4OhlB6s/87Q4SOTAREQAREQAREQAREQASyIVBm1eq1+QsvZLNXEW/DjNx3s+e4BvXq+NntjcUQKc5JN4W77hqZr34Eh8dh69Xr7BCBERUwVq9e4776erav+1Ar4cwVxenyj3Wc5WTOHtEN1JWI5pkX5JhtfItDCjHS/YOZ6mQpH9HxEFZw8nGo48YsKUUa7TwRJuiIgjOfznHv6cUDnEuiHTDOY4nfjzae6faz4+d6XNs/+sqxqSlBFEEyYx1GJETUWM4MezTdJLqeKJdU66LbZfueZ4JzsMgQzvt4X5yVQpjRGg7ZjleY7XgeKD6KiIawFzWiiBA24ryi2xTkfSbO2Y6V7ntjURgmyKQbM9Wzmul7lWq/dMfaHOt4jnL927E5zocx051Tur+F2f69CffeP7OkwchEQAREQAREQAREQAREoCAESoSIwQkvX77Cp5WscPXq1s4XVcE6nHbaVk73s9wYeeOkCZjzGBb6X4geX3/7g6tSuZJ38DcWrrP1JfXVnK3GkTanxX2u//VFAUk5sXoKxX38/4Xj0S6TYqjdzjqrWC+Hwp3jfVFTRK1heS1Ui/UESujBSsL3qoSi0WmJgAiIgAiIgAiIgAiIQKklUGJEDAguCUU+V7k6tbfPF5GRDV0iMGb/MN/P7JX3odlVstmlxGzzvK/X0MznvCukusTcklJ1ItRTWOqjTKijEO+IUqoupIhPVt+rIgaq4URABERABERABERABESgBBAoUSIGPIjIWLjoJ7ddjWqJGhmZOFEDY8HCH/3225aqCIxM16X1IiACIiACIiACIiACIiACIiACIiACGwmUOBGDUyMffvHipW6Vr3FQpfJffXRFhdAu1WpfkDayZs3a0EaVLiQU8axatUqR1sDYiEjvREAEREAEREAEREAEREAEREAEREAESgKBEiliGJh1XsxYufLnIFisXbsuFJtkHR02ttqqXBA2aKNa2C4kdjy9ioAIiIAIiIAIiIAIiIAIiIAIiIAIlFwCJVrEKLnYdGYiIAIiIAIiIAIiIAIiIAIiIAIiIALFTaBscR9QxxMBERABERABERABERABERABERABERCBXAhIxMiFmvYRAREQAREQAREQAREQAREQAREQAREodgISMYoduQ4oAiIgAiIgAiIgAiIgAiIgAiIgAiKQCwGJGLlQ0z4iIAIiIAIiIAIiIAIiIAIiIAIiIALFTkAiRrEj1wFFQAREQAREQAREQAREQAREQAREQARyISARIxdq2kcEREAEREAEREAEREAEREAEREAERKDYCUjEKHbkOqAIiIAIiIAIiIAIiIAIiIAIiIAIiEAuBCRi5EJN+4iACIiACIiACIiACIiACIiACIiACBQ7AYkYxY5cBxQBERABERABERABERABERABERABEciFgESMXKhpHxEQAREQAREQAREQAREQAREQAREQgWInIBGj2JHrgCIgAiIgAiIgAiIgAiIgAiIgAiIgArkQkIiRCzXtIwIiIAIiIAIiIAIiIAIiIAIiIAIiUOwEJGIUO3IdUAREQAREQAREQAREQAREQAREQAREIBcCEjFyoaZ9REAEREAEREAEREAEREAEREAEREAEip2ARIxiR64DioAIiIAIiIAIiIAIiIAIiIAIiIAI5EKgzHpvueyofURABERABERABERABERABERABERABESgOAn8P70pk6Cl5ItOAAAAAElFTkSuQmCC)"
   ]
  },
  {
   "cell_type": "markdown",
   "metadata": {
    "id": "Svx5pfoBv30S"
   },
   "source": [
    "BEST PERFORMING MODEL IS MODEL1 WITH 61.8 RMSE SCORE WITH KAGGALE TEST DATA"
   ]
  },
  {
   "cell_type": "markdown",
   "metadata": {
    "id": "mb0wQvIySDxb"
   },
   "source": [
    "# **Conclusion**\n",
    "\n",
    "In this project, we tackled the task of optimizing the delivery network for a logistics company. To achieve this, we performed data preprocessing to handle missing values, encode categorical variables, removing outliers and  scale the features.\n",
    "\n",
    "After training and evaluating the models on the training dataset using ANN, we found that all three models produced promising results. However, the best performance was achieved by the Keras regressor, which yielded a Root Mean Squared Error (RMSE) score of 17.9 on kaggle test data. This implies that, on average, the model's predictions deviated from the actual delivery costs by approximately 17 units, which is reasonably accurate for this type of prediction.\n",
    "\n",
    "\n",
    "By leveraging the predictive capabilities of this model, the logistics company can make informed decisions, streamline delivery processes, and achieve cost efficiencies, ultimately leading to improved customer satisfaction and business success."
   ]
  },
  {
   "cell_type": "markdown",
   "metadata": {
    "id": "L7WyN1GW7bZt"
   },
   "source": [
    "# Reference\n",
    "\n",
    "https://www.linkedin.com/pulse/feature-importance-using-neural-network-python-made-simple-sen/\n",
    "\n"
   ]
  }
 ],
 "metadata": {
  "accelerator": "GPU",
  "colab": {
   "gpuType": "T4",
   "provenance": []
  },
  "kernelspec": {
   "display_name": "Python 3",
   "language": "python",
   "name": "python3"
  },
  "language_info": {
   "codemirror_mode": {
    "name": "ipython",
    "version": 3
   },
   "file_extension": ".py",
   "mimetype": "text/x-python",
   "name": "python",
   "nbconvert_exporter": "python",
   "pygments_lexer": "ipython3",
   "version": "3.8.8"
  }
 },
 "nbformat": 4,
 "nbformat_minor": 1
}
