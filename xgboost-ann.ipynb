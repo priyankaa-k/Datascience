{
 "cells": [
  {
   "cell_type": "code",
   "execution_count": 1,
   "id": "885e80d3",
   "metadata": {
    "_cell_guid": "b1076dfc-b9ad-4769-8c92-a6c4dae69d19",
    "_uuid": "8f2839f25d086af736a60e9eeb907d3b93b6e0e5",
    "execution": {
     "iopub.execute_input": "2025-03-04T20:58:45.132439Z",
     "iopub.status.busy": "2025-03-04T20:58:45.132046Z",
     "iopub.status.idle": "2025-03-04T20:58:46.191953Z",
     "shell.execute_reply": "2025-03-04T20:58:46.190918Z"
    },
    "papermill": {
     "duration": 1.068054,
     "end_time": "2025-03-04T20:58:46.193695",
     "exception": false,
     "start_time": "2025-03-04T20:58:45.125641",
     "status": "completed"
    },
    "tags": []
   },
   "outputs": [
    {
     "name": "stdout",
     "output_type": "stream",
     "text": [
      "/kaggle/input/diabetes-dataset/diabetes_dataset.csv\n"
     ]
    }
   ],
   "source": [
    "# This Python 3 environment comes with many helpful analytics libraries installed\n",
    "# It is defined by the kaggle/python Docker image: https://github.com/kaggle/docker-python\n",
    "# For example, here's several helpful packages to load\n",
    "\n",
    "import numpy as np # linear algebra\n",
    "import pandas as pd # data processing, CSV file I/O (e.g. pd.read_csv)\n",
    "\n",
    "# Input data files are available in the read-only \"../input/\" directory\n",
    "# For example, running this (by clicking run or pressing Shift+Enter) will list all files under the input directory\n",
    "\n",
    "import os\n",
    "for dirname, _, filenames in os.walk('/kaggle/input'):\n",
    "    for filename in filenames:\n",
    "        print(os.path.join(dirname, filename))\n",
    "\n",
    "# You can write up to 20GB to the current directory (/kaggle/working/) that gets preserved as output when you create a version using \"Save & Run All\" \n",
    "# You can also write temporary files to /kaggle/temp/, but they won't be saved outside of the current session"
   ]
  },
  {
   "cell_type": "code",
   "execution_count": 2,
   "id": "b6e85802",
   "metadata": {
    "execution": {
     "iopub.execute_input": "2025-03-04T20:58:46.204757Z",
     "iopub.status.busy": "2025-03-04T20:58:46.204273Z",
     "iopub.status.idle": "2025-03-04T20:59:03.983740Z",
     "shell.execute_reply": "2025-03-04T20:59:03.982880Z"
    },
    "papermill": {
     "duration": 17.786735,
     "end_time": "2025-03-04T20:59:03.985491",
     "exception": false,
     "start_time": "2025-03-04T20:58:46.198756",
     "status": "completed"
    },
    "tags": []
   },
   "outputs": [],
   "source": [
    "# data analysis and wrangling\n",
    "import pandas as pd\n",
    "import numpy as np\n",
    "import random as rnd\n",
    "\n",
    "# visualization\n",
    "import seaborn as sns\n",
    "import matplotlib.pyplot as plt\n",
    "%matplotlib inline\n",
    "\n",
    "# scaling and train test split\n",
    "from sklearn.model_selection import train_test_split\n",
    "from sklearn.preprocessing import MinMaxScaler\n",
    "\n",
    "# creating a model\n",
    "from tensorflow.keras.models import Sequential\n",
    "from tensorflow.keras.layers import Dense, Activation ,Dropout , Flatten\n",
    "from tensorflow.keras.optimizers import Adam\n",
    "\n",
    "# evaluation on test data\n",
    "from sklearn.metrics import mean_squared_error,mean_absolute_error,explained_variance_score\n",
    "from sklearn.metrics import classification_report,confusion_matrix\n",
    "import tensorflow as tf\n",
    "from tensorflow.keras.preprocessing import image_dataset_from_directory\n"
   ]
  },
  {
   "cell_type": "code",
   "execution_count": 3,
   "id": "faebd9ec",
   "metadata": {
    "execution": {
     "iopub.execute_input": "2025-03-04T20:59:03.996079Z",
     "iopub.status.busy": "2025-03-04T20:59:03.995506Z",
     "iopub.status.idle": "2025-03-04T20:59:04.055082Z",
     "shell.execute_reply": "2025-03-04T20:59:04.054130Z"
    },
    "papermill": {
     "duration": 0.066392,
     "end_time": "2025-03-04T20:59:04.056703",
     "exception": false,
     "start_time": "2025-03-04T20:59:03.990311",
     "status": "completed"
    },
    "tags": []
   },
   "outputs": [
    {
     "data": {
      "text/html": [
       "<div>\n",
       "<style scoped>\n",
       "    .dataframe tbody tr th:only-of-type {\n",
       "        vertical-align: middle;\n",
       "    }\n",
       "\n",
       "    .dataframe tbody tr th {\n",
       "        vertical-align: top;\n",
       "    }\n",
       "\n",
       "    .dataframe thead th {\n",
       "        text-align: right;\n",
       "    }\n",
       "</style>\n",
       "<table border=\"1\" class=\"dataframe\">\n",
       "  <thead>\n",
       "    <tr style=\"text-align: right;\">\n",
       "      <th></th>\n",
       "      <th>Age</th>\n",
       "      <th>Pregnancies</th>\n",
       "      <th>BMI</th>\n",
       "      <th>Glucose</th>\n",
       "      <th>BloodPressure</th>\n",
       "      <th>HbA1c</th>\n",
       "      <th>LDL</th>\n",
       "      <th>HDL</th>\n",
       "      <th>Triglycerides</th>\n",
       "      <th>WaistCircumference</th>\n",
       "      <th>HipCircumference</th>\n",
       "      <th>WHR</th>\n",
       "      <th>FamilyHistory</th>\n",
       "      <th>DietType</th>\n",
       "      <th>Hypertension</th>\n",
       "      <th>MedicationUse</th>\n",
       "      <th>Outcome</th>\n",
       "    </tr>\n",
       "  </thead>\n",
       "  <tbody>\n",
       "    <tr>\n",
       "      <th>0</th>\n",
       "      <td>69</td>\n",
       "      <td>5</td>\n",
       "      <td>28.39</td>\n",
       "      <td>130.1</td>\n",
       "      <td>77.0</td>\n",
       "      <td>5.4</td>\n",
       "      <td>130.4</td>\n",
       "      <td>44.0</td>\n",
       "      <td>50.0</td>\n",
       "      <td>90.5</td>\n",
       "      <td>107.9</td>\n",
       "      <td>0.84</td>\n",
       "      <td>0</td>\n",
       "      <td>0</td>\n",
       "      <td>0</td>\n",
       "      <td>1</td>\n",
       "      <td>0</td>\n",
       "    </tr>\n",
       "    <tr>\n",
       "      <th>1</th>\n",
       "      <td>32</td>\n",
       "      <td>1</td>\n",
       "      <td>26.49</td>\n",
       "      <td>116.5</td>\n",
       "      <td>72.0</td>\n",
       "      <td>4.5</td>\n",
       "      <td>87.4</td>\n",
       "      <td>54.2</td>\n",
       "      <td>129.9</td>\n",
       "      <td>113.3</td>\n",
       "      <td>81.4</td>\n",
       "      <td>1.39</td>\n",
       "      <td>0</td>\n",
       "      <td>0</td>\n",
       "      <td>0</td>\n",
       "      <td>0</td>\n",
       "      <td>0</td>\n",
       "    </tr>\n",
       "    <tr>\n",
       "      <th>2</th>\n",
       "      <td>89</td>\n",
       "      <td>13</td>\n",
       "      <td>25.34</td>\n",
       "      <td>101.0</td>\n",
       "      <td>82.0</td>\n",
       "      <td>4.9</td>\n",
       "      <td>112.5</td>\n",
       "      <td>56.8</td>\n",
       "      <td>177.6</td>\n",
       "      <td>84.7</td>\n",
       "      <td>107.2</td>\n",
       "      <td>0.79</td>\n",
       "      <td>0</td>\n",
       "      <td>0</td>\n",
       "      <td>0</td>\n",
       "      <td>1</td>\n",
       "      <td>0</td>\n",
       "    </tr>\n",
       "    <tr>\n",
       "      <th>3</th>\n",
       "      <td>78</td>\n",
       "      <td>13</td>\n",
       "      <td>29.91</td>\n",
       "      <td>146.0</td>\n",
       "      <td>104.0</td>\n",
       "      <td>5.7</td>\n",
       "      <td>50.7</td>\n",
       "      <td>39.1</td>\n",
       "      <td>117.0</td>\n",
       "      <td>108.9</td>\n",
       "      <td>110.0</td>\n",
       "      <td>0.99</td>\n",
       "      <td>0</td>\n",
       "      <td>0</td>\n",
       "      <td>0</td>\n",
       "      <td>1</td>\n",
       "      <td>1</td>\n",
       "    </tr>\n",
       "    <tr>\n",
       "      <th>4</th>\n",
       "      <td>38</td>\n",
       "      <td>8</td>\n",
       "      <td>24.56</td>\n",
       "      <td>103.2</td>\n",
       "      <td>74.0</td>\n",
       "      <td>4.7</td>\n",
       "      <td>102.5</td>\n",
       "      <td>29.1</td>\n",
       "      <td>145.9</td>\n",
       "      <td>84.1</td>\n",
       "      <td>92.8</td>\n",
       "      <td>0.91</td>\n",
       "      <td>0</td>\n",
       "      <td>1</td>\n",
       "      <td>0</td>\n",
       "      <td>0</td>\n",
       "      <td>0</td>\n",
       "    </tr>\n",
       "  </tbody>\n",
       "</table>\n",
       "</div>"
      ],
      "text/plain": [
       "   Age  Pregnancies    BMI  Glucose  BloodPressure  HbA1c    LDL   HDL  \\\n",
       "0   69            5  28.39    130.1           77.0    5.4  130.4  44.0   \n",
       "1   32            1  26.49    116.5           72.0    4.5   87.4  54.2   \n",
       "2   89           13  25.34    101.0           82.0    4.9  112.5  56.8   \n",
       "3   78           13  29.91    146.0          104.0    5.7   50.7  39.1   \n",
       "4   38            8  24.56    103.2           74.0    4.7  102.5  29.1   \n",
       "\n",
       "   Triglycerides  WaistCircumference  HipCircumference   WHR  FamilyHistory  \\\n",
       "0           50.0                90.5             107.9  0.84              0   \n",
       "1          129.9               113.3              81.4  1.39              0   \n",
       "2          177.6                84.7             107.2  0.79              0   \n",
       "3          117.0               108.9             110.0  0.99              0   \n",
       "4          145.9                84.1              92.8  0.91              0   \n",
       "\n",
       "   DietType  Hypertension  MedicationUse  Outcome  \n",
       "0         0             0              1        0  \n",
       "1         0             0              0        0  \n",
       "2         0             0              1        0  \n",
       "3         0             0              1        1  \n",
       "4         1             0              0        0  "
      ]
     },
     "execution_count": 3,
     "metadata": {},
     "output_type": "execute_result"
    }
   ],
   "source": [
    "\n",
    "df = pd.read_csv('/kaggle/input/diabetes-dataset/diabetes_dataset.csv')\n",
    "df.head()\n"
   ]
  },
  {
   "cell_type": "code",
   "execution_count": 4,
   "id": "93ce3666",
   "metadata": {
    "execution": {
     "iopub.execute_input": "2025-03-04T20:59:04.067224Z",
     "iopub.status.busy": "2025-03-04T20:59:04.066901Z",
     "iopub.status.idle": "2025-03-04T20:59:04.071800Z",
     "shell.execute_reply": "2025-03-04T20:59:04.071071Z"
    },
    "papermill": {
     "duration": 0.011523,
     "end_time": "2025-03-04T20:59:04.073175",
     "exception": false,
     "start_time": "2025-03-04T20:59:04.061652",
     "status": "completed"
    },
    "tags": []
   },
   "outputs": [
    {
     "data": {
      "text/plain": [
       "(9538, 17)"
      ]
     },
     "execution_count": 4,
     "metadata": {},
     "output_type": "execute_result"
    }
   ],
   "source": [
    "df.shape"
   ]
  },
  {
   "cell_type": "code",
   "execution_count": 5,
   "id": "3b0de158",
   "metadata": {
    "execution": {
     "iopub.execute_input": "2025-03-04T20:59:04.083900Z",
     "iopub.status.busy": "2025-03-04T20:59:04.083609Z",
     "iopub.status.idle": "2025-03-04T20:59:04.092507Z",
     "shell.execute_reply": "2025-03-04T20:59:04.091753Z"
    },
    "papermill": {
     "duration": 0.015632,
     "end_time": "2025-03-04T20:59:04.093797",
     "exception": false,
     "start_time": "2025-03-04T20:59:04.078165",
     "status": "completed"
    },
    "tags": []
   },
   "outputs": [
    {
     "data": {
      "text/plain": [
       "Age                   0\n",
       "Pregnancies           0\n",
       "BMI                   0\n",
       "Glucose               0\n",
       "BloodPressure         0\n",
       "HbA1c                 0\n",
       "LDL                   0\n",
       "HDL                   0\n",
       "Triglycerides         0\n",
       "WaistCircumference    0\n",
       "HipCircumference      0\n",
       "WHR                   0\n",
       "FamilyHistory         0\n",
       "DietType              0\n",
       "Hypertension          0\n",
       "MedicationUse         0\n",
       "Outcome               0\n",
       "dtype: int64"
      ]
     },
     "execution_count": 5,
     "metadata": {},
     "output_type": "execute_result"
    }
   ],
   "source": [
    "df.isna().sum()"
   ]
  },
  {
   "cell_type": "code",
   "execution_count": 6,
   "id": "2d455f23",
   "metadata": {
    "execution": {
     "iopub.execute_input": "2025-03-04T20:59:04.104357Z",
     "iopub.status.busy": "2025-03-04T20:59:04.104055Z",
     "iopub.status.idle": "2025-03-04T20:59:04.107229Z",
     "shell.execute_reply": "2025-03-04T20:59:04.106475Z"
    },
    "papermill": {
     "duration": 0.00984,
     "end_time": "2025-03-04T20:59:04.108536",
     "exception": false,
     "start_time": "2025-03-04T20:59:04.098696",
     "status": "completed"
    },
    "tags": []
   },
   "outputs": [],
   "source": [
    "# sns.pairplot(df, hue=\"Outcome\")"
   ]
  },
  {
   "cell_type": "code",
   "execution_count": 7,
   "id": "300f1378",
   "metadata": {
    "execution": {
     "iopub.execute_input": "2025-03-04T20:59:04.119067Z",
     "iopub.status.busy": "2025-03-04T20:59:04.118802Z",
     "iopub.status.idle": "2025-03-04T20:59:04.129084Z",
     "shell.execute_reply": "2025-03-04T20:59:04.128398Z"
    },
    "papermill": {
     "duration": 0.017062,
     "end_time": "2025-03-04T20:59:04.130477",
     "exception": false,
     "start_time": "2025-03-04T20:59:04.113415",
     "status": "completed"
    },
    "tags": []
   },
   "outputs": [],
   "source": [
    "x= df.drop(\"Outcome\" , axis=1)\n",
    "y= df [\"Outcome\"]"
   ]
  },
  {
   "cell_type": "markdown",
   "id": "dae1b070",
   "metadata": {
    "papermill": {
     "duration": 0.004746,
     "end_time": "2025-03-04T20:59:04.140220",
     "exception": false,
     "start_time": "2025-03-04T20:59:04.135474",
     "status": "completed"
    },
    "tags": []
   },
   "source": [
    "# FIRST ONE XGBOOST"
   ]
  },
  {
   "cell_type": "code",
   "execution_count": 8,
   "id": "4cc11c4e",
   "metadata": {
    "execution": {
     "iopub.execute_input": "2025-03-04T20:59:04.150939Z",
     "iopub.status.busy": "2025-03-04T20:59:04.150637Z",
     "iopub.status.idle": "2025-03-04T20:59:04.157361Z",
     "shell.execute_reply": "2025-03-04T20:59:04.156568Z"
    },
    "papermill": {
     "duration": 0.013685,
     "end_time": "2025-03-04T20:59:04.158730",
     "exception": false,
     "start_time": "2025-03-04T20:59:04.145045",
     "status": "completed"
    },
    "tags": []
   },
   "outputs": [],
   "source": [
    "X_train, X_test, y_train, y_test = train_test_split(\n",
    "x, y, test_size=0.2, random_state=42)\n",
    "\n",
    "# pip install xgboost\n"
   ]
  },
  {
   "cell_type": "code",
   "execution_count": 9,
   "id": "6065d0f5",
   "metadata": {
    "execution": {
     "iopub.execute_input": "2025-03-04T20:59:04.169414Z",
     "iopub.status.busy": "2025-03-04T20:59:04.169083Z",
     "iopub.status.idle": "2025-03-04T20:59:05.081014Z",
     "shell.execute_reply": "2025-03-04T20:59:05.080034Z"
    },
    "papermill": {
     "duration": 0.918837,
     "end_time": "2025-03-04T20:59:05.082549",
     "exception": false,
     "start_time": "2025-03-04T20:59:04.163712",
     "status": "completed"
    },
    "tags": []
   },
   "outputs": [
    {
     "name": "stdout",
     "output_type": "stream",
     "text": [
      "              precision    recall  f1-score   support\n",
      "\n",
      "           0       1.00      1.00      1.00      1275\n",
      "           1       1.00      1.00      1.00       633\n",
      "\n",
      "    accuracy                           1.00      1908\n",
      "   macro avg       1.00      1.00      1.00      1908\n",
      "weighted avg       1.00      1.00      1.00      1908\n",
      "\n"
     ]
    },
    {
     "data": {
      "text/plain": [
       "<sklearn.metrics._plot.confusion_matrix.ConfusionMatrixDisplay at 0x793c48cfa500>"
      ]
     },
     "execution_count": 9,
     "metadata": {},
     "output_type": "execute_result"
    },
    {
     "data": {
      "image/png": "[encoded data removed]",
      "text/plain": [
       "<Figure size 640x480 with 2 Axes>"
      ]
     },
     "metadata": {},
     "output_type": "display_data"
    }
   ],
   "source": [
    "import xgboost as xgb\n",
    "\n",
    "model = xgb.XGBClassifier(n_estimators=100, learning_rate=0.1, max_depth=3, random_state=42)\n",
    "\n",
    "model.fit(X_train,y_train)\n",
    "pred = model.predict(X_test)\n",
    "\n",
    "print(classification_report(y_test,pred))\n",
    "\n",
    "from sklearn.metrics import ConfusionMatrixDisplay\n",
    "\n",
    "ConfusionMatrixDisplay.from_estimator(model, X_test, y_test)\n",
    "\n"
   ]
  },
  {
   "cell_type": "markdown",
   "id": "8db234bf",
   "metadata": {
    "papermill": {
     "duration": 0.005237,
     "end_time": "2025-03-04T20:59:05.093455",
     "exception": false,
     "start_time": "2025-03-04T20:59:05.088218",
     "status": "completed"
    },
    "tags": []
   },
   "source": [
    "# ANN "
   ]
  },
  {
   "cell_type": "code",
   "execution_count": 10,
   "id": "dff45800",
   "metadata": {
    "execution": {
     "iopub.execute_input": "2025-03-04T20:59:05.105535Z",
     "iopub.status.busy": "2025-03-04T20:59:05.105160Z",
     "iopub.status.idle": "2025-03-04T20:59:05.112600Z",
     "shell.execute_reply": "2025-03-04T20:59:05.111663Z"
    },
    "papermill": {
     "duration": 0.015213,
     "end_time": "2025-03-04T20:59:05.114103",
     "exception": false,
     "start_time": "2025-03-04T20:59:05.098890",
     "status": "completed"
    },
    "tags": []
   },
   "outputs": [],
   "source": [
    "y_train.shape\n",
    "y_test.shape\n",
    "from tensorflow.keras.utils import to_categorical\n",
    "\n",
    "y_test = to_categorical(y_test,2)\n",
    "y_train = to_categorical(y_train,2)\n"
   ]
  },
  {
   "cell_type": "code",
   "execution_count": 11,
   "id": "9bd06a65",
   "metadata": {
    "execution": {
     "iopub.execute_input": "2025-03-04T20:59:05.126235Z",
     "iopub.status.busy": "2025-03-04T20:59:05.125883Z",
     "iopub.status.idle": "2025-03-04T20:59:05.130942Z",
     "shell.execute_reply": "2025-03-04T20:59:05.130067Z"
    },
    "papermill": {
     "duration": 0.012496,
     "end_time": "2025-03-04T20:59:05.132291",
     "exception": false,
     "start_time": "2025-03-04T20:59:05.119795",
     "status": "completed"
    },
    "tags": []
   },
   "outputs": [
    {
     "data": {
      "text/plain": [
       "(1908, 2)"
      ]
     },
     "execution_count": 11,
     "metadata": {},
     "output_type": "execute_result"
    }
   ],
   "source": [
    "\n",
    "y_test.shape"
   ]
  },
  {
   "cell_type": "code",
   "execution_count": 12,
   "id": "7f4f52b3",
   "metadata": {
    "execution": {
     "iopub.execute_input": "2025-03-04T20:59:05.144591Z",
     "iopub.status.busy": "2025-03-04T20:59:05.144241Z",
     "iopub.status.idle": "2025-03-04T20:59:05.149399Z",
     "shell.execute_reply": "2025-03-04T20:59:05.148497Z"
    },
    "papermill": {
     "duration": 0.012756,
     "end_time": "2025-03-04T20:59:05.150719",
     "exception": false,
     "start_time": "2025-03-04T20:59:05.137963",
     "status": "completed"
    },
    "tags": []
   },
   "outputs": [
    {
     "data": {
      "text/plain": [
       "(7630, 2)"
      ]
     },
     "execution_count": 12,
     "metadata": {},
     "output_type": "execute_result"
    }
   ],
   "source": [
    "y_train.shape"
   ]
  },
  {
   "cell_type": "code",
   "execution_count": 13,
   "id": "91efb256",
   "metadata": {
    "execution": {
     "iopub.execute_input": "2025-03-04T20:59:05.162783Z",
     "iopub.status.busy": "2025-03-04T20:59:05.162490Z",
     "iopub.status.idle": "2025-03-04T20:59:05.175269Z",
     "shell.execute_reply": "2025-03-04T20:59:05.174527Z"
    },
    "papermill": {
     "duration": 0.020487,
     "end_time": "2025-03-04T20:59:05.176832",
     "exception": false,
     "start_time": "2025-03-04T20:59:05.156345",
     "status": "completed"
    },
    "tags": []
   },
   "outputs": [],
   "source": [
    "scaler = MinMaxScaler()\n",
    "scaler_X_train = scaler.fit_transform(X_train)\n",
    "scaler_X_test = scaler.transform(X_test)"
   ]
  },
  {
   "cell_type": "code",
   "execution_count": 14,
   "id": "4773eae0",
   "metadata": {
    "execution": {
     "iopub.execute_input": "2025-03-04T20:59:05.189415Z",
     "iopub.status.busy": "2025-03-04T20:59:05.189074Z",
     "iopub.status.idle": "2025-03-04T20:59:05.239963Z",
     "shell.execute_reply": "2025-03-04T20:59:05.239222Z"
    },
    "papermill": {
     "duration": 0.058964,
     "end_time": "2025-03-04T20:59:05.241732",
     "exception": false,
     "start_time": "2025-03-04T20:59:05.182768",
     "status": "completed"
    },
    "tags": []
   },
   "outputs": [],
   "source": [
    "from tensorflow.keras.models import Sequential\n",
    "from tensorflow.keras.layers import Dense, Dropout, BatchNormalization\n",
    "from tensorflow.keras.initializers import HeUniform\n",
    "from tensorflow.keras.constraints import MaxNorm\n",
    "from tensorflow.keras.regularizers import l2\n",
    "\n",
    "model = Sequential([\n",
    "    Dense(units=64, activation='relu', kernel_initializer=HeUniform(), kernel_constraint=MaxNorm(max_value=3), kernel_regularizer=l2(0.01)),\n",
    "    Dropout(0.2),\n",
    "    BatchNormalization(),\n",
    "    Dense(256, activation=\"relu\", kernel_initializer=HeUniform()),\n",
    "    Dense(128, activation=\"relu\", kernel_initializer=HeUniform()),\n",
    "    BatchNormalization(),\n",
    "    Dense(32, activation=\"relu\", kernel_initializer=HeUniform()),\n",
    "    Dense(2, activation=\"sigmoid\")  \n",
    "])\n"
   ]
  },
  {
   "cell_type": "markdown",
   "id": "57240fdb",
   "metadata": {
    "papermill": {
     "duration": 0.0053,
     "end_time": "2025-03-04T20:59:05.252819",
     "exception": false,
     "start_time": "2025-03-04T20:59:05.247519",
     "status": "completed"
    },
    "tags": []
   },
   "source": [
    "* units=64:\n",
    "\n",
    "This parameter specifies the number of neurons in the layer.\n",
    "\n",
    "* kernel_constraint=MaxNorm(max_value=3):\n",
    "\n",
    "The kernel_constraint defines a constraint to be applied to the weights.\n",
    "\n",
    "kernel_regularizer is a parameter used for regularizing the weights. Regularization is used to prevent the model from overfitting. It helps the model generalize better by adding a penalty to the size of the weights.\n",
    "\n",
    "This is used to keep the weights within a specific range during the learning process. MaxNorm(max_value=3) ensures that the norm (magnitude) of each weight does not exceed 3. In other words, the size of the weights is constrained within a defined limit.\n",
    "\n",
    "* units=64: There will be 64 neurons in this layer.\n",
    "\n",
    "* activation='relu': Each neuron will use the ReLU activation function.\n",
    "\n",
    "* kernel_initializer=HeUniform(): The weights will be initialized randomly with the He initialization method.\n",
    "\n",
    "* kernel_constraint=MaxNorm(max_value=3): The weights' norm will be constrained to not exceed 3.\n",
    "\n",
    "This layer is designed to facilitate faster learning and improve generalization by using weight initialization, activation functions, and weight constraints."
   ]
  },
  {
   "cell_type": "markdown",
   "id": "7d80d70b",
   "metadata": {
    "papermill": {
     "duration": 0.005166,
     "end_time": "2025-03-04T20:59:05.263483",
     "exception": false,
     "start_time": "2025-03-04T20:59:05.258317",
     "status": "completed"
    },
    "tags": []
   },
   "source": []
  },
  {
   "cell_type": "code",
   "execution_count": 15,
   "id": "c284811f",
   "metadata": {
    "execution": {
     "iopub.execute_input": "2025-03-04T20:59:05.275467Z",
     "iopub.status.busy": "2025-03-04T20:59:05.275078Z",
     "iopub.status.idle": "2025-03-04T20:59:45.509234Z",
     "shell.execute_reply": "2025-03-04T20:59:45.508391Z"
    },
    "papermill": {
     "duration": 40.241983,
     "end_time": "2025-03-04T20:59:45.510824",
     "exception": false,
     "start_time": "2025-03-04T20:59:05.268841",
     "status": "completed"
    },
    "tags": []
   },
   "outputs": [
    {
     "name": "stdout",
     "output_type": "stream",
     "text": [
      "Epoch 1/100\n",
      "\u001b[1m120/120\u001b[0m \u001b[32m━━━━━━━━━━━━━━━━━━━━\u001b[0m\u001b[37m\u001b[0m \u001b[1m3s\u001b[0m 5ms/step - accuracy: 0.7935 - loss: 1.5847 - val_accuracy: 0.9649 - val_loss: 0.9588\n",
      "Epoch 2/100\n",
      "\u001b[1m120/120\u001b[0m \u001b[32m━━━━━━━━━━━━━━━━━━━━\u001b[0m\u001b[37m\u001b[0m \u001b[1m0s\u001b[0m 3ms/step - accuracy: 0.9691 - loss: 0.8322 - val_accuracy: 0.9602 - val_loss: 0.6120\n",
      "Epoch 3/100\n",
      "\u001b[1m120/120\u001b[0m \u001b[32m━━━━━━━━━━━━━━━━━━━━\u001b[0m\u001b[37m\u001b[0m \u001b[1m0s\u001b[0m 3ms/step - accuracy: 0.9710 - loss: 0.5319 - val_accuracy: 0.9617 - val_loss: 0.4176\n",
      "Epoch 4/100\n",
      "\u001b[1m120/120\u001b[0m \u001b[32m━━━━━━━━━━━━━━━━━━━━\u001b[0m\u001b[37m\u001b[0m \u001b[1m0s\u001b[0m 3ms/step - accuracy: 0.9668 - loss: 0.3605 - val_accuracy: 0.9607 - val_loss: 0.3622\n",
      "Epoch 5/100\n",
      "\u001b[1m120/120\u001b[0m \u001b[32m━━━━━━━━━━━━━━━━━━━━\u001b[0m\u001b[37m\u001b[0m \u001b[1m0s\u001b[0m 3ms/step - accuracy: 0.9750 - loss: 0.2423 - val_accuracy: 0.9623 - val_loss: 0.2705\n",
      "Epoch 6/100\n",
      "\u001b[1m120/120\u001b[0m \u001b[32m━━━━━━━━━━━━━━━━━━━━\u001b[0m\u001b[37m\u001b[0m \u001b[1m0s\u001b[0m 4ms/step - accuracy: 0.9795 - loss: 0.1765 - val_accuracy: 0.9638 - val_loss: 0.2343\n",
      "Epoch 7/100\n",
      "\u001b[1m120/120\u001b[0m \u001b[32m━━━━━━━━━━━━━━━━━━━━\u001b[0m\u001b[37m\u001b[0m \u001b[1m0s\u001b[0m 3ms/step - accuracy: 0.9808 - loss: 0.1394 - val_accuracy: 0.9775 - val_loss: 0.1175\n",
      "Epoch 8/100\n",
      "\u001b[1m120/120\u001b[0m \u001b[32m━━━━━━━━━━━━━━━━━━━━\u001b[0m\u001b[37m\u001b[0m \u001b[1m0s\u001b[0m 3ms/step - accuracy: 0.9796 - loss: 0.1167 - val_accuracy: 0.9806 - val_loss: 0.1005\n",
      "Epoch 9/100\n",
      "\u001b[1m120/120\u001b[0m \u001b[32m━━━━━━━━━━━━━━━━━━━━\u001b[0m\u001b[37m\u001b[0m \u001b[1m0s\u001b[0m 3ms/step - accuracy: 0.9775 - loss: 0.1064 - val_accuracy: 0.9785 - val_loss: 0.0887\n",
      "Epoch 10/100\n",
      "\u001b[1m120/120\u001b[0m \u001b[32m━━━━━━━━━━━━━━━━━━━━\u001b[0m\u001b[37m\u001b[0m \u001b[1m0s\u001b[0m 3ms/step - accuracy: 0.9822 - loss: 0.0829 - val_accuracy: 0.9853 - val_loss: 0.0682\n",
      "Epoch 11/100\n",
      "\u001b[1m120/120\u001b[0m \u001b[32m━━━━━━━━━━━━━━━━━━━━\u001b[0m\u001b[37m\u001b[0m \u001b[1m0s\u001b[0m 3ms/step - accuracy: 0.9803 - loss: 0.0784 - val_accuracy: 0.9911 - val_loss: 0.0542\n",
      "Epoch 12/100\n",
      "\u001b[1m120/120\u001b[0m \u001b[32m━━━━━━━━━━━━━━━━━━━━\u001b[0m\u001b[37m\u001b[0m \u001b[1m0s\u001b[0m 3ms/step - accuracy: 0.9811 - loss: 0.0723 - val_accuracy: 0.9706 - val_loss: 0.1190\n",
      "Epoch 13/100\n",
      "\u001b[1m120/120\u001b[0m \u001b[32m━━━━━━━━━━━━━━━━━━━━\u001b[0m\u001b[37m\u001b[0m \u001b[1m0s\u001b[0m 3ms/step - accuracy: 0.9815 - loss: 0.0678 - val_accuracy: 0.9916 - val_loss: 0.0471\n",
      "Epoch 14/100\n",
      "\u001b[1m120/120\u001b[0m \u001b[32m━━━━━━━━━━━━━━━━━━━━\u001b[0m\u001b[37m\u001b[0m \u001b[1m0s\u001b[0m 3ms/step - accuracy: 0.9837 - loss: 0.0604 - val_accuracy: 0.9895 - val_loss: 0.0505\n",
      "Epoch 15/100\n",
      "\u001b[1m120/120\u001b[0m \u001b[32m━━━━━━━━━━━━━━━━━━━━\u001b[0m\u001b[37m\u001b[0m \u001b[1m0s\u001b[0m 3ms/step - accuracy: 0.9827 - loss: 0.0605 - val_accuracy: 0.9879 - val_loss: 0.0548\n",
      "Epoch 16/100\n",
      "\u001b[1m120/120\u001b[0m \u001b[32m━━━━━━━━━━━━━━━━━━━━\u001b[0m\u001b[37m\u001b[0m \u001b[1m0s\u001b[0m 3ms/step - accuracy: 0.9868 - loss: 0.0535 - val_accuracy: 0.9937 - val_loss: 0.0367\n",
      "Epoch 17/100\n",
      "\u001b[1m120/120\u001b[0m \u001b[32m━━━━━━━━━━━━━━━━━━━━\u001b[0m\u001b[37m\u001b[0m \u001b[1m0s\u001b[0m 3ms/step - accuracy: 0.9869 - loss: 0.0485 - val_accuracy: 0.9785 - val_loss: 0.0735\n",
      "Epoch 18/100\n",
      "\u001b[1m120/120\u001b[0m \u001b[32m━━━━━━━━━━━━━━━━━━━━\u001b[0m\u001b[37m\u001b[0m \u001b[1m0s\u001b[0m 3ms/step - accuracy: 0.9833 - loss: 0.0540 - val_accuracy: 0.9927 - val_loss: 0.0355\n",
      "Epoch 19/100\n",
      "\u001b[1m120/120\u001b[0m \u001b[32m━━━━━━━━━━━━━━━━━━━━\u001b[0m\u001b[37m\u001b[0m \u001b[1m0s\u001b[0m 3ms/step - accuracy: 0.9853 - loss: 0.0465 - val_accuracy: 0.9953 - val_loss: 0.0329\n",
      "Epoch 20/100\n",
      "\u001b[1m120/120\u001b[0m \u001b[32m━━━━━━━━━━━━━━━━━━━━\u001b[0m\u001b[37m\u001b[0m \u001b[1m0s\u001b[0m 3ms/step - accuracy: 0.9856 - loss: 0.0486 - val_accuracy: 0.9827 - val_loss: 0.0463\n",
      "Epoch 21/100\n",
      "\u001b[1m120/120\u001b[0m \u001b[32m━━━━━━━━━━━━━━━━━━━━\u001b[0m\u001b[37m\u001b[0m \u001b[1m0s\u001b[0m 3ms/step - accuracy: 0.9868 - loss: 0.0465 - val_accuracy: 0.9916 - val_loss: 0.0354\n",
      "Epoch 22/100\n",
      "\u001b[1m120/120\u001b[0m \u001b[32m━━━━━━━━━━━━━━━━━━━━\u001b[0m\u001b[37m\u001b[0m \u001b[1m0s\u001b[0m 3ms/step - accuracy: 0.9843 - loss: 0.0460 - val_accuracy: 0.9853 - val_loss: 0.0392\n",
      "Epoch 23/100\n",
      "\u001b[1m120/120\u001b[0m \u001b[32m━━━━━━━━━━━━━━━━━━━━\u001b[0m\u001b[37m\u001b[0m \u001b[1m0s\u001b[0m 3ms/step - accuracy: 0.9886 - loss: 0.0382 - val_accuracy: 0.9916 - val_loss: 0.0360\n",
      "Epoch 24/100\n",
      "\u001b[1m120/120\u001b[0m \u001b[32m━━━━━━━━━━━━━━━━━━━━\u001b[0m\u001b[37m\u001b[0m \u001b[1m0s\u001b[0m 3ms/step - accuracy: 0.9897 - loss: 0.0404 - val_accuracy: 0.9853 - val_loss: 0.0467\n",
      "Epoch 25/100\n",
      "\u001b[1m120/120\u001b[0m \u001b[32m━━━━━━━━━━━━━━━━━━━━\u001b[0m\u001b[37m\u001b[0m \u001b[1m0s\u001b[0m 3ms/step - accuracy: 0.9882 - loss: 0.0456 - val_accuracy: 0.9953 - val_loss: 0.0248\n",
      "Epoch 26/100\n",
      "\u001b[1m120/120\u001b[0m \u001b[32m━━━━━━━━━━━━━━━━━━━━\u001b[0m\u001b[37m\u001b[0m \u001b[1m0s\u001b[0m 3ms/step - accuracy: 0.9846 - loss: 0.0483 - val_accuracy: 0.9916 - val_loss: 0.0332\n",
      "Epoch 27/100\n",
      "\u001b[1m120/120\u001b[0m \u001b[32m━━━━━━━━━━━━━━━━━━━━\u001b[0m\u001b[37m\u001b[0m \u001b[1m0s\u001b[0m 3ms/step - accuracy: 0.9900 - loss: 0.0360 - val_accuracy: 0.9911 - val_loss: 0.0318\n",
      "Epoch 28/100\n",
      "\u001b[1m120/120\u001b[0m \u001b[32m━━━━━━━━━━━━━━━━━━━━\u001b[0m\u001b[37m\u001b[0m \u001b[1m0s\u001b[0m 3ms/step - accuracy: 0.9865 - loss: 0.0439 - val_accuracy: 0.9869 - val_loss: 0.0434\n",
      "Epoch 29/100\n",
      "\u001b[1m120/120\u001b[0m \u001b[32m━━━━━━━━━━━━━━━━━━━━\u001b[0m\u001b[37m\u001b[0m \u001b[1m0s\u001b[0m 3ms/step - accuracy: 0.9912 - loss: 0.0354 - val_accuracy: 0.9963 - val_loss: 0.0211\n",
      "Epoch 30/100\n",
      "\u001b[1m120/120\u001b[0m \u001b[32m━━━━━━━━━━━━━━━━━━━━\u001b[0m\u001b[37m\u001b[0m \u001b[1m0s\u001b[0m 3ms/step - accuracy: 0.9910 - loss: 0.0324 - val_accuracy: 0.9869 - val_loss: 0.0425\n",
      "Epoch 31/100\n",
      "\u001b[1m120/120\u001b[0m \u001b[32m━━━━━━━━━━━━━━━━━━━━\u001b[0m\u001b[37m\u001b[0m \u001b[1m0s\u001b[0m 3ms/step - accuracy: 0.9866 - loss: 0.0445 - val_accuracy: 0.9885 - val_loss: 0.0309\n",
      "Epoch 32/100\n",
      "\u001b[1m120/120\u001b[0m \u001b[32m━━━━━━━━━━━━━━━━━━━━\u001b[0m\u001b[37m\u001b[0m \u001b[1m0s\u001b[0m 3ms/step - accuracy: 0.9898 - loss: 0.0324 - val_accuracy: 0.8789 - val_loss: 0.2749\n",
      "Epoch 33/100\n",
      "\u001b[1m120/120\u001b[0m \u001b[32m━━━━━━━━━━━━━━━━━━━━\u001b[0m\u001b[37m\u001b[0m \u001b[1m0s\u001b[0m 3ms/step - accuracy: 0.9912 - loss: 0.0356 - val_accuracy: 0.9869 - val_loss: 0.0323\n",
      "Epoch 34/100\n",
      "\u001b[1m120/120\u001b[0m \u001b[32m━━━━━━━━━━━━━━━━━━━━\u001b[0m\u001b[37m\u001b[0m \u001b[1m0s\u001b[0m 3ms/step - accuracy: 0.9905 - loss: 0.0336 - val_accuracy: 0.9942 - val_loss: 0.0266\n",
      "Epoch 35/100\n",
      "\u001b[1m120/120\u001b[0m \u001b[32m━━━━━━━━━━━━━━━━━━━━\u001b[0m\u001b[37m\u001b[0m \u001b[1m0s\u001b[0m 3ms/step - accuracy: 0.9778 - loss: 0.0579 - val_accuracy: 0.9906 - val_loss: 0.0277\n",
      "Epoch 36/100\n",
      "\u001b[1m120/120\u001b[0m \u001b[32m━━━━━━━━━━━━━━━━━━━━\u001b[0m\u001b[37m\u001b[0m \u001b[1m0s\u001b[0m 3ms/step - accuracy: 0.9919 - loss: 0.0279 - val_accuracy: 0.9937 - val_loss: 0.0235\n",
      "Epoch 37/100\n",
      "\u001b[1m120/120\u001b[0m \u001b[32m━━━━━━━━━━━━━━━━━━━━\u001b[0m\u001b[37m\u001b[0m \u001b[1m0s\u001b[0m 3ms/step - accuracy: 0.9926 - loss: 0.0292 - val_accuracy: 0.9953 - val_loss: 0.0203\n",
      "Epoch 38/100\n",
      "\u001b[1m120/120\u001b[0m \u001b[32m━━━━━━━━━━━━━━━━━━━━\u001b[0m\u001b[37m\u001b[0m \u001b[1m0s\u001b[0m 3ms/step - accuracy: 0.9908 - loss: 0.0320 - val_accuracy: 0.9921 - val_loss: 0.0253\n",
      "Epoch 39/100\n",
      "\u001b[1m120/120\u001b[0m \u001b[32m━━━━━━━━━━━━━━━━━━━━\u001b[0m\u001b[37m\u001b[0m \u001b[1m0s\u001b[0m 3ms/step - accuracy: 0.9942 - loss: 0.0255 - val_accuracy: 0.9906 - val_loss: 0.0264\n",
      "Epoch 40/100\n",
      "\u001b[1m120/120\u001b[0m \u001b[32m━━━━━━━━━━━━━━━━━━━━\u001b[0m\u001b[37m\u001b[0m \u001b[1m0s\u001b[0m 3ms/step - accuracy: 0.9925 - loss: 0.0238 - val_accuracy: 0.9785 - val_loss: 0.0939\n",
      "Epoch 41/100\n",
      "\u001b[1m120/120\u001b[0m \u001b[32m━━━━━━━━━━━━━━━━━━━━\u001b[0m\u001b[37m\u001b[0m \u001b[1m0s\u001b[0m 3ms/step - accuracy: 0.9874 - loss: 0.0413 - val_accuracy: 0.9937 - val_loss: 0.0213\n",
      "Epoch 42/100\n",
      "\u001b[1m120/120\u001b[0m \u001b[32m━━━━━━━━━━━━━━━━━━━━\u001b[0m\u001b[37m\u001b[0m \u001b[1m0s\u001b[0m 3ms/step - accuracy: 0.9901 - loss: 0.0333 - val_accuracy: 0.9869 - val_loss: 0.0312\n",
      "Epoch 43/100\n",
      "\u001b[1m120/120\u001b[0m \u001b[32m━━━━━━━━━━━━━━━━━━━━\u001b[0m\u001b[37m\u001b[0m \u001b[1m0s\u001b[0m 3ms/step - accuracy: 0.9903 - loss: 0.0263 - val_accuracy: 0.9743 - val_loss: 0.0700\n",
      "Epoch 44/100\n",
      "\u001b[1m120/120\u001b[0m \u001b[32m━━━━━━━━━━━━━━━━━━━━\u001b[0m\u001b[37m\u001b[0m \u001b[1m0s\u001b[0m 3ms/step - accuracy: 0.9891 - loss: 0.0347 - val_accuracy: 0.9686 - val_loss: 0.0689\n",
      "Epoch 45/100\n",
      "\u001b[1m120/120\u001b[0m \u001b[32m━━━━━━━━━━━━━━━━━━━━\u001b[0m\u001b[37m\u001b[0m \u001b[1m0s\u001b[0m 3ms/step - accuracy: 0.9825 - loss: 0.0471 - val_accuracy: 0.9879 - val_loss: 0.0290\n",
      "Epoch 46/100\n",
      "\u001b[1m120/120\u001b[0m \u001b[32m━━━━━━━━━━━━━━━━━━━━\u001b[0m\u001b[37m\u001b[0m \u001b[1m0s\u001b[0m 3ms/step - accuracy: 0.9881 - loss: 0.0397 - val_accuracy: 0.9942 - val_loss: 0.0198\n",
      "Epoch 47/100\n",
      "\u001b[1m120/120\u001b[0m \u001b[32m━━━━━━━━━━━━━━━━━━━━\u001b[0m\u001b[37m\u001b[0m \u001b[1m0s\u001b[0m 3ms/step - accuracy: 0.9927 - loss: 0.0254 - val_accuracy: 0.9937 - val_loss: 0.0251\n",
      "Epoch 48/100\n",
      "\u001b[1m120/120\u001b[0m \u001b[32m━━━━━━━━━━━━━━━━━━━━\u001b[0m\u001b[37m\u001b[0m \u001b[1m0s\u001b[0m 3ms/step - accuracy: 0.9924 - loss: 0.0244 - val_accuracy: 0.9953 - val_loss: 0.0206\n",
      "Epoch 49/100\n",
      "\u001b[1m120/120\u001b[0m \u001b[32m━━━━━━━━━━━━━━━━━━━━\u001b[0m\u001b[37m\u001b[0m \u001b[1m0s\u001b[0m 3ms/step - accuracy: 0.9899 - loss: 0.0289 - val_accuracy: 0.9958 - val_loss: 0.0197\n",
      "Epoch 50/100\n",
      "\u001b[1m120/120\u001b[0m \u001b[32m━━━━━━━━━━━━━━━━━━━━\u001b[0m\u001b[37m\u001b[0m \u001b[1m0s\u001b[0m 3ms/step - accuracy: 0.9843 - loss: 0.0503 - val_accuracy: 0.9942 - val_loss: 0.0381\n",
      "Epoch 51/100\n",
      "\u001b[1m120/120\u001b[0m \u001b[32m━━━━━━━━━━━━━━━━━━━━\u001b[0m\u001b[37m\u001b[0m \u001b[1m0s\u001b[0m 3ms/step - accuracy: 0.9894 - loss: 0.0407 - val_accuracy: 0.9927 - val_loss: 0.0210\n",
      "Epoch 52/100\n",
      "\u001b[1m120/120\u001b[0m \u001b[32m━━━━━━━━━━━━━━━━━━━━\u001b[0m\u001b[37m\u001b[0m \u001b[1m0s\u001b[0m 3ms/step - accuracy: 0.9922 - loss: 0.0284 - val_accuracy: 0.9879 - val_loss: 0.0299\n",
      "Epoch 53/100\n",
      "\u001b[1m120/120\u001b[0m \u001b[32m━━━━━━━━━━━━━━━━━━━━\u001b[0m\u001b[37m\u001b[0m \u001b[1m0s\u001b[0m 3ms/step - accuracy: 0.9934 - loss: 0.0251 - val_accuracy: 0.9969 - val_loss: 0.0158\n",
      "Epoch 54/100\n",
      "\u001b[1m120/120\u001b[0m \u001b[32m━━━━━━━━━━━━━━━━━━━━\u001b[0m\u001b[37m\u001b[0m \u001b[1m0s\u001b[0m 3ms/step - accuracy: 0.9928 - loss: 0.0295 - val_accuracy: 0.9969 - val_loss: 0.0177\n",
      "Epoch 55/100\n",
      "\u001b[1m120/120\u001b[0m \u001b[32m━━━━━━━━━━━━━━━━━━━━\u001b[0m\u001b[37m\u001b[0m \u001b[1m0s\u001b[0m 3ms/step - accuracy: 0.9927 - loss: 0.0302 - val_accuracy: 0.9958 - val_loss: 0.0161\n",
      "Epoch 56/100\n",
      "\u001b[1m120/120\u001b[0m \u001b[32m━━━━━━━━━━━━━━━━━━━━\u001b[0m\u001b[37m\u001b[0m \u001b[1m0s\u001b[0m 3ms/step - accuracy: 0.9915 - loss: 0.0282 - val_accuracy: 0.9979 - val_loss: 0.0133\n",
      "Epoch 57/100\n",
      "\u001b[1m120/120\u001b[0m \u001b[32m━━━━━━━━━━━━━━━━━━━━\u001b[0m\u001b[37m\u001b[0m \u001b[1m0s\u001b[0m 3ms/step - accuracy: 0.9924 - loss: 0.0282 - val_accuracy: 0.9916 - val_loss: 0.0222\n",
      "Epoch 58/100\n",
      "\u001b[1m120/120\u001b[0m \u001b[32m━━━━━━━━━━━━━━━━━━━━\u001b[0m\u001b[37m\u001b[0m \u001b[1m0s\u001b[0m 3ms/step - accuracy: 0.9900 - loss: 0.0307 - val_accuracy: 0.9969 - val_loss: 0.0187\n",
      "Epoch 59/100\n",
      "\u001b[1m120/120\u001b[0m \u001b[32m━━━━━━━━━━━━━━━━━━━━\u001b[0m\u001b[37m\u001b[0m \u001b[1m0s\u001b[0m 3ms/step - accuracy: 0.9894 - loss: 0.0318 - val_accuracy: 0.9979 - val_loss: 0.0157\n",
      "Epoch 60/100\n",
      "\u001b[1m120/120\u001b[0m \u001b[32m━━━━━━━━━━━━━━━━━━━━\u001b[0m\u001b[37m\u001b[0m \u001b[1m0s\u001b[0m 3ms/step - accuracy: 0.9902 - loss: 0.0297 - val_accuracy: 0.9591 - val_loss: 0.1140\n",
      "Epoch 61/100\n",
      "\u001b[1m120/120\u001b[0m \u001b[32m━━━━━━━━━━━━━━━━━━━━\u001b[0m\u001b[37m\u001b[0m \u001b[1m0s\u001b[0m 3ms/step - accuracy: 0.9883 - loss: 0.0368 - val_accuracy: 0.9900 - val_loss: 0.0255\n",
      "Epoch 62/100\n",
      "\u001b[1m120/120\u001b[0m \u001b[32m━━━━━━━━━━━━━━━━━━━━\u001b[0m\u001b[37m\u001b[0m \u001b[1m0s\u001b[0m 3ms/step - accuracy: 0.9944 - loss: 0.0210 - val_accuracy: 0.7353 - val_loss: 0.7681\n",
      "Epoch 63/100\n",
      "\u001b[1m120/120\u001b[0m \u001b[32m━━━━━━━━━━━━━━━━━━━━\u001b[0m\u001b[37m\u001b[0m \u001b[1m0s\u001b[0m 3ms/step - accuracy: 0.9941 - loss: 0.0232 - val_accuracy: 0.9937 - val_loss: 0.0167\n",
      "Epoch 64/100\n",
      "\u001b[1m120/120\u001b[0m \u001b[32m━━━━━━━━━━━━━━━━━━━━\u001b[0m\u001b[37m\u001b[0m \u001b[1m0s\u001b[0m 3ms/step - accuracy: 0.9880 - loss: 0.0345 - val_accuracy: 0.9843 - val_loss: 0.0634\n",
      "Epoch 65/100\n",
      "\u001b[1m120/120\u001b[0m \u001b[32m━━━━━━━━━━━━━━━━━━━━\u001b[0m\u001b[37m\u001b[0m \u001b[1m0s\u001b[0m 3ms/step - accuracy: 0.9901 - loss: 0.0327 - val_accuracy: 0.9801 - val_loss: 0.0609\n",
      "Epoch 66/100\n",
      "\u001b[1m120/120\u001b[0m \u001b[32m━━━━━━━━━━━━━━━━━━━━\u001b[0m\u001b[37m\u001b[0m \u001b[1m0s\u001b[0m 3ms/step - accuracy: 0.9925 - loss: 0.0300 - val_accuracy: 0.9979 - val_loss: 0.0139\n",
      "Epoch 67/100\n",
      "\u001b[1m120/120\u001b[0m \u001b[32m━━━━━━━━━━━━━━━━━━━━\u001b[0m\u001b[37m\u001b[0m \u001b[1m0s\u001b[0m 3ms/step - accuracy: 0.9930 - loss: 0.0237 - val_accuracy: 0.9958 - val_loss: 0.0159\n",
      "Epoch 68/100\n",
      "\u001b[1m120/120\u001b[0m \u001b[32m━━━━━━━━━━━━━━━━━━━━\u001b[0m\u001b[37m\u001b[0m \u001b[1m0s\u001b[0m 3ms/step - accuracy: 0.9919 - loss: 0.0250 - val_accuracy: 0.9806 - val_loss: 0.0549\n",
      "Epoch 69/100\n",
      "\u001b[1m120/120\u001b[0m \u001b[32m━━━━━━━━━━━━━━━━━━━━\u001b[0m\u001b[37m\u001b[0m \u001b[1m0s\u001b[0m 3ms/step - accuracy: 0.9881 - loss: 0.0355 - val_accuracy: 0.9990 - val_loss: 0.0147\n",
      "Epoch 70/100\n",
      "\u001b[1m120/120\u001b[0m \u001b[32m━━━━━━━━━━━━━━━━━━━━\u001b[0m\u001b[37m\u001b[0m \u001b[1m0s\u001b[0m 3ms/step - accuracy: 0.9929 - loss: 0.0262 - val_accuracy: 0.9979 - val_loss: 0.0176\n",
      "Epoch 71/100\n",
      "\u001b[1m120/120\u001b[0m \u001b[32m━━━━━━━━━━━━━━━━━━━━\u001b[0m\u001b[37m\u001b[0m \u001b[1m0s\u001b[0m 3ms/step - accuracy: 0.9920 - loss: 0.0266 - val_accuracy: 0.9785 - val_loss: 0.0691\n",
      "Epoch 72/100\n",
      "\u001b[1m120/120\u001b[0m \u001b[32m━━━━━━━━━━━━━━━━━━━━\u001b[0m\u001b[37m\u001b[0m \u001b[1m0s\u001b[0m 3ms/step - accuracy: 0.9891 - loss: 0.0321 - val_accuracy: 0.9785 - val_loss: 0.0635\n",
      "Epoch 73/100\n",
      "\u001b[1m120/120\u001b[0m \u001b[32m━━━━━━━━━━━━━━━━━━━━\u001b[0m\u001b[37m\u001b[0m \u001b[1m0s\u001b[0m 3ms/step - accuracy: 0.9892 - loss: 0.0311 - val_accuracy: 0.9895 - val_loss: 0.0300\n",
      "Epoch 74/100\n",
      "\u001b[1m120/120\u001b[0m \u001b[32m━━━━━━━━━━━━━━━━━━━━\u001b[0m\u001b[37m\u001b[0m \u001b[1m0s\u001b[0m 3ms/step - accuracy: 0.9917 - loss: 0.0304 - val_accuracy: 0.9853 - val_loss: 0.0447\n",
      "Epoch 75/100\n",
      "\u001b[1m120/120\u001b[0m \u001b[32m━━━━━━━━━━━━━━━━━━━━\u001b[0m\u001b[37m\u001b[0m \u001b[1m0s\u001b[0m 3ms/step - accuracy: 0.9918 - loss: 0.0287 - val_accuracy: 0.9942 - val_loss: 0.0185\n",
      "Epoch 76/100\n",
      "\u001b[1m120/120\u001b[0m \u001b[32m━━━━━━━━━━━━━━━━━━━━\u001b[0m\u001b[37m\u001b[0m \u001b[1m0s\u001b[0m 3ms/step - accuracy: 0.9878 - loss: 0.0333 - val_accuracy: 0.9963 - val_loss: 0.0159\n",
      "Epoch 77/100\n",
      "\u001b[1m120/120\u001b[0m \u001b[32m━━━━━━━━━━━━━━━━━━━━\u001b[0m\u001b[37m\u001b[0m \u001b[1m0s\u001b[0m 3ms/step - accuracy: 0.9935 - loss: 0.0234 - val_accuracy: 0.9843 - val_loss: 0.0522\n",
      "Epoch 78/100\n",
      "\u001b[1m120/120\u001b[0m \u001b[32m━━━━━━━━━━━━━━━━━━━━\u001b[0m\u001b[37m\u001b[0m \u001b[1m0s\u001b[0m 3ms/step - accuracy: 0.9905 - loss: 0.0302 - val_accuracy: 0.9948 - val_loss: 0.0370\n",
      "Epoch 79/100\n",
      "\u001b[1m120/120\u001b[0m \u001b[32m━━━━━━━━━━━━━━━━━━━━\u001b[0m\u001b[37m\u001b[0m \u001b[1m0s\u001b[0m 3ms/step - accuracy: 0.9873 - loss: 0.0349 - val_accuracy: 0.9937 - val_loss: 0.0246\n",
      "Epoch 80/100\n",
      "\u001b[1m120/120\u001b[0m \u001b[32m━━━━━━━━━━━━━━━━━━━━\u001b[0m\u001b[37m\u001b[0m \u001b[1m0s\u001b[0m 3ms/step - accuracy: 0.9901 - loss: 0.0279 - val_accuracy: 0.9885 - val_loss: 0.0310\n",
      "Epoch 81/100\n",
      "\u001b[1m120/120\u001b[0m \u001b[32m━━━━━━━━━━━━━━━━━━━━\u001b[0m\u001b[37m\u001b[0m \u001b[1m0s\u001b[0m 3ms/step - accuracy: 0.9913 - loss: 0.0278 - val_accuracy: 0.9916 - val_loss: 0.0275\n",
      "Epoch 82/100\n",
      "\u001b[1m120/120\u001b[0m \u001b[32m━━━━━━━━━━━━━━━━━━━━\u001b[0m\u001b[37m\u001b[0m \u001b[1m0s\u001b[0m 3ms/step - accuracy: 0.9926 - loss: 0.0291 - val_accuracy: 0.9843 - val_loss: 0.0611\n",
      "Epoch 83/100\n",
      "\u001b[1m120/120\u001b[0m \u001b[32m━━━━━━━━━━━━━━━━━━━━\u001b[0m\u001b[37m\u001b[0m \u001b[1m0s\u001b[0m 3ms/step - accuracy: 0.9890 - loss: 0.0346 - val_accuracy: 0.9848 - val_loss: 0.0527\n",
      "Epoch 84/100\n",
      "\u001b[1m120/120\u001b[0m \u001b[32m━━━━━━━━━━━━━━━━━━━━\u001b[0m\u001b[37m\u001b[0m \u001b[1m0s\u001b[0m 3ms/step - accuracy: 0.9911 - loss: 0.0262 - val_accuracy: 0.9848 - val_loss: 0.0653\n",
      "Epoch 85/100\n",
      "\u001b[1m120/120\u001b[0m \u001b[32m━━━━━━━━━━━━━━━━━━━━\u001b[0m\u001b[37m\u001b[0m \u001b[1m0s\u001b[0m 3ms/step - accuracy: 0.9906 - loss: 0.0329 - val_accuracy: 0.9900 - val_loss: 0.0243\n",
      "Epoch 86/100\n",
      "\u001b[1m120/120\u001b[0m \u001b[32m━━━━━━━━━━━━━━━━━━━━\u001b[0m\u001b[37m\u001b[0m \u001b[1m0s\u001b[0m 3ms/step - accuracy: 0.9930 - loss: 0.0267 - val_accuracy: 0.9869 - val_loss: 0.0325\n",
      "Epoch 87/100\n",
      "\u001b[1m120/120\u001b[0m \u001b[32m━━━━━━━━━━━━━━━━━━━━\u001b[0m\u001b[37m\u001b[0m \u001b[1m0s\u001b[0m 3ms/step - accuracy: 0.9864 - loss: 0.0417 - val_accuracy: 0.9890 - val_loss: 0.0249\n",
      "Epoch 88/100\n",
      "\u001b[1m120/120\u001b[0m \u001b[32m━━━━━━━━━━━━━━━━━━━━\u001b[0m\u001b[37m\u001b[0m \u001b[1m0s\u001b[0m 3ms/step - accuracy: 0.9902 - loss: 0.0333 - val_accuracy: 0.9874 - val_loss: 0.0379\n",
      "Epoch 89/100\n",
      "\u001b[1m120/120\u001b[0m \u001b[32m━━━━━━━━━━━━━━━━━━━━\u001b[0m\u001b[37m\u001b[0m \u001b[1m0s\u001b[0m 3ms/step - accuracy: 0.9876 - loss: 0.0375 - val_accuracy: 0.9958 - val_loss: 0.0186\n",
      "Epoch 90/100\n",
      "\u001b[1m120/120\u001b[0m \u001b[32m━━━━━━━━━━━━━━━━━━━━\u001b[0m\u001b[37m\u001b[0m \u001b[1m0s\u001b[0m 3ms/step - accuracy: 0.9894 - loss: 0.0301 - val_accuracy: 0.9864 - val_loss: 0.0415\n",
      "Epoch 91/100\n",
      "\u001b[1m120/120\u001b[0m \u001b[32m━━━━━━━━━━━━━━━━━━━━\u001b[0m\u001b[37m\u001b[0m \u001b[1m0s\u001b[0m 3ms/step - accuracy: 0.9901 - loss: 0.0299 - val_accuracy: 0.9937 - val_loss: 0.0187\n",
      "Epoch 92/100\n",
      "\u001b[1m120/120\u001b[0m \u001b[32m━━━━━━━━━━━━━━━━━━━━\u001b[0m\u001b[37m\u001b[0m \u001b[1m0s\u001b[0m 3ms/step - accuracy: 0.9901 - loss: 0.0263 - val_accuracy: 0.9827 - val_loss: 0.0423\n",
      "Epoch 93/100\n",
      "\u001b[1m120/120\u001b[0m \u001b[32m━━━━━━━━━━━━━━━━━━━━\u001b[0m\u001b[37m\u001b[0m \u001b[1m0s\u001b[0m 3ms/step - accuracy: 0.9921 - loss: 0.0252 - val_accuracy: 0.9963 - val_loss: 0.0246\n",
      "Epoch 94/100\n",
      "\u001b[1m120/120\u001b[0m \u001b[32m━━━━━━━━━━━━━━━━━━━━\u001b[0m\u001b[37m\u001b[0m \u001b[1m0s\u001b[0m 3ms/step - accuracy: 0.9906 - loss: 0.0282 - val_accuracy: 0.9963 - val_loss: 0.0151\n",
      "Epoch 95/100\n",
      "\u001b[1m120/120\u001b[0m \u001b[32m━━━━━━━━━━━━━━━━━━━━\u001b[0m\u001b[37m\u001b[0m \u001b[1m0s\u001b[0m 3ms/step - accuracy: 0.9930 - loss: 0.0248 - val_accuracy: 0.9864 - val_loss: 0.0317\n",
      "Epoch 96/100\n",
      "\u001b[1m120/120\u001b[0m \u001b[32m━━━━━━━━━━━━━━━━━━━━\u001b[0m\u001b[37m\u001b[0m \u001b[1m0s\u001b[0m 3ms/step - accuracy: 0.9920 - loss: 0.0278 - val_accuracy: 0.9958 - val_loss: 0.0155\n",
      "Epoch 97/100\n",
      "\u001b[1m120/120\u001b[0m \u001b[32m━━━━━━━━━━━━━━━━━━━━\u001b[0m\u001b[37m\u001b[0m \u001b[1m0s\u001b[0m 3ms/step - accuracy: 0.9920 - loss: 0.0253 - val_accuracy: 0.9916 - val_loss: 0.0266\n",
      "Epoch 98/100\n",
      "\u001b[1m120/120\u001b[0m \u001b[32m━━━━━━━━━━━━━━━━━━━━\u001b[0m\u001b[37m\u001b[0m \u001b[1m0s\u001b[0m 3ms/step - accuracy: 0.9894 - loss: 0.0327 - val_accuracy: 0.9942 - val_loss: 0.0304\n",
      "Epoch 99/100\n",
      "\u001b[1m120/120\u001b[0m \u001b[32m━━━━━━━━━━━━━━━━━━━━\u001b[0m\u001b[37m\u001b[0m \u001b[1m0s\u001b[0m 3ms/step - accuracy: 0.9889 - loss: 0.0306 - val_accuracy: 0.9879 - val_loss: 0.0398\n",
      "Epoch 100/100\n",
      "\u001b[1m120/120\u001b[0m \u001b[32m━━━━━━━━━━━━━━━━━━━━\u001b[0m\u001b[37m\u001b[0m \u001b[1m0s\u001b[0m 3ms/step - accuracy: 0.9934 - loss: 0.0188 - val_accuracy: 0.9984 - val_loss: 0.0131\n"
     ]
    }
   ],
   "source": [
    "model.compile(optimizer=Adam(learning_rate=0.001), \n",
    "              loss=\"binary_crossentropy\", \n",
    "              metrics=[\"accuracy\"])\n",
    "\n",
    "fit = model.fit(scaler_X_train , y_train , epochs=100 , batch_size=64 , validation_data=(scaler_X_test , y_test))"
   ]
  },
  {
   "cell_type": "code",
   "execution_count": 16,
   "id": "c069b696",
   "metadata": {
    "execution": {
     "iopub.execute_input": "2025-03-04T20:59:45.608050Z",
     "iopub.status.busy": "2025-03-04T20:59:45.607722Z",
     "iopub.status.idle": "2025-03-04T20:59:46.333222Z",
     "shell.execute_reply": "2025-03-04T20:59:46.332052Z"
    },
    "papermill": {
     "duration": 0.775823,
     "end_time": "2025-03-04T20:59:46.334688",
     "exception": false,
     "start_time": "2025-03-04T20:59:45.558865",
     "status": "completed"
    },
    "tags": []
   },
   "outputs": [
    {
     "name": "stdout",
     "output_type": "stream",
     "text": [
      "\u001b[1m60/60\u001b[0m \u001b[32m━━━━━━━━━━━━━━━━━━━━\u001b[0m\u001b[37m\u001b[0m \u001b[1m0s\u001b[0m 2ms/step\n"
     ]
    },
    {
     "data": {
      "image/png": "[encoded data removed]",
      "text/plain": [
       "<Figure size 640x480 with 1 Axes>"
      ]
     },
     "metadata": {},
     "output_type": "display_data"
    },
    {
     "data": {
      "image/png": "[encoded data removed]",
      "text/plain": [
       "<Figure size 640x480 with 1 Axes>"
      ]
     },
     "metadata": {},
     "output_type": "display_data"
    },
    {
     "name": "stdout",
     "output_type": "stream",
     "text": [
      "              precision    recall  f1-score   support\n",
      "\n",
      "           0       1.00      1.00      1.00      1275\n",
      "           1       1.00      1.00      1.00       633\n",
      "\n",
      "   micro avg       1.00      1.00      1.00      1908\n",
      "   macro avg       1.00      1.00      1.00      1908\n",
      "weighted avg       1.00      1.00      1.00      1908\n",
      " samples avg       1.00      1.00      1.00      1908\n",
      "\n"
     ]
    }
   ],
   "source": [
    "pred = model.predict(scaler_X_test)\n",
    "pred = (pred > 0.5).astype(int)  \n",
    "\n",
    "# LOSS\n",
    "plt.plot(fit.history['accuracy'], label='Training Loss')\n",
    "plt.plot(fit.history['val_accuracy'], label='Validation Loss')\n",
    "plt.title('Loss during Training')\n",
    "plt.xlabel('Epochs')\n",
    "plt.ylabel('Loss')\n",
    "plt.legend()\n",
    "plt.show()\n",
    "\n",
    "# Accuracy\n",
    "plt.plot(fit.history['loss'], label='Training Accuracy')\n",
    "plt.plot(fit.history['val_loss'], label='Validation Accuracy')\n",
    "plt.title('Accuracy during Training')\n",
    "plt.xlabel('Epochs')\n",
    "plt.ylabel('Accuracy')\n",
    "plt.legend()\n",
    "plt.show()\n",
    "\n",
    "print(classification_report(y_test , pred))\n"
   ]
  },
  {
   "cell_type": "markdown",
   "id": "502dd055",
   "metadata": {
    "papermill": {
     "duration": 0.049573,
     "end_time": "2025-03-04T20:59:46.433894",
     "exception": false,
     "start_time": "2025-03-04T20:59:46.384321",
     "status": "completed"
    },
    "tags": []
   },
   "source": [
    "# L1 or L2 Regularization?\n",
    "\n",
    "* L1 Regularization (Lasso Regularization):\n",
    "\n",
    "L1 regularization introduces sparsity to the weights, meaning it drives some weights to zero.\n",
    "\n",
    "This results in fewer neurons or features being selected, as the zeroed-out weights effectively disable the contribution of those neurons or features. L1 regularization is useful when feature selection is needed, as it helps simplify the model by zeroing out the weights of unnecessary features or neurons.\n",
    "\n",
    "* L2 Regularization (Ridge Regularization):\n",
    "  \n",
    "L2 regularization tries to shrink the weights, but it does not make them exactly zero.\n",
    "\n",
    "This keeps the weights small, which helps the model become more generalized.\n",
    "\n",
    "L2 regularization is typically used when there are many features, as it ensures all features are learned, but the weights are kept from growing too large. L2 also helps prevent overfitting of the model.\n",
    "\n",
    "## When to Use Which?\n",
    "\n",
    "* L1 Regularization:\n",
    "\n",
    "If you want to perform feature selection and remove unnecessary features from the model, L1 is the better choice.\n",
    "\n",
    "It is also useful when working with large, sparse datasets.\n",
    "\n",
    "You can use L1 regularization when you believe some features are not contributing significantly.\n",
    "\n",
    "* L2 Regularization:\n",
    "\n",
    "When dealing with larger datasets and more features, and you want to learn the contribution of each feature while keeping the weights small, L2 regularization is beneficial.\n",
    "\n",
    "It is more commonly used to prevent overfitting.\n",
    "\n",
    "Use L2 when you want most features to contribute to the model, but without their magnitudes becoming too large.\n",
    "\n",
    "from tensorflow.keras.regularizers import l1, l2, l1_l2\n",
    "\n",
    "\n",
    "L1: Use when you want to reduce the number of features or eliminate some entirely.\n",
    "\n",
    "L2: Use when you want to shrink the weights and create a more generalized model.\n",
    "\n",
    "L1_L2: Use when you want to apply both types of regularization.\n",
    "\n",
    "Both regularization types help prevent overfitting, but which one you should use depends on the specific requirements of your model."
   ]
  },
  {
   "cell_type": "code",
   "execution_count": 17,
   "id": "82ded92a",
   "metadata": {
    "execution": {
     "iopub.execute_input": "2025-03-04T20:59:46.535042Z",
     "iopub.status.busy": "2025-03-04T20:59:46.534711Z",
     "iopub.status.idle": "2025-03-04T20:59:46.538033Z",
     "shell.execute_reply": "2025-03-04T20:59:46.537260Z"
    },
    "papermill": {
     "duration": 0.05574,
     "end_time": "2025-03-04T20:59:46.539489",
     "exception": false,
     "start_time": "2025-03-04T20:59:46.483749",
     "status": "completed"
    },
    "tags": []
   },
   "outputs": [],
   "source": [
    "# from tensorflow.keras.regularizers import l1, l2, l1_l2\n",
    "\n",
    "\n",
    "# Dense(64, activation='relu', kernel_regularizer=l1(0.01))  # L1 \n",
    "\n",
    "# # L2\n",
    "# Dense(64, activation='relu', kernel_regularizer=l2(0.01))  # L2 \n",
    "\n",
    "# # L1 + L2 \n",
    "# Dense(64, activation='relu', kernel_regularizer=l1_l2(l1=0.01, l2=0.01))  # L1 + L2 "
   ]
  },
  {
   "cell_type": "markdown",
   "id": "e38964ac",
   "metadata": {
    "papermill": {
     "duration": 0.0491,
     "end_time": "2025-03-04T20:59:46.638561",
     "exception": false,
     "start_time": "2025-03-04T20:59:46.589461",
     "status": "completed"
    },
    "tags": []
   },
   "source": [
    "# Conclusion:\n",
    "\n",
    "* L1: Use when you want to reduce the number of features or eliminate some entirely.\n",
    "\n",
    "* L2: Use when you want to shrink the weights and create a more generalized model.\n",
    "\n",
    "* L1_L2: Use when you want to apply both types of regularization.\n",
    "\n",
    "Both regularization types help prevent overfitting, but which one you should use depends on the specific requirements of your model.\n",
    "\n"
   ]
  },
  {
   "cell_type": "code",
   "execution_count": null,
   "id": "501f4192",
   "metadata": {
    "papermill": {
     "duration": 0.050245,
     "end_time": "2025-03-04T20:59:46.738306",
     "exception": false,
     "start_time": "2025-03-04T20:59:46.688061",
     "status": "completed"
    },
    "tags": []
   },
   "outputs": [],
   "source": []
  }
 ],
 "metadata": {
  "kaggle": {
   "accelerator": "none",
   "dataSources": [
    {
     "datasetId": 6704716,
     "sourceId": 10802370,
     "sourceType": "datasetVersion"
    }
   ],
   "dockerImageVersionId": 30918,
   "isGpuEnabled": false,
   "isInternetEnabled": true,
   "language": "python",
   "sourceType": "notebook"
  },
  "kernelspec": {
   "display_name": "Python 3",
   "language": "python",
   "name": "python3"
  },
  "language_info": {
   "codemirror_mode": {
    "name": "ipython",
    "version": 3
   },
   "file_extension": ".py",
   "mimetype": "text/x-python",
   "name": "python",
   "nbconvert_exporter": "python",
   "pygments_lexer": "ipython3",
   "version": "3.10.12"
  },
  "papermill": {
   "default_parameters": {},
   "duration": 66.083546,
   "end_time": "2025-03-04T20:59:48.411078",
   "environment_variables": {},
   "exception": null,
   "input_path": "__notebook__.ipynb",
   "output_path": "__notebook__.ipynb",
   "parameters": {},
   "start_time": "2025-03-04T20:58:42.327532",
   "version": "2.6.0"
  }
 },
 "nbformat": 4,
 "nbformat_minor": 5
}
